{
 "cells": [
  {
   "cell_type": "code",
   "execution_count": 1,
   "id": "c521d241",
   "metadata": {},
   "outputs": [
    {
     "name": "stdout",
     "output_type": "stream",
     "text": [
      "Requirement already satisfied: openpyxl in c:\\users\\kapeesh shukla\\appdata\\local\\programs\\python\\python310\\lib\\site-packages (3.0.10)\n",
      "Requirement already satisfied: et-xmlfile in c:\\users\\kapeesh shukla\\appdata\\local\\programs\\python\\python310\\lib\\site-packages (from openpyxl) (1.1.0)\n"
     ]
    }
   ],
   "source": [
    "!pip install openpyxl"
   ]
  },
  {
   "cell_type": "code",
   "execution_count": 2,
   "id": "4beb9f70",
   "metadata": {},
   "outputs": [
    {
     "name": "stdout",
     "output_type": "stream",
     "text": [
      "Requirement already satisfied: pandas in c:\\users\\kapeesh shukla\\appdata\\local\\programs\\python\\python310\\lib\\site-packages (1.4.4)\n",
      "Requirement already satisfied: python-dateutil>=2.8.1 in c:\\users\\kapeesh shukla\\appdata\\local\\programs\\python\\python310\\lib\\site-packages (from pandas) (2.8.2)\n",
      "Requirement already satisfied: pytz>=2020.1 in c:\\users\\kapeesh shukla\\appdata\\local\\programs\\python\\python310\\lib\\site-packages (from pandas) (2022.2.1)\n",
      "Requirement already satisfied: numpy>=1.21.0 in c:\\users\\kapeesh shukla\\appdata\\local\\programs\\python\\python310\\lib\\site-packages (from pandas) (1.23.2)\n",
      "Requirement already satisfied: six>=1.5 in c:\\users\\kapeesh shukla\\appdata\\local\\programs\\python\\python310\\lib\\site-packages (from python-dateutil>=2.8.1->pandas) (1.16.0)\n"
     ]
    }
   ],
   "source": [
    "!Pip install pandas"
   ]
  },
  {
   "cell_type": "code",
   "execution_count": 3,
   "id": "acfa4178",
   "metadata": {},
   "outputs": [],
   "source": [
    "import pandas as pd"
   ]
  },
  {
   "cell_type": "code",
   "execution_count": 116,
   "id": "84b76764",
   "metadata": {},
   "outputs": [
    {
     "data": {
      "text/plain": [
       "'C:\\\\Users\\\\kapeesh shukla'"
      ]
     },
     "execution_count": 116,
     "metadata": {},
     "output_type": "execute_result"
    }
   ],
   "source": [
    "pwd"
   ]
  },
  {
   "cell_type": "code",
   "execution_count": 205,
   "id": "ad57753e",
   "metadata": {},
   "outputs": [
    {
     "data": {
      "text/html": [
       "<div>\n",
       "<style scoped>\n",
       "    .dataframe tbody tr th:only-of-type {\n",
       "        vertical-align: middle;\n",
       "    }\n",
       "\n",
       "    .dataframe tbody tr th {\n",
       "        vertical-align: top;\n",
       "    }\n",
       "\n",
       "    .dataframe thead th {\n",
       "        text-align: right;\n",
       "    }\n",
       "</style>\n",
       "<table border=\"1\" class=\"dataframe\">\n",
       "  <thead>\n",
       "    <tr style=\"text-align: right;\">\n",
       "      <th></th>\n",
       "      <th>StationName</th>\n",
       "      <th>1/2/2011</th>\n",
       "      <th>2/2/2011</th>\n",
       "      <th>3/2/2011</th>\n",
       "      <th>4/2/2011</th>\n",
       "      <th>5/2/2011</th>\n",
       "      <th>6/2/2011</th>\n",
       "      <th>7/2/2011</th>\n",
       "      <th>8/2/2011</th>\n",
       "      <th>9/2/2011</th>\n",
       "      <th>...</th>\n",
       "      <th>22/2/2011</th>\n",
       "      <th>23/2/2011</th>\n",
       "      <th>24/2/2011</th>\n",
       "      <th>25/2/2011</th>\n",
       "      <th>26/2/2011</th>\n",
       "      <th>27/2/2011</th>\n",
       "      <th>28/2/2011</th>\n",
       "      <th>elevation (in m)</th>\n",
       "      <th>lat</th>\n",
       "      <th>long</th>\n",
       "    </tr>\n",
       "  </thead>\n",
       "  <tbody>\n",
       "    <tr>\n",
       "      <th>0</th>\n",
       "      <td>Alderley</td>\n",
       "      <td>2.2</td>\n",
       "      <td>2.4</td>\n",
       "      <td>2.4</td>\n",
       "      <td>0.0</td>\n",
       "      <td>0.0</td>\n",
       "      <td>0.6</td>\n",
       "      <td>6.8</td>\n",
       "      <td>1.4</td>\n",
       "      <td>5.0</td>\n",
       "      <td>...</td>\n",
       "      <td>106.4</td>\n",
       "      <td>0.0</td>\n",
       "      <td>3.6</td>\n",
       "      <td>0</td>\n",
       "      <td>0</td>\n",
       "      <td>0</td>\n",
       "      <td>0</td>\n",
       "      <td>39</td>\n",
       "      <td>-27.42</td>\n",
       "      <td>153.00</td>\n",
       "    </tr>\n",
       "    <tr>\n",
       "      <th>1</th>\n",
       "      <td>Eagle Farm Racecourse</td>\n",
       "      <td>2.0</td>\n",
       "      <td>0.0</td>\n",
       "      <td>1.5</td>\n",
       "      <td>0.0</td>\n",
       "      <td>4.5</td>\n",
       "      <td>0.0</td>\n",
       "      <td>2.0</td>\n",
       "      <td>0.0</td>\n",
       "      <td>9.0</td>\n",
       "      <td>...</td>\n",
       "      <td>70.0</td>\n",
       "      <td>0.0</td>\n",
       "      <td>4.0</td>\n",
       "      <td>0</td>\n",
       "      <td>0</td>\n",
       "      <td>0</td>\n",
       "      <td>0</td>\n",
       "      <td>9</td>\n",
       "      <td>-27.43</td>\n",
       "      <td>153.07</td>\n",
       "    </tr>\n",
       "    <tr>\n",
       "      <th>2</th>\n",
       "      <td>Brisbane Botanic Gardens Mt Coot-tha</td>\n",
       "      <td>2.8</td>\n",
       "      <td>1.2</td>\n",
       "      <td>2.2</td>\n",
       "      <td>0.0</td>\n",
       "      <td>0.8</td>\n",
       "      <td>0.0</td>\n",
       "      <td>22.6</td>\n",
       "      <td>9.4</td>\n",
       "      <td>2.2</td>\n",
       "      <td>...</td>\n",
       "      <td>78.2</td>\n",
       "      <td>1.0</td>\n",
       "      <td>1.6</td>\n",
       "      <td>0</td>\n",
       "      <td>0</td>\n",
       "      <td>0</td>\n",
       "      <td>1</td>\n",
       "      <td>65</td>\n",
       "      <td>-27.48</td>\n",
       "      <td>152.98</td>\n",
       "    </tr>\n",
       "    <tr>\n",
       "      <th>3</th>\n",
       "      <td>Brisbane</td>\n",
       "      <td>3.6</td>\n",
       "      <td>3.8</td>\n",
       "      <td>2.0</td>\n",
       "      <td>0.2</td>\n",
       "      <td>2.2</td>\n",
       "      <td>7.0</td>\n",
       "      <td>1.6</td>\n",
       "      <td>6.4</td>\n",
       "      <td>14.2</td>\n",
       "      <td>...</td>\n",
       "      <td>68.8</td>\n",
       "      <td>0.2</td>\n",
       "      <td>3.6</td>\n",
       "      <td>0</td>\n",
       "      <td>0</td>\n",
       "      <td>0</td>\n",
       "      <td>0</td>\n",
       "      <td>8</td>\n",
       "      <td>-27.48</td>\n",
       "      <td>153.04</td>\n",
       "    </tr>\n",
       "    <tr>\n",
       "      <th>4</th>\n",
       "      <td>Clontarf</td>\n",
       "      <td>4.4</td>\n",
       "      <td>3.0</td>\n",
       "      <td>3.4</td>\n",
       "      <td>0.0</td>\n",
       "      <td>0.0</td>\n",
       "      <td>2.2</td>\n",
       "      <td>0.2</td>\n",
       "      <td>1.6</td>\n",
       "      <td>8.6</td>\n",
       "      <td>...</td>\n",
       "      <td>20.8</td>\n",
       "      <td>1.8</td>\n",
       "      <td>1.4</td>\n",
       "      <td>0</td>\n",
       "      <td>0</td>\n",
       "      <td>0</td>\n",
       "      <td>0</td>\n",
       "      <td>29</td>\n",
       "      <td>-27.24</td>\n",
       "      <td>153.09</td>\n",
       "    </tr>\n",
       "    <tr>\n",
       "      <th>5</th>\n",
       "      <td>Capalaba Water Treat</td>\n",
       "      <td>2.6</td>\n",
       "      <td>1.2</td>\n",
       "      <td>2.0</td>\n",
       "      <td>0.0</td>\n",
       "      <td>0.4</td>\n",
       "      <td>7.8</td>\n",
       "      <td>10.8</td>\n",
       "      <td>0.0</td>\n",
       "      <td>24.6</td>\n",
       "      <td>...</td>\n",
       "      <td>26.8</td>\n",
       "      <td>0.4</td>\n",
       "      <td>6.6</td>\n",
       "      <td>0</td>\n",
       "      <td>0</td>\n",
       "      <td>0</td>\n",
       "      <td>0</td>\n",
       "      <td>28</td>\n",
       "      <td>-27.53</td>\n",
       "      <td>153.18</td>\n",
       "    </tr>\n",
       "    <tr>\n",
       "      <th>6</th>\n",
       "      <td>Ormiston College</td>\n",
       "      <td>1.4</td>\n",
       "      <td>0.0</td>\n",
       "      <td>0.0</td>\n",
       "      <td>0.0</td>\n",
       "      <td>0.0</td>\n",
       "      <td>16.0</td>\n",
       "      <td>16.0</td>\n",
       "      <td>0.0</td>\n",
       "      <td>22.0</td>\n",
       "      <td>...</td>\n",
       "      <td>29.6</td>\n",
       "      <td>2.2</td>\n",
       "      <td>6.2</td>\n",
       "      <td>0</td>\n",
       "      <td>0</td>\n",
       "      <td>0</td>\n",
       "      <td>0</td>\n",
       "      <td>37</td>\n",
       "      <td>-27.52</td>\n",
       "      <td>153.25</td>\n",
       "    </tr>\n",
       "    <tr>\n",
       "      <th>7</th>\n",
       "      <td>Toombul Bowls Club</td>\n",
       "      <td>3.0</td>\n",
       "      <td>1.2</td>\n",
       "      <td>3.2</td>\n",
       "      <td>2.2</td>\n",
       "      <td>3.4</td>\n",
       "      <td>0.0</td>\n",
       "      <td>2.0</td>\n",
       "      <td>0.0</td>\n",
       "      <td>18.0</td>\n",
       "      <td>...</td>\n",
       "      <td>64.2</td>\n",
       "      <td>0.0</td>\n",
       "      <td>2.4</td>\n",
       "      <td>0</td>\n",
       "      <td>0</td>\n",
       "      <td>0</td>\n",
       "      <td>0</td>\n",
       "      <td>22</td>\n",
       "      <td>-27.39</td>\n",
       "      <td>153.06</td>\n",
       "    </tr>\n",
       "    <tr>\n",
       "      <th>8</th>\n",
       "      <td>Manly Railway Station</td>\n",
       "      <td>3.0</td>\n",
       "      <td>0.8</td>\n",
       "      <td>0.0</td>\n",
       "      <td>0.0</td>\n",
       "      <td>0.0</td>\n",
       "      <td>8.8</td>\n",
       "      <td>2.6</td>\n",
       "      <td>0.0</td>\n",
       "      <td>0.0</td>\n",
       "      <td>...</td>\n",
       "      <td>49.4</td>\n",
       "      <td>0.0</td>\n",
       "      <td>5.0</td>\n",
       "      <td>0</td>\n",
       "      <td>0</td>\n",
       "      <td>0</td>\n",
       "      <td>0</td>\n",
       "      <td>25</td>\n",
       "      <td>-27.46</td>\n",
       "      <td>153.18</td>\n",
       "    </tr>\n",
       "    <tr>\n",
       "      <th>9</th>\n",
       "      <td>Fort Lytton</td>\n",
       "      <td>0.0</td>\n",
       "      <td>0.0</td>\n",
       "      <td>0.0</td>\n",
       "      <td>0.0</td>\n",
       "      <td>0.0</td>\n",
       "      <td>2.8</td>\n",
       "      <td>7.6</td>\n",
       "      <td>0.0</td>\n",
       "      <td>16.8</td>\n",
       "      <td>...</td>\n",
       "      <td>44.2</td>\n",
       "      <td>0.6</td>\n",
       "      <td>0.0</td>\n",
       "      <td>0</td>\n",
       "      <td>0</td>\n",
       "      <td>0</td>\n",
       "      <td>0</td>\n",
       "      <td>11</td>\n",
       "      <td>-27.41</td>\n",
       "      <td>153.15</td>\n",
       "    </tr>\n",
       "  </tbody>\n",
       "</table>\n",
       "<p>10 rows × 32 columns</p>\n",
       "</div>"
      ],
      "text/plain": [
       "                            StationName  1/2/2011  2/2/2011  3/2/2011  \\\n",
       "0                              Alderley       2.2       2.4       2.4   \n",
       "1                 Eagle Farm Racecourse       2.0       0.0       1.5   \n",
       "2  Brisbane Botanic Gardens Mt Coot-tha       2.8       1.2       2.2   \n",
       "3                              Brisbane       3.6       3.8       2.0   \n",
       "4                              Clontarf       4.4       3.0       3.4   \n",
       "5                  Capalaba Water Treat       2.6       1.2       2.0   \n",
       "6                      Ormiston College       1.4       0.0       0.0   \n",
       "7                    Toombul Bowls Club       3.0       1.2       3.2   \n",
       "8                 Manly Railway Station       3.0       0.8       0.0   \n",
       "9                           Fort Lytton       0.0       0.0       0.0   \n",
       "\n",
       "   4/2/2011  5/2/2011  6/2/2011  7/2/2011  8/2/2011  9/2/2011  ...  22/2/2011  \\\n",
       "0       0.0       0.0       0.6       6.8       1.4       5.0  ...      106.4   \n",
       "1       0.0       4.5       0.0       2.0       0.0       9.0  ...       70.0   \n",
       "2       0.0       0.8       0.0      22.6       9.4       2.2  ...       78.2   \n",
       "3       0.2       2.2       7.0       1.6       6.4      14.2  ...       68.8   \n",
       "4       0.0       0.0       2.2       0.2       1.6       8.6  ...       20.8   \n",
       "5       0.0       0.4       7.8      10.8       0.0      24.6  ...       26.8   \n",
       "6       0.0       0.0      16.0      16.0       0.0      22.0  ...       29.6   \n",
       "7       2.2       3.4       0.0       2.0       0.0      18.0  ...       64.2   \n",
       "8       0.0       0.0       8.8       2.6       0.0       0.0  ...       49.4   \n",
       "9       0.0       0.0       2.8       7.6       0.0      16.8  ...       44.2   \n",
       "\n",
       "   23/2/2011  24/2/2011  25/2/2011  26/2/2011  27/2/2011  28/2/2011  \\\n",
       "0        0.0        3.6          0          0          0          0   \n",
       "1        0.0        4.0          0          0          0          0   \n",
       "2        1.0        1.6          0          0          0          1   \n",
       "3        0.2        3.6          0          0          0          0   \n",
       "4        1.8        1.4          0          0          0          0   \n",
       "5        0.4        6.6          0          0          0          0   \n",
       "6        2.2        6.2          0          0          0          0   \n",
       "7        0.0        2.4          0          0          0          0   \n",
       "8        0.0        5.0          0          0          0          0   \n",
       "9        0.6        0.0          0          0          0          0   \n",
       "\n",
       "   elevation (in m)    lat    long  \n",
       "0                39 -27.42  153.00  \n",
       "1                 9 -27.43  153.07  \n",
       "2                65 -27.48  152.98  \n",
       "3                 8 -27.48  153.04  \n",
       "4                29 -27.24  153.09  \n",
       "5                28 -27.53  153.18  \n",
       "6                37 -27.52  153.25  \n",
       "7                22 -27.39  153.06  \n",
       "8                25 -27.46  153.18  \n",
       "9                11 -27.41  153.15  \n",
       "\n",
       "[10 rows x 32 columns]"
      ]
     },
     "metadata": {},
     "output_type": "display_data"
    },
    {
     "data": {
      "text/html": [
       "<div>\n",
       "<style scoped>\n",
       "    .dataframe tbody tr th:only-of-type {\n",
       "        vertical-align: middle;\n",
       "    }\n",
       "\n",
       "    .dataframe tbody tr th {\n",
       "        vertical-align: top;\n",
       "    }\n",
       "\n",
       "    .dataframe thead th {\n",
       "        text-align: right;\n",
       "    }\n",
       "</style>\n",
       "<table border=\"1\" class=\"dataframe\">\n",
       "  <thead>\n",
       "    <tr style=\"text-align: right;\">\n",
       "      <th></th>\n",
       "      <th>Dam level</th>\n",
       "      <th>1/2/2011</th>\n",
       "      <th>2/2/2011</th>\n",
       "      <th>3/2/2011</th>\n",
       "      <th>4/2/2011</th>\n",
       "      <th>5/2/2011</th>\n",
       "      <th>6/2/2011</th>\n",
       "      <th>7/2/2011</th>\n",
       "      <th>8/2/2011</th>\n",
       "      <th>9/2/2011</th>\n",
       "      <th>...</th>\n",
       "      <th>22/2/2011</th>\n",
       "      <th>23/2/2011</th>\n",
       "      <th>24/2/2011</th>\n",
       "      <th>25/2/2011</th>\n",
       "      <th>26/2/2011</th>\n",
       "      <th>27/2/2011</th>\n",
       "      <th>28/2/2011</th>\n",
       "      <th>Elevation</th>\n",
       "      <th>Lat</th>\n",
       "      <th>Long</th>\n",
       "    </tr>\n",
       "  </thead>\n",
       "  <tbody>\n",
       "    <tr>\n",
       "      <th>0</th>\n",
       "      <td>Wivenhoe Last Observation (ML)</td>\n",
       "      <td>1170621.37</td>\n",
       "      <td>1174940.08</td>\n",
       "      <td>1179269.43</td>\n",
       "      <td>1179269.43</td>\n",
       "      <td>1174940.08</td>\n",
       "      <td>1170621.37</td>\n",
       "      <td>1170621.37</td>\n",
       "      <td>1170621.37</td>\n",
       "      <td>1170446.12</td>\n",
       "      <td>...</td>\n",
       "      <td>1107531.71</td>\n",
       "      <td>1084403.28</td>\n",
       "      <td>1056188.81</td>\n",
       "      <td>1026964.86</td>\n",
       "      <td>996146.72</td>\n",
       "      <td>966285.29</td>\n",
       "      <td>933492.85</td>\n",
       "      <td>1165238.0</td>\n",
       "      <td>-27.3944</td>\n",
       "      <td>152.6087</td>\n",
       "    </tr>\n",
       "    <tr>\n",
       "      <th>1</th>\n",
       "      <td>Enoggera Last Observation (ML)</td>\n",
       "      <td>4275.58</td>\n",
       "      <td>4275.58</td>\n",
       "      <td>4268.78</td>\n",
       "      <td>4262.00</td>\n",
       "      <td>4262.00</td>\n",
       "      <td>4262.00</td>\n",
       "      <td>4268.78</td>\n",
       "      <td>4268.78</td>\n",
       "      <td>4268.78</td>\n",
       "      <td>...</td>\n",
       "      <td>4451.29</td>\n",
       "      <td>4393.72</td>\n",
       "      <td>4351.42</td>\n",
       "      <td>4323.61</td>\n",
       "      <td>4309.81</td>\n",
       "      <td>4296.07</td>\n",
       "      <td>4289.23</td>\n",
       "      <td>4262.0</td>\n",
       "      <td>-27.4224</td>\n",
       "      <td>152.9908</td>\n",
       "    </tr>\n",
       "    <tr>\n",
       "      <th>2</th>\n",
       "      <td>Lake Manchester Last Observation (ML)</td>\n",
       "      <td>26297.17</td>\n",
       "      <td>26243.70</td>\n",
       "      <td>26243.70</td>\n",
       "      <td>26243.70</td>\n",
       "      <td>26243.70</td>\n",
       "      <td>26243.70</td>\n",
       "      <td>26243.70</td>\n",
       "      <td>26297.17</td>\n",
       "      <td>26243.70</td>\n",
       "      <td>...</td>\n",
       "      <td>26243.70</td>\n",
       "      <td>26243.70</td>\n",
       "      <td>26137.04</td>\n",
       "      <td>26083.85</td>\n",
       "      <td>26030.75</td>\n",
       "      <td>25977.74</td>\n",
       "      <td>25924.82</td>\n",
       "      <td>26217.0</td>\n",
       "      <td>-27.4882</td>\n",
       "      <td>152.7520</td>\n",
       "    </tr>\n",
       "    <tr>\n",
       "      <th>3</th>\n",
       "      <td>Leslie Harrison Last Observation (ML)</td>\n",
       "      <td>24434.45</td>\n",
       "      <td>24434.45</td>\n",
       "      <td>24434.45</td>\n",
       "      <td>24386.12</td>\n",
       "      <td>24386.12</td>\n",
       "      <td>24386.12</td>\n",
       "      <td>24434.45</td>\n",
       "      <td>24627.56</td>\n",
       "      <td>24627.56</td>\n",
       "      <td>...</td>\n",
       "      <td>24531.06</td>\n",
       "      <td>24531.06</td>\n",
       "      <td>24531.06</td>\n",
       "      <td>24531.06</td>\n",
       "      <td>24482.76</td>\n",
       "      <td>24482.76</td>\n",
       "      <td>24434.45</td>\n",
       "      <td>13207.8</td>\n",
       "      <td>-27.5300</td>\n",
       "      <td>153.1790</td>\n",
       "    </tr>\n",
       "    <tr>\n",
       "      <th>4</th>\n",
       "      <td>Gold Creek Last Observation (ML)</td>\n",
       "      <td>883.97</td>\n",
       "      <td>881.74</td>\n",
       "      <td>877.28</td>\n",
       "      <td>872.80</td>\n",
       "      <td>870.55</td>\n",
       "      <td>870.55</td>\n",
       "      <td>870.55</td>\n",
       "      <td>875.04</td>\n",
       "      <td>877.28</td>\n",
       "      <td>...</td>\n",
       "      <td>950.25</td>\n",
       "      <td>950.25</td>\n",
       "      <td>941.42</td>\n",
       "      <td>934.80</td>\n",
       "      <td>925.99</td>\n",
       "      <td>919.38</td>\n",
       "      <td>914.97</td>\n",
       "      <td>800.7</td>\n",
       "      <td>-27.4618</td>\n",
       "      <td>152.8812</td>\n",
       "    </tr>\n",
       "  </tbody>\n",
       "</table>\n",
       "<p>5 rows × 32 columns</p>\n",
       "</div>"
      ],
      "text/plain": [
       "                               Dam level    1/2/2011    2/2/2011    3/2/2011  \\\n",
       "0         Wivenhoe Last Observation (ML)  1170621.37  1174940.08  1179269.43   \n",
       "1         Enoggera Last Observation (ML)     4275.58     4275.58     4268.78   \n",
       "2  Lake Manchester Last Observation (ML)    26297.17    26243.70    26243.70   \n",
       "3  Leslie Harrison Last Observation (ML)    24434.45    24434.45    24434.45   \n",
       "4       Gold Creek Last Observation (ML)      883.97      881.74      877.28   \n",
       "\n",
       "     4/2/2011    5/2/2011    6/2/2011    7/2/2011    8/2/2011    9/2/2011  \\\n",
       "0  1179269.43  1174940.08  1170621.37  1170621.37  1170621.37  1170446.12   \n",
       "1     4262.00     4262.00     4262.00     4268.78     4268.78     4268.78   \n",
       "2    26243.70    26243.70    26243.70    26243.70    26297.17    26243.70   \n",
       "3    24386.12    24386.12    24386.12    24434.45    24627.56    24627.56   \n",
       "4      872.80      870.55      870.55      870.55      875.04      877.28   \n",
       "\n",
       "   ...   22/2/2011   23/2/2011   24/2/2011   25/2/2011  26/2/2011  27/2/2011  \\\n",
       "0  ...  1107531.71  1084403.28  1056188.81  1026964.86  996146.72  966285.29   \n",
       "1  ...     4451.29     4393.72     4351.42     4323.61    4309.81    4296.07   \n",
       "2  ...    26243.70    26243.70    26137.04    26083.85   26030.75   25977.74   \n",
       "3  ...    24531.06    24531.06    24531.06    24531.06   24482.76   24482.76   \n",
       "4  ...      950.25      950.25      941.42      934.80     925.99     919.38   \n",
       "\n",
       "   28/2/2011  Elevation      Lat      Long  \n",
       "0  933492.85  1165238.0 -27.3944  152.6087  \n",
       "1    4289.23     4262.0 -27.4224  152.9908  \n",
       "2   25924.82    26217.0 -27.4882  152.7520  \n",
       "3   24434.45    13207.8 -27.5300  153.1790  \n",
       "4     914.97      800.7 -27.4618  152.8812  \n",
       "\n",
       "[5 rows x 32 columns]"
      ]
     },
     "metadata": {},
     "output_type": "display_data"
    }
   ],
   "source": [
    "df = pd.read_excel (r'C:\\Users\\kapeesh shukla\\Downloads\\stations.xlsx')\n",
    "ef = pd.read_excel (r'C:\\Users\\kapeesh shukla\\Documents\\Wivenhoe.xlsx')\n",
    "display(df)\n",
    "display(ef)"
   ]
  },
  {
   "cell_type": "code",
   "execution_count": 244,
   "id": "57338f89",
   "metadata": {},
   "outputs": [],
   "source": [
    "df = df.rename_axis('StationName').reset_index()"
   ]
  },
  {
   "cell_type": "code",
   "execution_count": 234,
   "id": "a086e42d",
   "metadata": {},
   "outputs": [
    {
     "name": "stdout",
     "output_type": "stream",
     "text": [
      "0                                Alderley\n",
      "1                   Eagle Farm Racecourse\n",
      "2    Brisbane Botanic Gardens Mt Coot-tha\n",
      "3                                Brisbane\n",
      "4                                Clontarf\n",
      "5                    Capalaba Water Treat\n",
      "6                        Ormiston College\n",
      "7                      Toombul Bowls Club\n",
      "8                   Manly Railway Station\n",
      "9                             Fort Lytton\n",
      "Name: StationName, dtype: object\n"
     ]
    }
   ],
   "source": [
    "print(df['StationName'])"
   ]
  },
  {
   "cell_type": "code",
   "execution_count": 235,
   "id": "d4724beb",
   "metadata": {},
   "outputs": [
    {
     "name": "stdout",
     "output_type": "stream",
     "text": [
      "['1/2/2011' '2/2/2011' '3/2/2011' '4/2/2011' '5/2/2011' '6/2/2011'\n",
      " '7/2/2011' '8/2/2011' '9/2/2011' '10/2/2011' '11/2/2011' '12/2/2011'\n",
      " '13/2/2011' '14/2/2011' '15/2/2011' '16/2/2011' '17/2/2011' '18/2/2011'\n",
      " '19/2/2011' '20/2/2011' '21/2/2011' '22/2/2011' '23/2/2011' '24/2/2011'\n",
      " '25/2/2011' '26/2/2011' '27/2/2011' '28/2/2011' 'elevation (in m)' 'lat'\n",
      " 'long']\n"
     ]
    },
    {
     "name": "stderr",
     "output_type": "stream",
     "text": [
      "C:\\Users\\kapeesh shukla\\AppData\\Local\\Temp\\ipykernel_21808\\3553160942.py:2: FutureWarning:\n",
      "\n",
      "Index.ravel returning ndarray is deprecated; in a future version this will return a view on self.\n",
      "\n"
     ]
    }
   ],
   "source": [
    "df = pd.read_excel(r'C:\\Users\\kapeesh shukla\\Downloads\\stations.xlsx', index_col=0)\n",
    "cols = df.columns.ravel()\n",
    "print(cols)"
   ]
  },
  {
   "cell_type": "code",
   "execution_count": 236,
   "id": "1c2d0b14",
   "metadata": {},
   "outputs": [
    {
     "name": "stdout",
     "output_type": "stream",
     "text": [
      "Requirement already satisfied: numpy in c:\\users\\kapeesh shukla\\appdata\\local\\programs\\python\\python310\\lib\\site-packages (1.23.2)\n"
     ]
    }
   ],
   "source": [
    "!pip install numpy\n",
    "import numpy as np\n",
    "conditions = [df['1/2/2011'] > df['elevation (in m)'], df['1/2/2011'] < df['elevation (in m)']]\n",
    "choices = ['1', '0']"
   ]
  },
  {
   "cell_type": "code",
   "execution_count": 238,
   "id": "a6b4508b",
   "metadata": {},
   "outputs": [
    {
     "name": "stdout",
     "output_type": "stream",
     "text": [
      "                                      1/2/2011  2/2/2011  3/2/2011  4/2/2011  \\\n",
      "StationName                                                                    \n",
      "Alderley                                   2.2       2.4       2.4       0.0   \n",
      "Eagle Farm Racecourse                      2.0       0.0       1.5       0.0   \n",
      "Brisbane Botanic Gardens Mt Coot-tha       2.8       1.2       2.2       0.0   \n",
      "Brisbane                                   3.6       3.8       2.0       0.2   \n",
      "Clontarf                                   4.4       3.0       3.4       0.0   \n",
      "Capalaba Water Treat                       2.6       1.2       2.0       0.0   \n",
      "Ormiston College                           1.4       0.0       0.0       0.0   \n",
      "Toombul Bowls Club                         3.0       1.2       3.2       2.2   \n",
      "Manly Railway Station                      3.0       0.8       0.0       0.0   \n",
      "Fort Lytton                                0.0       0.0       0.0       0.0   \n",
      "\n",
      "                                      5/2/2011  6/2/2011  7/2/2011  8/2/2011  \\\n",
      "StationName                                                                    \n",
      "Alderley                                   0.0       0.6       6.8       1.4   \n",
      "Eagle Farm Racecourse                      4.5       0.0       2.0       0.0   \n",
      "Brisbane Botanic Gardens Mt Coot-tha       0.8       0.0      22.6       9.4   \n",
      "Brisbane                                   2.2       7.0       1.6       6.4   \n",
      "Clontarf                                   0.0       2.2       0.2       1.6   \n",
      "Capalaba Water Treat                       0.4       7.8      10.8       0.0   \n",
      "Ormiston College                           0.0      16.0      16.0       0.0   \n",
      "Toombul Bowls Club                         3.4       0.0       2.0       0.0   \n",
      "Manly Railway Station                      0.0       8.8       2.6       0.0   \n",
      "Fort Lytton                                0.0       2.8       7.6       0.0   \n",
      "\n",
      "                                      9/2/2011  10/2/2011  ...  23/2/2011  \\\n",
      "StationName                                                ...              \n",
      "Alderley                                   5.0          1  ...        0.0   \n",
      "Eagle Farm Racecourse                      9.0          1  ...        0.0   \n",
      "Brisbane Botanic Gardens Mt Coot-tha       2.2          0  ...        1.0   \n",
      "Brisbane                                  14.2          0  ...        0.2   \n",
      "Clontarf                                   8.6          0  ...        1.8   \n",
      "Capalaba Water Treat                      24.6          0  ...        0.4   \n",
      "Ormiston College                          22.0          0  ...        2.2   \n",
      "Toombul Bowls Club                        18.0          0  ...        0.0   \n",
      "Manly Railway Station                      0.0          0  ...        0.0   \n",
      "Fort Lytton                               16.8          0  ...        0.6   \n",
      "\n",
      "                                      24/2/2011  25/2/2011  26/2/2011  \\\n",
      "StationName                                                             \n",
      "Alderley                                    3.6          0          0   \n",
      "Eagle Farm Racecourse                       4.0          0          0   \n",
      "Brisbane Botanic Gardens Mt Coot-tha        1.6          0          0   \n",
      "Brisbane                                    3.6          0          0   \n",
      "Clontarf                                    1.4          0          0   \n",
      "Capalaba Water Treat                        6.6          0          0   \n",
      "Ormiston College                            6.2          0          0   \n",
      "Toombul Bowls Club                          2.4          0          0   \n",
      "Manly Railway Station                       5.0          0          0   \n",
      "Fort Lytton                                 0.0          0          0   \n",
      "\n",
      "                                      27/2/2011  28/2/2011  elevation (in m)  \\\n",
      "StationName                                                                    \n",
      "Alderley                                      0          0                39   \n",
      "Eagle Farm Racecourse                         0          0                 9   \n",
      "Brisbane Botanic Gardens Mt Coot-tha          0          1                65   \n",
      "Brisbane                                      0          0                 8   \n",
      "Clontarf                                      0          0                29   \n",
      "Capalaba Water Treat                          0          0                28   \n",
      "Ormiston College                              0          0                37   \n",
      "Toombul Bowls Club                            0          0                22   \n",
      "Manly Railway Station                         0          0                25   \n",
      "Fort Lytton                                   0          0                11   \n",
      "\n",
      "                                        lat    long  1 Feb 2011  \n",
      "StationName                                                      \n",
      "Alderley                             -27.42  153.00           0  \n",
      "Eagle Farm Racecourse                -27.43  153.07           0  \n",
      "Brisbane Botanic Gardens Mt Coot-tha -27.48  152.98           0  \n",
      "Brisbane                             -27.48  153.04           0  \n",
      "Clontarf                             -27.24  153.09           0  \n",
      "Capalaba Water Treat                 -27.53  153.18           0  \n",
      "Ormiston College                     -27.52  153.25           0  \n",
      "Toombul Bowls Club                   -27.39  153.06           0  \n",
      "Manly Railway Station                -27.46  153.18           0  \n",
      "Fort Lytton                          -27.41  153.15           0  \n",
      "\n",
      "[10 rows x 32 columns]\n"
     ]
    }
   ],
   "source": [
    "df['1 Feb 2011'] = np.select(conditions, choices, default='1').astype(str).astype(int)\n",
    "print(df)"
   ]
  },
  {
   "cell_type": "code",
   "execution_count": 239,
   "id": "aae0f67f",
   "metadata": {},
   "outputs": [],
   "source": [
    "conditions = [df['2/2/2011'] > df['elevation (in m)'], df['2/2/2011'] < df['elevation (in m)']]\n",
    "df['2 Feb 2011'] = np.select(conditions, choices, default='1').astype(str).astype(int)\n",
    "conditions = [df['3/2/2011'] > df['elevation (in m)'], df['3/2/2011'] < df['elevation (in m)']]\n",
    "df['3 Feb 2011'] = np.select(conditions, choices, default='1').astype(str).astype(int)\n",
    "conditions = [df['4/2/2011'] > df['elevation (in m)'], df['4/2/2011'] < df['elevation (in m)']]\n",
    "df['4 Feb 2011'] = np.select(conditions, choices, default='1').astype(str).astype(int)\n",
    "conditions = [df['5/2/2011'] > df['elevation (in m)'], df['5/2/2011'] < df['elevation (in m)']]\n",
    "df['5 Feb 2011'] = np.select(conditions, choices, default='1').astype(str).astype(int)\n",
    "conditions = [df['6/2/2011'] > df['elevation (in m)'], df['6/2/2011'] < df['elevation (in m)']]\n",
    "df['6 Feb 2011'] = np.select(conditions, choices, default='1').astype(str).astype(int)\n",
    "conditions = [df['7/2/2011'] > df['elevation (in m)'], df['7/2/2011'] < df['elevation (in m)']]\n",
    "df['7 Feb 2011'] = np.select(conditions, choices, default='1').astype(str).astype(int)\n",
    "conditions = [df['8/2/2011'] > df['elevation (in m)'], df['8/2/2011'] < df['elevation (in m)']]\n",
    "df['8 Feb 2011'] = np.select(conditions, choices, default='1').astype(str).astype(int)\n",
    "conditions = [df['9/2/2011'] > df['elevation (in m)'], df['9/2/2011'] < df['elevation (in m)']]\n",
    "df['9 Feb 2011'] = np.select(conditions, choices, default='1').astype(str).astype(int)\n",
    "conditions = [df['10/2/2011'] > df['elevation (in m)'], df['10/2/2011'] < df['elevation (in m)']]\n",
    "df['10 Feb 2011'] = np.select(conditions, choices, default='1').astype(str).astype(int)\n",
    "conditions = [df['11/2/2011'] > df['elevation (in m)'], df['11/2/2011'] < df['elevation (in m)']]\n",
    "df['11 Feb 2011'] = np.select(conditions, choices, default='1').astype(str).astype(int)\n",
    "conditions = [df['12/2/2011'] > df['elevation (in m)'], df['12/2/2011'] < df['elevation (in m)']]\n",
    "df['12 Feb 2011'] = np.select(conditions, choices, default='1').astype(str).astype(int)\n",
    "conditions = [df['13/2/2011'] > df['elevation (in m)'], df['13/2/2011'] < df['elevation (in m)']]\n",
    "df['13 Feb 2011'] = np.select(conditions, choices, default='1').astype(str).astype(int)\n",
    "conditions = [df['14/2/2011'] > df['elevation (in m)'], df['14/2/2011'] < df['elevation (in m)']]\n",
    "df['14 Feb 2011'] = np.select(conditions, choices, default='1').astype(str).astype(int)\n",
    "conditions = [df['15/2/2011'] > df['elevation (in m)'], df['15/2/2011'] < df['elevation (in m)']]\n",
    "df['15 Feb 2011'] = np.select(conditions, choices, default='1').astype(str).astype(int)\n",
    "conditions = [df['16/2/2011'] > df['elevation (in m)'], df['16/2/2011'] < df['elevation (in m)']]\n",
    "df['16 Feb 2011'] = np.select(conditions, choices, default='1').astype(str).astype(int)\n",
    "conditions = [df['17/2/2011'] > df['elevation (in m)'], df['17/2/2011'] < df['elevation (in m)']]\n",
    "df['17 Feb 2011'] = np.select(conditions, choices, default='1').astype(str).astype(int)\n",
    "conditions = [df['18/2/2011'] > df['elevation (in m)'], df['18/2/2011'] < df['elevation (in m)']]\n",
    "df['18 Feb 2011'] = np.select(conditions, choices, default='1').astype(str).astype(int)\n",
    "conditions = [df['19/2/2011'] > df['elevation (in m)'], df['19/2/2011'] < df['elevation (in m)']]\n",
    "df['19 Feb 2011'] = np.select(conditions, choices, default='1').astype(str).astype(int)\n",
    "conditions = [df['20/2/2011'] > df['elevation (in m)'], df['20/2/2011'] < df['elevation (in m)']]\n",
    "df['20 Feb 2011'] = np.select(conditions, choices, default='1').astype(str).astype(int)\n",
    "conditions = [df['21/2/2011'] > df['elevation (in m)'], df['21/2/2011'] < df['elevation (in m)']]\n",
    "df['21 Feb 2011'] = np.select(conditions, choices, default='1').astype(str).astype(int)\n",
    "conditions = [df['22/2/2011'] > df['elevation (in m)'], df['22/2/2011'] < df['elevation (in m)']]\n",
    "df['22 Feb 2011'] = np.select(conditions, choices, default='1').astype(str).astype(int)\n",
    "conditions = [df['23/2/2011'] > df['elevation (in m)'], df['23/2/2011'] < df['elevation (in m)']]\n",
    "df['23 Feb 2011'] = np.select(conditions, choices, default='1').astype(str).astype(int)\n",
    "conditions = [df['24/2/2011'] > df['elevation (in m)'], df['24/2/2011'] < df['elevation (in m)']]\n",
    "df['24 Feb 2011'] = np.select(conditions, choices, default='1').astype(str).astype(int)\n",
    "conditions = [df['25/2/2011'] > df['elevation (in m)'], df['25/2/2011'] < df['elevation (in m)']]\n",
    "df['25 Feb 2011'] = np.select(conditions, choices, default='1').astype(str).astype(int)\n",
    "conditions = [df['26/2/2011'] > df['elevation (in m)'], df['26/2/2011'] < df['elevation (in m)']]\n",
    "df['26 Feb 2011'] = np.select(conditions, choices, default='1').astype(str).astype(int)\n",
    "conditions = [df['27/2/2011'] > df['elevation (in m)'], df['27/2/2011'] < df['elevation (in m)']]\n",
    "df['27 Feb 2011'] = np.select(conditions, choices, default='1').astype(str).astype(int)\n",
    "conditions = [df['28/2/2011'] > df['elevation (in m)'], df['28/2/2011'] < df['elevation (in m)']]\n",
    "df['28 Feb 2011'] = np.select(conditions, choices, default='1').astype(str).astype(int)"
   ]
  },
  {
   "cell_type": "code",
   "execution_count": 240,
   "id": "3d60e19e",
   "metadata": {},
   "outputs": [
    {
     "data": {
      "text/html": [
       "<div>\n",
       "<style scoped>\n",
       "    .dataframe tbody tr th:only-of-type {\n",
       "        vertical-align: middle;\n",
       "    }\n",
       "\n",
       "    .dataframe tbody tr th {\n",
       "        vertical-align: top;\n",
       "    }\n",
       "\n",
       "    .dataframe thead th {\n",
       "        text-align: right;\n",
       "    }\n",
       "</style>\n",
       "<table border=\"1\" class=\"dataframe\">\n",
       "  <thead>\n",
       "    <tr style=\"text-align: right;\">\n",
       "      <th></th>\n",
       "      <th>1/2/2011</th>\n",
       "      <th>2/2/2011</th>\n",
       "      <th>3/2/2011</th>\n",
       "      <th>4/2/2011</th>\n",
       "      <th>5/2/2011</th>\n",
       "      <th>6/2/2011</th>\n",
       "      <th>7/2/2011</th>\n",
       "      <th>8/2/2011</th>\n",
       "      <th>9/2/2011</th>\n",
       "      <th>10/2/2011</th>\n",
       "      <th>...</th>\n",
       "      <th>19 Feb 2011</th>\n",
       "      <th>20 Feb 2011</th>\n",
       "      <th>21 Feb 2011</th>\n",
       "      <th>22 Feb 2011</th>\n",
       "      <th>23 Feb 2011</th>\n",
       "      <th>24 Feb 2011</th>\n",
       "      <th>25 Feb 2011</th>\n",
       "      <th>26 Feb 2011</th>\n",
       "      <th>27 Feb 2011</th>\n",
       "      <th>28 Feb 2011</th>\n",
       "    </tr>\n",
       "    <tr>\n",
       "      <th>StationName</th>\n",
       "      <th></th>\n",
       "      <th></th>\n",
       "      <th></th>\n",
       "      <th></th>\n",
       "      <th></th>\n",
       "      <th></th>\n",
       "      <th></th>\n",
       "      <th></th>\n",
       "      <th></th>\n",
       "      <th></th>\n",
       "      <th></th>\n",
       "      <th></th>\n",
       "      <th></th>\n",
       "      <th></th>\n",
       "      <th></th>\n",
       "      <th></th>\n",
       "      <th></th>\n",
       "      <th></th>\n",
       "      <th></th>\n",
       "      <th></th>\n",
       "      <th></th>\n",
       "    </tr>\n",
       "  </thead>\n",
       "  <tbody>\n",
       "    <tr>\n",
       "      <th>Alderley</th>\n",
       "      <td>2.2</td>\n",
       "      <td>2.4</td>\n",
       "      <td>2.4</td>\n",
       "      <td>0.0</td>\n",
       "      <td>0.0</td>\n",
       "      <td>0.6</td>\n",
       "      <td>6.8</td>\n",
       "      <td>1.4</td>\n",
       "      <td>5.0</td>\n",
       "      <td>1</td>\n",
       "      <td>...</td>\n",
       "      <td>0</td>\n",
       "      <td>0</td>\n",
       "      <td>0</td>\n",
       "      <td>1</td>\n",
       "      <td>0</td>\n",
       "      <td>0</td>\n",
       "      <td>0</td>\n",
       "      <td>0</td>\n",
       "      <td>0</td>\n",
       "      <td>0</td>\n",
       "    </tr>\n",
       "    <tr>\n",
       "      <th>Eagle Farm Racecourse</th>\n",
       "      <td>2.0</td>\n",
       "      <td>0.0</td>\n",
       "      <td>1.5</td>\n",
       "      <td>0.0</td>\n",
       "      <td>4.5</td>\n",
       "      <td>0.0</td>\n",
       "      <td>2.0</td>\n",
       "      <td>0.0</td>\n",
       "      <td>9.0</td>\n",
       "      <td>1</td>\n",
       "      <td>...</td>\n",
       "      <td>0</td>\n",
       "      <td>0</td>\n",
       "      <td>0</td>\n",
       "      <td>1</td>\n",
       "      <td>0</td>\n",
       "      <td>0</td>\n",
       "      <td>0</td>\n",
       "      <td>0</td>\n",
       "      <td>0</td>\n",
       "      <td>0</td>\n",
       "    </tr>\n",
       "    <tr>\n",
       "      <th>Brisbane Botanic Gardens Mt Coot-tha</th>\n",
       "      <td>2.8</td>\n",
       "      <td>1.2</td>\n",
       "      <td>2.2</td>\n",
       "      <td>0.0</td>\n",
       "      <td>0.8</td>\n",
       "      <td>0.0</td>\n",
       "      <td>22.6</td>\n",
       "      <td>9.4</td>\n",
       "      <td>2.2</td>\n",
       "      <td>0</td>\n",
       "      <td>...</td>\n",
       "      <td>0</td>\n",
       "      <td>0</td>\n",
       "      <td>0</td>\n",
       "      <td>1</td>\n",
       "      <td>0</td>\n",
       "      <td>0</td>\n",
       "      <td>0</td>\n",
       "      <td>0</td>\n",
       "      <td>0</td>\n",
       "      <td>0</td>\n",
       "    </tr>\n",
       "    <tr>\n",
       "      <th>Brisbane</th>\n",
       "      <td>3.6</td>\n",
       "      <td>3.8</td>\n",
       "      <td>2.0</td>\n",
       "      <td>0.2</td>\n",
       "      <td>2.2</td>\n",
       "      <td>7.0</td>\n",
       "      <td>1.6</td>\n",
       "      <td>6.4</td>\n",
       "      <td>14.2</td>\n",
       "      <td>0</td>\n",
       "      <td>...</td>\n",
       "      <td>0</td>\n",
       "      <td>0</td>\n",
       "      <td>0</td>\n",
       "      <td>1</td>\n",
       "      <td>0</td>\n",
       "      <td>0</td>\n",
       "      <td>0</td>\n",
       "      <td>0</td>\n",
       "      <td>0</td>\n",
       "      <td>0</td>\n",
       "    </tr>\n",
       "    <tr>\n",
       "      <th>Clontarf</th>\n",
       "      <td>4.4</td>\n",
       "      <td>3.0</td>\n",
       "      <td>3.4</td>\n",
       "      <td>0.0</td>\n",
       "      <td>0.0</td>\n",
       "      <td>2.2</td>\n",
       "      <td>0.2</td>\n",
       "      <td>1.6</td>\n",
       "      <td>8.6</td>\n",
       "      <td>0</td>\n",
       "      <td>...</td>\n",
       "      <td>0</td>\n",
       "      <td>0</td>\n",
       "      <td>0</td>\n",
       "      <td>0</td>\n",
       "      <td>0</td>\n",
       "      <td>0</td>\n",
       "      <td>0</td>\n",
       "      <td>0</td>\n",
       "      <td>0</td>\n",
       "      <td>0</td>\n",
       "    </tr>\n",
       "    <tr>\n",
       "      <th>Capalaba Water Treat</th>\n",
       "      <td>2.6</td>\n",
       "      <td>1.2</td>\n",
       "      <td>2.0</td>\n",
       "      <td>0.0</td>\n",
       "      <td>0.4</td>\n",
       "      <td>7.8</td>\n",
       "      <td>10.8</td>\n",
       "      <td>0.0</td>\n",
       "      <td>24.6</td>\n",
       "      <td>0</td>\n",
       "      <td>...</td>\n",
       "      <td>0</td>\n",
       "      <td>0</td>\n",
       "      <td>0</td>\n",
       "      <td>0</td>\n",
       "      <td>0</td>\n",
       "      <td>0</td>\n",
       "      <td>0</td>\n",
       "      <td>0</td>\n",
       "      <td>0</td>\n",
       "      <td>0</td>\n",
       "    </tr>\n",
       "    <tr>\n",
       "      <th>Ormiston College</th>\n",
       "      <td>1.4</td>\n",
       "      <td>0.0</td>\n",
       "      <td>0.0</td>\n",
       "      <td>0.0</td>\n",
       "      <td>0.0</td>\n",
       "      <td>16.0</td>\n",
       "      <td>16.0</td>\n",
       "      <td>0.0</td>\n",
       "      <td>22.0</td>\n",
       "      <td>0</td>\n",
       "      <td>...</td>\n",
       "      <td>0</td>\n",
       "      <td>0</td>\n",
       "      <td>0</td>\n",
       "      <td>0</td>\n",
       "      <td>0</td>\n",
       "      <td>0</td>\n",
       "      <td>0</td>\n",
       "      <td>0</td>\n",
       "      <td>0</td>\n",
       "      <td>0</td>\n",
       "    </tr>\n",
       "    <tr>\n",
       "      <th>Toombul Bowls Club</th>\n",
       "      <td>3.0</td>\n",
       "      <td>1.2</td>\n",
       "      <td>3.2</td>\n",
       "      <td>2.2</td>\n",
       "      <td>3.4</td>\n",
       "      <td>0.0</td>\n",
       "      <td>2.0</td>\n",
       "      <td>0.0</td>\n",
       "      <td>18.0</td>\n",
       "      <td>0</td>\n",
       "      <td>...</td>\n",
       "      <td>0</td>\n",
       "      <td>0</td>\n",
       "      <td>0</td>\n",
       "      <td>1</td>\n",
       "      <td>0</td>\n",
       "      <td>0</td>\n",
       "      <td>0</td>\n",
       "      <td>0</td>\n",
       "      <td>0</td>\n",
       "      <td>0</td>\n",
       "    </tr>\n",
       "    <tr>\n",
       "      <th>Manly Railway Station</th>\n",
       "      <td>3.0</td>\n",
       "      <td>0.8</td>\n",
       "      <td>0.0</td>\n",
       "      <td>0.0</td>\n",
       "      <td>0.0</td>\n",
       "      <td>8.8</td>\n",
       "      <td>2.6</td>\n",
       "      <td>0.0</td>\n",
       "      <td>0.0</td>\n",
       "      <td>0</td>\n",
       "      <td>...</td>\n",
       "      <td>0</td>\n",
       "      <td>0</td>\n",
       "      <td>0</td>\n",
       "      <td>1</td>\n",
       "      <td>0</td>\n",
       "      <td>0</td>\n",
       "      <td>0</td>\n",
       "      <td>0</td>\n",
       "      <td>0</td>\n",
       "      <td>0</td>\n",
       "    </tr>\n",
       "    <tr>\n",
       "      <th>Fort Lytton</th>\n",
       "      <td>0.0</td>\n",
       "      <td>0.0</td>\n",
       "      <td>0.0</td>\n",
       "      <td>0.0</td>\n",
       "      <td>0.0</td>\n",
       "      <td>2.8</td>\n",
       "      <td>7.6</td>\n",
       "      <td>0.0</td>\n",
       "      <td>16.8</td>\n",
       "      <td>0</td>\n",
       "      <td>...</td>\n",
       "      <td>0</td>\n",
       "      <td>0</td>\n",
       "      <td>0</td>\n",
       "      <td>1</td>\n",
       "      <td>0</td>\n",
       "      <td>0</td>\n",
       "      <td>0</td>\n",
       "      <td>0</td>\n",
       "      <td>0</td>\n",
       "      <td>0</td>\n",
       "    </tr>\n",
       "  </tbody>\n",
       "</table>\n",
       "<p>10 rows × 59 columns</p>\n",
       "</div>"
      ],
      "text/plain": [
       "                                      1/2/2011  2/2/2011  3/2/2011  4/2/2011  \\\n",
       "StationName                                                                    \n",
       "Alderley                                   2.2       2.4       2.4       0.0   \n",
       "Eagle Farm Racecourse                      2.0       0.0       1.5       0.0   \n",
       "Brisbane Botanic Gardens Mt Coot-tha       2.8       1.2       2.2       0.0   \n",
       "Brisbane                                   3.6       3.8       2.0       0.2   \n",
       "Clontarf                                   4.4       3.0       3.4       0.0   \n",
       "Capalaba Water Treat                       2.6       1.2       2.0       0.0   \n",
       "Ormiston College                           1.4       0.0       0.0       0.0   \n",
       "Toombul Bowls Club                         3.0       1.2       3.2       2.2   \n",
       "Manly Railway Station                      3.0       0.8       0.0       0.0   \n",
       "Fort Lytton                                0.0       0.0       0.0       0.0   \n",
       "\n",
       "                                      5/2/2011  6/2/2011  7/2/2011  8/2/2011  \\\n",
       "StationName                                                                    \n",
       "Alderley                                   0.0       0.6       6.8       1.4   \n",
       "Eagle Farm Racecourse                      4.5       0.0       2.0       0.0   \n",
       "Brisbane Botanic Gardens Mt Coot-tha       0.8       0.0      22.6       9.4   \n",
       "Brisbane                                   2.2       7.0       1.6       6.4   \n",
       "Clontarf                                   0.0       2.2       0.2       1.6   \n",
       "Capalaba Water Treat                       0.4       7.8      10.8       0.0   \n",
       "Ormiston College                           0.0      16.0      16.0       0.0   \n",
       "Toombul Bowls Club                         3.4       0.0       2.0       0.0   \n",
       "Manly Railway Station                      0.0       8.8       2.6       0.0   \n",
       "Fort Lytton                                0.0       2.8       7.6       0.0   \n",
       "\n",
       "                                      9/2/2011  10/2/2011  ...  19 Feb 2011  \\\n",
       "StationName                                                ...                \n",
       "Alderley                                   5.0          1  ...            0   \n",
       "Eagle Farm Racecourse                      9.0          1  ...            0   \n",
       "Brisbane Botanic Gardens Mt Coot-tha       2.2          0  ...            0   \n",
       "Brisbane                                  14.2          0  ...            0   \n",
       "Clontarf                                   8.6          0  ...            0   \n",
       "Capalaba Water Treat                      24.6          0  ...            0   \n",
       "Ormiston College                          22.0          0  ...            0   \n",
       "Toombul Bowls Club                        18.0          0  ...            0   \n",
       "Manly Railway Station                      0.0          0  ...            0   \n",
       "Fort Lytton                               16.8          0  ...            0   \n",
       "\n",
       "                                      20 Feb 2011  21 Feb 2011  22 Feb 2011  \\\n",
       "StationName                                                                   \n",
       "Alderley                                        0            0            1   \n",
       "Eagle Farm Racecourse                           0            0            1   \n",
       "Brisbane Botanic Gardens Mt Coot-tha            0            0            1   \n",
       "Brisbane                                        0            0            1   \n",
       "Clontarf                                        0            0            0   \n",
       "Capalaba Water Treat                            0            0            0   \n",
       "Ormiston College                                0            0            0   \n",
       "Toombul Bowls Club                              0            0            1   \n",
       "Manly Railway Station                           0            0            1   \n",
       "Fort Lytton                                     0            0            1   \n",
       "\n",
       "                                      23 Feb 2011  24 Feb 2011  25 Feb 2011  \\\n",
       "StationName                                                                   \n",
       "Alderley                                        0            0            0   \n",
       "Eagle Farm Racecourse                           0            0            0   \n",
       "Brisbane Botanic Gardens Mt Coot-tha            0            0            0   \n",
       "Brisbane                                        0            0            0   \n",
       "Clontarf                                        0            0            0   \n",
       "Capalaba Water Treat                            0            0            0   \n",
       "Ormiston College                                0            0            0   \n",
       "Toombul Bowls Club                              0            0            0   \n",
       "Manly Railway Station                           0            0            0   \n",
       "Fort Lytton                                     0            0            0   \n",
       "\n",
       "                                      26 Feb 2011  27 Feb 2011  28 Feb 2011  \n",
       "StationName                                                                  \n",
       "Alderley                                        0            0            0  \n",
       "Eagle Farm Racecourse                           0            0            0  \n",
       "Brisbane Botanic Gardens Mt Coot-tha            0            0            0  \n",
       "Brisbane                                        0            0            0  \n",
       "Clontarf                                        0            0            0  \n",
       "Capalaba Water Treat                            0            0            0  \n",
       "Ormiston College                                0            0            0  \n",
       "Toombul Bowls Club                              0            0            0  \n",
       "Manly Railway Station                           0            0            0  \n",
       "Fort Lytton                                     0            0            0  \n",
       "\n",
       "[10 rows x 59 columns]"
      ]
     },
     "metadata": {},
     "output_type": "display_data"
    }
   ],
   "source": [
    "display(df)"
   ]
  },
  {
   "cell_type": "code",
   "execution_count": 224,
   "id": "9dfbfd64",
   "metadata": {},
   "outputs": [
    {
     "name": "stdout",
     "output_type": "stream",
     "text": [
      "Requirement already satisfied: pipwin in c:\\users\\kapeesh shukla\\appdata\\local\\programs\\python\\python310\\lib\\site-packages (0.5.2)\n",
      "Requirement already satisfied: requests in c:\\users\\kapeesh shukla\\appdata\\local\\programs\\python\\python310\\lib\\site-packages (from pipwin) (2.28.1)\n",
      "Requirement already satisfied: pySmartDL>=1.3.1 in c:\\users\\kapeesh shukla\\appdata\\local\\programs\\python\\python310\\lib\\site-packages (from pipwin) (1.3.4)\n",
      "Requirement already satisfied: six in c:\\users\\kapeesh shukla\\appdata\\local\\programs\\python\\python310\\lib\\site-packages (from pipwin) (1.16.0)\n",
      "Requirement already satisfied: beautifulsoup4>=4.9.0 in c:\\users\\kapeesh shukla\\appdata\\local\\programs\\python\\python310\\lib\\site-packages (from pipwin) (4.11.1)\n",
      "Requirement already satisfied: pyprind in c:\\users\\kapeesh shukla\\appdata\\local\\programs\\python\\python310\\lib\\site-packages (from pipwin) (2.11.3)\n",
      "Requirement already satisfied: js2py in c:\\users\\kapeesh shukla\\appdata\\local\\programs\\python\\python310\\lib\\site-packages (from pipwin) (0.71)\n",
      "Requirement already satisfied: packaging in c:\\users\\kapeesh shukla\\appdata\\local\\programs\\python\\python310\\lib\\site-packages (from pipwin) (21.3)\n",
      "Requirement already satisfied: docopt in c:\\users\\kapeesh shukla\\appdata\\local\\programs\\python\\python310\\lib\\site-packages (from pipwin) (0.6.2)\n",
      "Requirement already satisfied: soupsieve>1.2 in c:\\users\\kapeesh shukla\\appdata\\local\\programs\\python\\python310\\lib\\site-packages (from beautifulsoup4>=4.9.0->pipwin) (2.3.2.post1)\n",
      "Requirement already satisfied: tzlocal>=1.2 in c:\\users\\kapeesh shukla\\appdata\\local\\programs\\python\\python310\\lib\\site-packages (from js2py->pipwin) (4.2)\n",
      "Requirement already satisfied: pyjsparser>=2.5.1 in c:\\users\\kapeesh shukla\\appdata\\local\\programs\\python\\python310\\lib\\site-packages (from js2py->pipwin) (2.7.1)\n",
      "Requirement already satisfied: pyparsing!=3.0.5,>=2.0.2 in c:\\users\\kapeesh shukla\\appdata\\local\\programs\\python\\python310\\lib\\site-packages (from packaging->pipwin) (3.0.9)\n",
      "Requirement already satisfied: certifi>=2017.4.17 in c:\\users\\kapeesh shukla\\appdata\\local\\programs\\python\\python310\\lib\\site-packages (from requests->pipwin) (2022.6.15)\n",
      "Requirement already satisfied: urllib3<1.27,>=1.21.1 in c:\\users\\kapeesh shukla\\appdata\\local\\programs\\python\\python310\\lib\\site-packages (from requests->pipwin) (1.26.12)\n",
      "Requirement already satisfied: idna<4,>=2.5 in c:\\users\\kapeesh shukla\\appdata\\local\\programs\\python\\python310\\lib\\site-packages (from requests->pipwin) (3.3)\n",
      "Requirement already satisfied: charset-normalizer<3,>=2 in c:\\users\\kapeesh shukla\\appdata\\local\\programs\\python\\python310\\lib\\site-packages (from requests->pipwin) (2.1.1)\n",
      "Requirement already satisfied: pytz-deprecation-shim in c:\\users\\kapeesh shukla\\appdata\\local\\programs\\python\\python310\\lib\\site-packages (from tzlocal>=1.2->js2py->pipwin) (0.1.0.post0)\n",
      "Requirement already satisfied: tzdata in c:\\users\\kapeesh shukla\\appdata\\local\\programs\\python\\python310\\lib\\site-packages (from tzlocal>=1.2->js2py->pipwin) (2022.2)\n",
      "Package `gdal` found in cache\n",
      "Downloading package . . .\n",
      "https://download.lfd.uci.edu/pythonlibs/archived/GDAL-3.4.3-cp310-cp310-win_amd64.whl\n",
      "GDAL-3.4.3-cp310-cp310-win_amd64.whl\n",
      "[*] 0 bytes / 24.6 MB @ 0 bytes/s [------------------] [0.0%, 0s left]  [*] 0 bytes / 24.6 MB @ 0 bytes/s [------------------] [0.0%, 0s left]  [*] 0 bytes / 24.6 MB @ 0 bytes/s [------------------] [0.0%, 0s left]  [*] 0 bytes / 24.6 MB @ 0 bytes/s [------------------] [0.0%, 0s left]  [*] 0 bytes / 24.6 MB @ 0 bytes/s [------------------] [0.0%, 0s left]  [*] 0 bytes / 24.6 MB @ 0 bytes/s [------------------] [0.0%, 0s left]  [*] 0 bytes / 24.6 MB @ 0 bytes/s [------------------] [0.0%, 0s left]  [*] 0 bytes / 24.6 MB @ 0 bytes/s [------------------] [0.0%, 0s left]  [*] 40 kB / 24.6 MB @ 44 kB/s [------------------] [0.2%, 0s left]  [*] 40 kB / 24.6 MB @ 40 kB/s [------------------] [0.2%, 0s left]  [*] 184 kB / 24.6 MB @ 167 kB/s [------------------] [0.7%, 0s left]  [*] 312 kB / 24.6 MB @ 260 kB/s [------------------] [1.2%, 0s left]  [*] 376 kB / 24.6 MB @ 289 kB/s [------------------] [1.5%, 0s left]  [*] 664 kB / 24.6 MB @ 474 kB/s [------------------] [2.6%, 0s left]  [*] 696 kB / 24.6 MB @ 464 kB/s [------------------] [2.8%, 0s left]  [*] 1.1 MB / 24.6 MB @ 695 kB/s [------------------] [4.4%, 0s left]  [*] 1.6 MB / 24.6 MB @ 974 kB/s [#-----------------] [6.6%, 0s left]  [*] 1.7 MB / 24.6 MB @ 956 kB/s [#-----------------] [6.8%, 0s left]  [*] 2.4 MB / 24.6 MB @ 1.3 MB/s [#-----------------] [9.7%, 0s left]  [*] 2.7 MB / 24.6 MB @ 1.4 MB/s [#-----------------] [11.1%, 0s left]   [*] 3.3 MB / 24.6 MB @ 1.6 MB/s [##----------------] [13.6%, 0s left]   [*] 4.3 MB / 24.6 MB @ 2.0 MB/s [###---------------] [17.5%, 0s left]   [*] 5.0 MB / 24.6 MB @ 2.2 MB/s [###---------------] [20.5%, 0s left]   [*] 6.3 MB / 24.6 MB @ 2.6 MB/s [####--------------] [25.7%, 0s left]   [*] 7.2 MB / 24.6 MB @ 2.9 MB/s [#####-------------] [29.2%, 0s left]   [*] 7.3 MB / 24.6 MB @ 2.8 MB/s [#####-------------] [29.7%, 0s left]   [*] 7.3 MB / 24.6 MB @ 2.7 MB/s [#####-------------] [29.9%, 0s left]   [*] 9.7 MB / 24.6 MB @ 3.5 MB/s [#######-----------] [39.3%, 0s left]   [*] 10.5 MB / 24.6 MB @ 3.6 MB/s [#######-----------] [42.7%, 0s left]  [*] 11.0 MB / 24.6 MB @ 3.7 MB/s [########----------] [44.7%, 0s left]  [*] 11.7 MB / 24.6 MB @ 3.9 MB/s [########----------] [47.5%, 0s left]  [*] 12.3 MB / 24.6 MB @ 4.1 MB/s [#########---------] [50.2%, 0s left]  [*] 13.1 MB / 24.6 MB @ 4.4 MB/s [#########---------] [53.5%, 0s left]  [*] 13.4 MB / 24.6 MB @ 4.5 MB/s [#########---------] [54.5%, 0s left]  [*] 14.1 MB / 24.6 MB @ 4.7 MB/s [##########--------] [57.6%, 0s left]  [*] 14.2 MB / 24.6 MB @ 4.7 MB/s [##########--------] [58.0%, 0s left]  [*] 14.6 MB / 24.6 MB @ 4.9 MB/s [##########--------] [59.6%, 0s left]  [*] 15.0 MB / 24.6 MB @ 5.0 MB/s [###########-------] [61.2%, 0s left]  [*] 15.1 MB / 24.6 MB @ 5.0 MB/s [###########-------] [61.3%, 0s left]  [*] 15.5 MB / 24.6 MB @ 5.1 MB/s [###########-------] [63.0%, 0s left]  [*] 15.7 MB / 24.6 MB @ 5.2 MB/s [###########-------] [64.0%, 0s left]  [*] 16.0 MB / 24.6 MB @ 5.2 MB/s [###########-------] [65.1%, 0s left]  [*] 16.1 MB / 24.6 MB @ 5.2 MB/s [###########-------] [65.6%, 0s left]  [*] 16.2 MB / 24.6 MB @ 5.2 MB/s [###########-------] [66.1%, 0s left]  [*] 16.3 MB / 24.6 MB @ 5.2 MB/s [###########-------] [66.2%, 0s left]  [*] 16.3 MB / 24.6 MB @ 5.1 MB/s [###########-------] [66.5%, 0s left]  [*] 16.4 MB / 24.6 MB @ 4.9 MB/s [############------] [66.8%, 0s left]  [*] 16.4 MB / 24.6 MB @ 4.9 MB/s [############------] [66.9%, 0s left]  [*] 16.8 MB / 24.6 MB @ 4.8 MB/s [############------] [68.5%, 0s left]  [*] 17.1 MB / 24.6 MB @ 4.8 MB/s [############------] [69.4%, 0s left]  [*] 17.3 MB / 24.6 MB @ 4.7 MB/s [############------] [70.4%, 0s left]  [*] 17.7 MB / 24.6 MB @ 4.5 MB/s [############------] [72.2%, 0s left]  [*] 17.8 MB / 24.6 MB @ 4.2 MB/s [#############-----] [72.3%, 0s left]  [*] 18.2 MB / 24.6 MB @ 4.0 MB/s [#############-----] [74.0%, 0s left]  [*] 18.4 MB / 24.6 MB @ 3.8 MB/s [#############-----] [75.1%, 0s left]  [*] 18.7 MB / 24.6 MB @ 3.8 MB/s [#############-----] [76.0%, 0s left]  [*] 19.0 MB / 24.6 MB @ 3.9 MB/s [#############-----] [77.5%, 0s left]  [*] 19.1 MB / 24.6 MB @ 3.1 MB/s [#############-----] [77.6%, 1s left]  [*] 19.1 MB / 24.6 MB @ 2.9 MB/s [#############-----] [77.7%, 1s left]  [*] 19.1 MB / 24.6 MB @ 2.7 MB/s [#############-----] [77.7%, 1s left]  [*] 19.1 MB / 24.6 MB @ 2.5 MB/s [##############----] [77.9%, 1s left]  [*] 19.1 MB / 24.6 MB @ 2.3 MB/s [##############----] [77.9%, 1s left]  [*] 19.2 MB / 24.6 MB @ 2.0 MB/s [##############----] [78.0%, 1s left]  [*] 19.2 MB / 24.6 MB @ 1.9 MB/s [##############----] [78.2%, 1s left]  [*] 19.2 MB / 24.6 MB @ 1.7 MB/s [##############----] [78.2%, 1s left]  [*] 19.3 MB / 24.6 MB @ 1.7 MB/s [##############----] [78.4%, 1s left]  [*] 19.3 MB / 24.6 MB @ 1.5 MB/s [##############----] [78.5%, 1s left]  [*] 19.3 MB / 24.6 MB @ 1.4 MB/s [##############----] [78.6%, 2s left]  [*] 19.3 MB / 24.6 MB @ 1.4 MB/s [##############----] [78.7%, 2s left]  [*] 19.4 MB / 24.6 MB @ 1.3 MB/s [##############----] [78.8%, 2s left]  [*] 19.4 MB / 24.6 MB @ 1.2 MB/s [##############----] [79.0%, 2s left]  [*] 19.4 MB / 24.6 MB @ 1.1 MB/s [##############----] [79.1%, 2s left]  [*] 19.5 MB / 24.6 MB @ 1.1 MB/s [##############----] [79.2%, 2s left]  [*] 19.5 MB / 24.6 MB @ 1.1 MB/s [##############----] [79.3%, 2s left]  [*] 19.5 MB / 24.6 MB @ 1.1 MB/s [##############----] [79.5%, 2s left]  [*] 19.5 MB / 24.6 MB @ 1.1 MB/s [##############----] [79.6%, 2s left]  [*] 19.6 MB / 24.6 MB @ 1.1 MB/s [##############----] [79.7%, 2s left]  [*] 19.6 MB / 24.6 MB @ 1.1 MB/s [##############----] [79.8%, 2s left]  [*] 19.6 MB / 24.6 MB @ 959 kB/s [##############----] [80.0%, 2s left]  [*] 19.7 MB / 24.6 MB @ 906 kB/s [##############----] [80.2%, 2s left]  [*] 19.7 MB / 24.6 MB @ 831 kB/s [##############----] [80.4%, 2s left]  [*] 19.8 MB / 24.6 MB @ 698 kB/s [##############----] [80.5%, 2s left]  [*] 19.8 MB / 24.6 MB @ 703 kB/s [##############----] [80.7%, 2s left]  [*] 19.9 MB / 24.6 MB @ 575 kB/s [##############----] [80.9%, 2s left]  [*] 19.9 MB / 24.6 MB @ 495 kB/s [##############----] [81.0%, 2s left]  [*] 19.9 MB / 24.6 MB @ 426 kB/s [##############----] [81.1%, 2s left]  [*] 20.0 MB / 24.6 MB @ 315 kB/s [##############----] [81.2%, 2s left]  [*] 20.0 MB / 24.6 MB @ 320 kB/s [##############----] [81.4%, 5s left]  [*] 20.0 MB / 24.6 MB @ 331 kB/s [##############----] [81.6%, 5s left]  [*] 20.1 MB / 24.6 MB @ 331 kB/s [##############----] [81.7%, 5s left]  [*] 20.2 MB / 24.6 MB @ 352 kB/s [##############----] [82.1%, 5s left]  [*] 20.2 MB / 24.6 MB @ 357 kB/s [##############----] [82.2%, 5s left]  [*] 20.2 MB / 24.6 MB @ 363 kB/s [##############----] [82.3%, 5s left]  [*] 20.3 MB / 24.6 MB @ 368 kB/s [##############----] [82.6%, 5s left]  [*] 20.3 MB / 24.6 MB @ 384 kB/s [##############----] [82.8%, 5s left]  [*] 20.4 MB / 24.6 MB @ 379 kB/s [##############----] [82.9%, 5s left]  [*] 20.4 MB / 24.6 MB @ 379 kB/s [##############----] [83.0%, 5s left]  [*] 20.5 MB / 24.6 MB @ 400 kB/s [###############---] [83.3%, 8s left]  [*] 20.5 MB / 24.6 MB @ 405 kB/s [###############---] [83.5%, 8s left]  [*] 20.6 MB / 24.6 MB @ 411 kB/s [###############---] [83.7%, 8s left]  [*] 20.6 MB / 24.6 MB @ 416 kB/s [###############---] [83.9%, 8s left]  [*] 20.7 MB / 24.6 MB @ 427 kB/s [###############---] [84.2%, 8s left]  [*] 20.7 MB / 24.6 MB @ 432 kB/s [###############---] [84.4%, 8s left]  [*] 20.8 MB / 24.6 MB @ 437 kB/s [###############---] [84.6%, 8s left]  [*] 20.8 MB / 24.6 MB @ 443 kB/s [###############---] [84.7%, 8s left]  [*] 20.9 MB / 24.6 MB @ 459 kB/s [###############---] [85.1%, 8s left]  [*] 20.9 MB / 24.6 MB @ 464 kB/s [###############---] [85.3%, 8s left]  [*] 21.0 MB / 24.6 MB @ 469 kB/s [###############---] [85.4%, 10s left]   [*] 21.0 MB / 24.6 MB @ 480 kB/s [###############---] [85.7%, 10s left]   [*] 21.1 MB / 24.6 MB @ 480 kB/s [###############---] [86.0%, 10s left]   [*] 21.2 MB / 24.6 MB @ 485 kB/s [###############---] [86.1%, 10s left]   [*] 21.2 MB / 24.6 MB @ 496 kB/s [###############---] [86.4%, 10s left]   [*] 21.3 MB / 24.6 MB @ 496 kB/s [###############---] [86.7%, 10s left]   [*] 21.3 MB / 24.6 MB @ 507 kB/s [###############---] [86.9%, 10s left]   [*] 21.4 MB / 24.6 MB @ 512 kB/s [###############---] [87.1%, 10s left]   [*] 21.4 MB / 24.6 MB @ 517 kB/s [###############---] [87.3%, 10s left]   [*] 21.5 MB / 24.6 MB @ 544 kB/s [###############---] [87.7%, 10s left]   [*] 21.6 MB / 24.6 MB @ 539 kB/s [###############---] [87.9%, 9s left]  [*] 21.6 MB / 24.6 MB @ 539 kB/s [###############---] [88.1%, 9s left]  [*] 21.7 MB / 24.6 MB @ 565 kB/s [###############---] [88.4%, 9s left]  [*] 21.8 MB / 24.6 MB @ 549 kB/s [###############---] [88.6%, 9s left]  [*] 21.8 MB / 24.6 MB @ 565 kB/s [################--] [88.9%, 9s left]  [*] 22.0 MB / 24.6 MB @ 592 kB/s [################--] [89.4%, 9s left]  [*] 22.0 MB / 24.6 MB @ 581 kB/s [################--] [89.5%, 9s left]  [*] 22.0 MB / 24.6 MB @ 587 kB/s [################--] [89.8%, 9s left]  [*] 22.1 MB / 24.6 MB @ 608 kB/s [################--] [90.2%, 9s left]  [*] 22.2 MB / 24.6 MB @ 608 kB/s [################--] [90.3%, 9s left]  [*] 22.3 MB / 24.6 MB @ 613 kB/s [################--] [90.7%, 6s left]  [*] 22.3 MB / 24.6 MB @ 619 kB/s [################--] [90.9%, 6s left]  [*] 22.4 MB / 24.6 MB @ 619 kB/s [################--] [91.1%, 6s left]  [*] 22.5 MB / 24.6 MB @ 645 kB/s [################--] [91.6%, 6s left]  [*] 22.5 MB / 24.6 MB @ 640 kB/s [################--] [91.8%, 6s left]  [*] 22.6 MB / 24.6 MB @ 645 kB/s [################--] [92.1%, 6s left]  [*] 22.8 MB / 24.6 MB @ 677 kB/s [################--] [92.6%, 6s left]  [*] 22.8 MB / 24.6 MB @ 677 kB/s [################--] [92.8%, 6s left]  [*] 22.9 MB / 24.6 MB @ 672 kB/s [################--] [93.1%, 6s left]  [*] 23.0 MB / 24.6 MB @ 699 kB/s [################--] [93.6%, 6s left]  [*] 23.0 MB / 24.6 MB @ 693 kB/s [################--] [93.7%, 4s left]  [*] 23.1 MB / 24.6 MB @ 704 kB/s [################--] [94.1%, 4s left]  [*] 23.2 MB / 24.6 MB @ 725 kB/s [#################-] [94.6%, 4s left]  [*] 23.3 MB / 24.6 MB @ 715 kB/s [#################-] [94.7%, 4s left]  [*] 23.4 MB / 24.6 MB @ 730 kB/s [#################-] [95.1%, 4s left]  [*] 23.4 MB / 24.6 MB @ 730 kB/s [#################-] [95.4%, 4s left]  [*] 23.4 MB / 24.6 MB @ 709 kB/s [#################-] [95.4%, 4s left]  [*] 23.5 MB / 24.6 MB @ 714 kB/s [#################-] [95.6%, 4s left]  [*] 23.5 MB / 24.6 MB @ 714 kB/s [#################-] [95.8%, 4s left]  [*] 23.6 MB / 24.6 MB @ 687 kB/s [#################-] [95.9%, 4s left]  [*] 23.6 MB / 24.6 MB @ 693 kB/s [#################-] [96.1%, 3s left]  [*] 23.7 MB / 24.6 MB @ 693 kB/s [#################-] [96.3%, 3s left]  [*] 23.7 MB / 24.6 MB @ 671 kB/s [#################-] [96.4%, 3s left]  [*] 23.8 MB / 24.6 MB @ 677 kB/s [#################-] [96.7%, 3s left]  [*] 23.8 MB / 24.6 MB @ 655 kB/s [#################-] [96.8%, 3s left]  [*] 23.8 MB / 24.6 MB @ 645 kB/s [#################-] [97.1%, 3s left]  [*] 23.9 MB / 24.6 MB @ 655 kB/s [#################-] [97.3%, 3s left]  [*] 23.9 MB / 24.6 MB @ 634 kB/s [#################-] [97.3%, 3s left]  [*] 24.0 MB / 24.6 MB @ 629 kB/s [#################-] [97.7%, 3s left]  [*] 24.0 MB / 24.6 MB @ 634 kB/s [#################-] [97.8%, 3s left]  [*] 24.1 MB / 24.6 MB @ 613 kB/s [#################-] [98.0%, 1s left]  [*] 24.1 MB / 24.6 MB @ 618 kB/s [#################-] [98.3%, 1s left]  [*] 24.2 MB / 24.6 MB @ 613 kB/s [#################-] [98.4%, 1s left]  [*] 24.2 MB / 24.6 MB @ 591 kB/s [#################-] [98.7%, 1s left]  [*] 24.3 MB / 24.6 MB @ 597 kB/s [#################-] [98.9%, 1s left]  [*] 24.3 MB / 24.6 MB @ 581 kB/s [#################-] [99.0%, 1s left]  [*] 24.4 MB / 24.6 MB @ 559 kB/s [#################-] [99.3%, 1s left]  [*] 24.5 MB / 24.6 MB @ 570 kB/s [#################-] [99.6%, 1s left]  [*] 24.5 MB / 24.6 MB @ 554 kB/s [#################-] [99.7%, 1s left]  Processing c:\\users\\kapeesh shukla\\pipwin\\gdal-3.4.3-cp310-cp310-win_amd64.whl\n",
      "GDAL is already installed with the same version as the provided wheel. Use --force-reinstall to force an installation of the wheel.\n",
      "[*] 24.6 MB / 24.6 MB @ 554 kB/s [##################] [100%, 0s left]    \n"
     ]
    },
    {
     "name": "stdout",
     "output_type": "stream",
     "text": [
      "Package `fiona` found in cache\n",
      "Downloading package . . .\n",
      "https://download.lfd.uci.edu/pythonlibs/archived/Fiona-1.8.21-cp310-cp310-win_amd64.whl\n",
      "Fiona-1.8.21-cp310-cp310-win_amd64.whl\n",
      "[*] 0 bytes / 528 kB @ 0 bytes/s [------------------] [0.0%, 0s left]   [*] 0 bytes / 528 kB @ 0 bytes/s [------------------] [0.0%, 0s left]   [*] 0 bytes / 528 kB @ 0 bytes/s [------------------] [0.0%, 0s left]   [*] 0 bytes / 528 kB @ 0 bytes/s [------------------] [0.0%, 0s left]   [*] 0 bytes / 528 kB @ 0 bytes/s [------------------] [0.0%, 0s left]   [*] 0 bytes / 528 kB @ 0 bytes/s [------------------] [0.0%, 0s left]   [*] 0 bytes / 528 kB @ 0 bytes/s [------------------] [0.0%, 0s left]   [*] 0 bytes / 528 kB @ 0 bytes/s [------------------] [0.0%, 0s left]   [*] 0 bytes / 528 kB @ 0 bytes/s [------------------] [0.0%, 0s left]   [*] 8 kB / 528 kB @ 8 kB/s [------------------] [1.5%, 0s left]   [*] 24 kB / 528 kB @ 22 kB/s [------------------] [4.5%, 0s left]   [*] 24 kB / 528 kB @ 20 kB/s [------------------] [4.5%, 0s left]   [*] 56 kB / 528 kB @ 43 kB/s [#-----------------] [10.6%, 0s left]  [*] 88 kB / 528 kB @ 63 kB/s [###---------------] [16.7%, 0s left]  [*] 88 kB / 528 kB @ 59 kB/s [###---------------] [16.7%, 0s left]  [*] 152 kB / 528 kB @ 95 kB/s [#####-------------] [28.8%, 0s left]   [*] 248 kB / 528 kB @ 146 kB/s [########----------] [47.0%, 0s left]  [*] 248 kB / 528 kB @ 138 kB/s [########----------] [47.0%, 0s left]  [*] 360 kB / 528 kB @ 189 kB/s [############------] [68.2%, 0s left]  [*] 360 kB / 528 kB @ 180 kB/s [############------] [68.2%, 0s left]  Processing c:\\users\\kapeesh shukla\\pipwin\\fiona-1.8.21-cp310-cp310-win_amd64.whl\n",
      "Requirement already satisfied: attrs>=17 in c:\\users\\kapeesh shukla\\appdata\\local\\programs\\python\\python310\\lib\\site-packages (from Fiona==1.8.21) (21.4.0)\n",
      "Requirement already satisfied: cligj>=0.5 in c:\\users\\kapeesh shukla\\appdata\\local\\programs\\python\\python310\\lib\\site-packages (from Fiona==1.8.21) (0.7.2)\n",
      "Requirement already satisfied: certifi in c:\\users\\kapeesh shukla\\appdata\\local\\programs\\python\\python310\\lib\\site-packages (from Fiona==1.8.21) (2022.6.15)\n",
      "Requirement already satisfied: munch in c:\\users\\kapeesh shukla\\appdata\\local\\programs\\python\\python310\\lib\\site-packages (from Fiona==1.8.21) (2.5.0)\n",
      "Requirement already satisfied: click>=4.0 in c:\\users\\kapeesh shukla\\appdata\\local\\programs\\python\\python310\\lib\\site-packages (from Fiona==1.8.21) (8.1.3)\n",
      "Requirement already satisfied: six>=1.7 in c:\\users\\kapeesh shukla\\appdata\\local\\programs\\python\\python310\\lib\\site-packages (from Fiona==1.8.21) (1.16.0)\n",
      "Requirement already satisfied: gdal~=3.4.3 in c:\\users\\kapeesh shukla\\appdata\\local\\programs\\python\\python310\\lib\\site-packages (from Fiona==1.8.21) (3.4.3)\n",
      "Requirement already satisfied: click-plugins>=1.0 in c:\\users\\kapeesh shukla\\appdata\\local\\programs\\python\\python310\\lib\\site-packages (from Fiona==1.8.21) (1.1.1)\n",
      "Requirement already satisfied: setuptools in c:\\users\\kapeesh shukla\\appdata\\local\\programs\\python\\python310\\lib\\site-packages (from Fiona==1.8.21) (58.1.0)\n",
      "Requirement already satisfied: colorama in c:\\users\\kapeesh shukla\\appdata\\local\\programs\\python\\python310\\lib\\site-packages (from click>=4.0->Fiona==1.8.21) (0.4.5)\n",
      "Fiona is already installed with the same version as the provided wheel. Use --force-reinstall to force an installation of the wheel.\n",
      "[*] 528 kB / 528 kB @ 180 kB/s [##################] [100%, 0s left]    \n",
      "Requirement already satisfied: geopandas in c:\\users\\kapeesh shukla\\appdata\\local\\programs\\python\\python310\\lib\\site-packages (0.11.1)\n",
      "Requirement already satisfied: fiona>=1.8 in c:\\users\\kapeesh shukla\\appdata\\local\\programs\\python\\python310\\lib\\site-packages (from geopandas) (1.8.21)\n",
      "Requirement already satisfied: pyproj>=2.6.1.post1 in c:\\users\\kapeesh shukla\\appdata\\local\\programs\\python\\python310\\lib\\site-packages (from geopandas) (3.3.1)\n",
      "Requirement already satisfied: shapely<2,>=1.7 in c:\\users\\kapeesh shukla\\appdata\\local\\programs\\python\\python310\\lib\\site-packages (from geopandas) (1.8.4)\n",
      "Requirement already satisfied: packaging in c:\\users\\kapeesh shukla\\appdata\\local\\programs\\python\\python310\\lib\\site-packages (from geopandas) (21.3)\n",
      "Requirement already satisfied: pandas>=1.0.0 in c:\\users\\kapeesh shukla\\appdata\\local\\programs\\python\\python310\\lib\\site-packages (from geopandas) (1.4.4)\n",
      "Requirement already satisfied: attrs>=17 in c:\\users\\kapeesh shukla\\appdata\\local\\programs\\python\\python310\\lib\\site-packages (from fiona>=1.8->geopandas) (21.4.0)\n",
      "Requirement already satisfied: setuptools in c:\\users\\kapeesh shukla\\appdata\\local\\programs\\python\\python310\\lib\\site-packages (from fiona>=1.8->geopandas) (58.1.0)\n",
      "Requirement already satisfied: munch in c:\\users\\kapeesh shukla\\appdata\\local\\programs\\python\\python310\\lib\\site-packages (from fiona>=1.8->geopandas) (2.5.0)\n",
      "Requirement already satisfied: click-plugins>=1.0 in c:\\users\\kapeesh shukla\\appdata\\local\\programs\\python\\python310\\lib\\site-packages (from fiona>=1.8->geopandas) (1.1.1)\n",
      "Requirement already satisfied: six>=1.7 in c:\\users\\kapeesh shukla\\appdata\\local\\programs\\python\\python310\\lib\\site-packages (from fiona>=1.8->geopandas) (1.16.0)\n",
      "Requirement already satisfied: cligj>=0.5 in c:\\users\\kapeesh shukla\\appdata\\local\\programs\\python\\python310\\lib\\site-packages (from fiona>=1.8->geopandas) (0.7.2)\n",
      "Requirement already satisfied: gdal~=3.4.3 in c:\\users\\kapeesh shukla\\appdata\\local\\programs\\python\\python310\\lib\\site-packages (from fiona>=1.8->geopandas) (3.4.3)\n",
      "Requirement already satisfied: certifi in c:\\users\\kapeesh shukla\\appdata\\local\\programs\\python\\python310\\lib\\site-packages (from fiona>=1.8->geopandas) (2022.6.15)\n",
      "Requirement already satisfied: click>=4.0 in c:\\users\\kapeesh shukla\\appdata\\local\\programs\\python\\python310\\lib\\site-packages (from fiona>=1.8->geopandas) (8.1.3)\n",
      "Requirement already satisfied: python-dateutil>=2.8.1 in c:\\users\\kapeesh shukla\\appdata\\local\\programs\\python\\python310\\lib\\site-packages (from pandas>=1.0.0->geopandas) (2.8.2)\n",
      "Requirement already satisfied: pytz>=2020.1 in c:\\users\\kapeesh shukla\\appdata\\local\\programs\\python\\python310\\lib\\site-packages (from pandas>=1.0.0->geopandas) (2022.2.1)\n",
      "Requirement already satisfied: numpy>=1.21.0 in c:\\users\\kapeesh shukla\\appdata\\local\\programs\\python\\python310\\lib\\site-packages (from pandas>=1.0.0->geopandas) (1.23.2)\n",
      "Requirement already satisfied: pyparsing!=3.0.5,>=2.0.2 in c:\\users\\kapeesh shukla\\appdata\\local\\programs\\python\\python310\\lib\\site-packages (from packaging->geopandas) (3.0.9)\n",
      "Requirement already satisfied: colorama in c:\\users\\kapeesh shukla\\appdata\\local\\programs\\python\\python310\\lib\\site-packages (from click>=4.0->fiona>=1.8->geopandas) (0.4.5)\n"
     ]
    }
   ],
   "source": [
    "!pip install pipwin\n",
    "!pipwin install gdal\n",
    "!pipwin install fiona\n",
    "!pip install geopandas"
   ]
  },
  {
   "cell_type": "code",
   "execution_count": 225,
   "id": "ddfa04b8",
   "metadata": {},
   "outputs": [
    {
     "name": "stdout",
     "output_type": "stream",
     "text": [
      "Requirement already satisfied: plotly.express in c:\\users\\kapeesh shukla\\appdata\\local\\programs\\python\\python310\\lib\\site-packages (0.4.1)\n",
      "Requirement already satisfied: pandas>=0.20.0 in c:\\users\\kapeesh shukla\\appdata\\local\\programs\\python\\python310\\lib\\site-packages (from plotly.express) (1.4.4)\n",
      "Requirement already satisfied: patsy>=0.5 in c:\\users\\kapeesh shukla\\appdata\\local\\programs\\python\\python310\\lib\\site-packages (from plotly.express) (0.5.2)\n",
      "Requirement already satisfied: statsmodels>=0.9.0 in c:\\users\\kapeesh shukla\\appdata\\local\\programs\\python\\python310\\lib\\site-packages (from plotly.express) (0.13.2)\n",
      "Requirement already satisfied: numpy>=1.11 in c:\\users\\kapeesh shukla\\appdata\\local\\programs\\python\\python310\\lib\\site-packages (from plotly.express) (1.23.2)\n",
      "Requirement already satisfied: scipy>=0.18 in c:\\users\\kapeesh shukla\\appdata\\local\\programs\\python\\python310\\lib\\site-packages (from plotly.express) (1.9.1)\n",
      "Requirement already satisfied: plotly>=4.1.0 in c:\\users\\kapeesh shukla\\appdata\\local\\programs\\python\\python310\\lib\\site-packages (from plotly.express) (4.6.0)\n",
      "Requirement already satisfied: pytz>=2020.1 in c:\\users\\kapeesh shukla\\appdata\\local\\programs\\python\\python310\\lib\\site-packages (from pandas>=0.20.0->plotly.express) (2022.2.1)\n",
      "Requirement already satisfied: python-dateutil>=2.8.1 in c:\\users\\kapeesh shukla\\appdata\\local\\programs\\python\\python310\\lib\\site-packages (from pandas>=0.20.0->plotly.express) (2.8.2)\n",
      "Requirement already satisfied: six in c:\\users\\kapeesh shukla\\appdata\\local\\programs\\python\\python310\\lib\\site-packages (from patsy>=0.5->plotly.express) (1.16.0)\n",
      "Requirement already satisfied: retrying>=1.3.3 in c:\\users\\kapeesh shukla\\appdata\\local\\programs\\python\\python310\\lib\\site-packages (from plotly>=4.1.0->plotly.express) (1.3.3)\n",
      "Requirement already satisfied: packaging>=21.3 in c:\\users\\kapeesh shukla\\appdata\\local\\programs\\python\\python310\\lib\\site-packages (from statsmodels>=0.9.0->plotly.express) (21.3)\n",
      "Requirement already satisfied: pyparsing!=3.0.5,>=2.0.2 in c:\\users\\kapeesh shukla\\appdata\\local\\programs\\python\\python310\\lib\\site-packages (from packaging>=21.3->statsmodels>=0.9.0->plotly.express) (3.0.9)\n",
      "Requirement already satisfied: plotly in c:\\users\\kapeesh shukla\\appdata\\local\\programs\\python\\python310\\lib\\site-packages (4.6.0)\n",
      "Requirement already satisfied: retrying>=1.3.3 in c:\\users\\kapeesh shukla\\appdata\\local\\programs\\python\\python310\\lib\\site-packages (from plotly) (1.3.3)\n",
      "Requirement already satisfied: six in c:\\users\\kapeesh shukla\\appdata\\local\\programs\\python\\python310\\lib\\site-packages (from plotly) (1.16.0)\n",
      "Requirement already satisfied: matplotlib in c:\\users\\kapeesh shukla\\appdata\\local\\programs\\python\\python310\\lib\\site-packages (3.5.3)\n",
      "Requirement already satisfied: cycler>=0.10 in c:\\users\\kapeesh shukla\\appdata\\local\\programs\\python\\python310\\lib\\site-packages (from matplotlib) (0.11.0)\n",
      "Requirement already satisfied: pillow>=6.2.0 in c:\\users\\kapeesh shukla\\appdata\\local\\programs\\python\\python310\\lib\\site-packages (from matplotlib) (9.2.0)\n",
      "Requirement already satisfied: pyparsing>=2.2.1 in c:\\users\\kapeesh shukla\\appdata\\local\\programs\\python\\python310\\lib\\site-packages (from matplotlib) (3.0.9)\n",
      "Requirement already satisfied: numpy>=1.17 in c:\\users\\kapeesh shukla\\appdata\\local\\programs\\python\\python310\\lib\\site-packages (from matplotlib) (1.23.2)\n",
      "Requirement already satisfied: kiwisolver>=1.0.1 in c:\\users\\kapeesh shukla\\appdata\\local\\programs\\python\\python310\\lib\\site-packages (from matplotlib) (1.4.4)\n",
      "Requirement already satisfied: python-dateutil>=2.7 in c:\\users\\kapeesh shukla\\appdata\\local\\programs\\python\\python310\\lib\\site-packages (from matplotlib) (2.8.2)\n",
      "Requirement already satisfied: fonttools>=4.22.0 in c:\\users\\kapeesh shukla\\appdata\\local\\programs\\python\\python310\\lib\\site-packages (from matplotlib) (4.37.1)\n",
      "Requirement already satisfied: packaging>=20.0 in c:\\users\\kapeesh shukla\\appdata\\local\\programs\\python\\python310\\lib\\site-packages (from matplotlib) (21.3)\n",
      "Requirement already satisfied: six>=1.5 in c:\\users\\kapeesh shukla\\appdata\\local\\programs\\python\\python310\\lib\\site-packages (from python-dateutil>=2.7->matplotlib) (1.16.0)\n",
      "Requirement already satisfied: lasio in c:\\users\\kapeesh shukla\\appdata\\local\\programs\\python\\python310\\lib\\site-packages (0.30)\n",
      "Requirement already satisfied: numpy in c:\\users\\kapeesh shukla\\appdata\\local\\programs\\python\\python310\\lib\\site-packages (from lasio) (1.23.2)\n",
      "Requirement already satisfied: folium in c:\\users\\kapeesh shukla\\appdata\\local\\programs\\python\\python310\\lib\\site-packages (0.12.1.post1)\n",
      "Requirement already satisfied: branca>=0.3.0 in c:\\users\\kapeesh shukla\\appdata\\local\\programs\\python\\python310\\lib\\site-packages (from folium) (0.5.0)\n",
      "Requirement already satisfied: requests in c:\\users\\kapeesh shukla\\appdata\\local\\programs\\python\\python310\\lib\\site-packages (from folium) (2.28.1)\n",
      "Requirement already satisfied: jinja2>=2.9 in c:\\users\\kapeesh shukla\\appdata\\local\\programs\\python\\python310\\lib\\site-packages (from folium) (3.1.2)\n",
      "Requirement already satisfied: numpy in c:\\users\\kapeesh shukla\\appdata\\local\\programs\\python\\python310\\lib\\site-packages (from folium) (1.23.2)\n",
      "Requirement already satisfied: MarkupSafe>=2.0 in c:\\users\\kapeesh shukla\\appdata\\local\\programs\\python\\python310\\lib\\site-packages (from jinja2>=2.9->folium) (2.1.1)\n",
      "Requirement already satisfied: urllib3<1.27,>=1.21.1 in c:\\users\\kapeesh shukla\\appdata\\local\\programs\\python\\python310\\lib\\site-packages (from requests->folium) (1.26.12)\n",
      "Requirement already satisfied: charset-normalizer<3,>=2 in c:\\users\\kapeesh shukla\\appdata\\local\\programs\\python\\python310\\lib\\site-packages (from requests->folium) (2.1.1)\n",
      "Requirement already satisfied: idna<4,>=2.5 in c:\\users\\kapeesh shukla\\appdata\\local\\programs\\python\\python310\\lib\\site-packages (from requests->folium) (3.3)\n",
      "Requirement already satisfied: certifi>=2017.4.17 in c:\\users\\kapeesh shukla\\appdata\\local\\programs\\python\\python310\\lib\\site-packages (from requests->folium) (2022.6.15)\n"
     ]
    }
   ],
   "source": [
    "!pip install plotly.express\n",
    "!pip install plotly\n",
    "!pip install matplotlib\n",
    "!pip install lasio\n",
    "!pip install folium"
   ]
  },
  {
   "cell_type": "code",
   "execution_count": 241,
   "id": "2e7c40ee",
   "metadata": {},
   "outputs": [],
   "source": [
    "import pandas as pd"
   ]
  },
  {
   "cell_type": "code",
   "execution_count": 242,
   "id": "82e22030",
   "metadata": {},
   "outputs": [],
   "source": [
    "import plotly.express as px\n",
    "import geopandas as gpd\n",
    "import matplotlib\n",
    "import lasio\n",
    "import folium"
   ]
  },
  {
   "cell_type": "code",
   "execution_count": 289,
   "id": "874c08ac",
   "metadata": {},
   "outputs": [
    {
     "data": {
      "application/vnd.plotly.v1+json": {
       "config": {
        "plotlyServerURL": "https://plot.ly"
       },
       "data": [
        {
         "customdata": [
          [
           "Alderley",
           106.4
          ],
          [
           "Eagle Farm Racecourse",
           70
          ],
          [
           "Brisbane Botanic Gardens Mt Coot-tha",
           78.2
          ],
          [
           "Brisbane",
           68.8
          ],
          [
           "Clontarf",
           20.8
          ],
          [
           "Capalaba Water Treat",
           26.8
          ],
          [
           "Ormiston College",
           29.6
          ],
          [
           "Toombul Bowls Club",
           64.2
          ],
          [
           "Manly Railway Station",
           49.4
          ],
          [
           "Fort Lytton",
           44.2
          ]
         ],
         "hovertemplate": "<b>%{hovertext}</b><br><br>22 Feb 2011=%{marker.color}<br>StationName=%{customdata[0]}<br>22/2/2011=%{customdata[1]}<br>text=%{text}<br>lat=%{lat}<br>long=%{lon}<extra></extra>",
         "hovertext": [
          "Alderley",
          "Eagle Farm Racecourse",
          "Brisbane Botanic Gardens Mt Coot-tha",
          "Brisbane",
          "Clontarf",
          "Capalaba Water Treat",
          "Ormiston College",
          "Toombul Bowls Club",
          "Manly Railway Station",
          "Fort Lytton"
         ],
         "lat": [
          -27.42,
          -27.43,
          -27.48,
          -27.48,
          -27.24,
          -27.53,
          -27.52,
          -27.39,
          -27.46,
          -27.41
         ],
         "legendgroup": "",
         "lon": [
          153,
          153.07,
          152.98,
          153.04,
          153.09,
          153.18,
          153.25,
          153.06,
          153.18,
          153.15
         ],
         "marker": {
          "color": [
           1,
           1,
           1,
           1,
           0,
           0,
           0,
           1,
           1,
           1
          ],
          "coloraxis": "coloraxis",
          "size": [
           1,
           1,
           1,
           1,
           0,
           0,
           0,
           1,
           1,
           1
          ],
          "sizemode": "area",
          "sizeref": 0.01
         },
         "mode": "markers+text",
         "name": "",
         "showlegend": false,
         "subplot": "mapbox",
         "text": [
          "Alderley<br>-27.42<br>153.0",
          "Eagle Farm Racecourse<br>-27.43<br>153.07",
          "Brisbane Botanic Gardens Mt Coot-tha<br>-27.48<br>152.98",
          "Brisbane<br>-27.48<br>153.04",
          "Clontarf<br>-27.24<br>153.09",
          "Capalaba Water Treat<br>-27.53<br>153.18",
          "Ormiston College<br>-27.52<br>153.25",
          "Toombul Bowls Club<br>-27.39<br>153.06",
          "Manly Railway Station<br>-27.46<br>153.18",
          "Fort Lytton<br>-27.41<br>153.15"
         ],
         "type": "scattermapbox"
        }
       ],
       "layout": {
        "coloraxis": {
         "cmax": 1,
         "cmin": 0,
         "colorbar": {
          "title": {
           "text": "22 Feb 2011"
          }
         },
         "colorscale": [
          [
           0,
           "#000000"
          ],
          [
           0.0625,
           "#001f4d"
          ],
          [
           0.125,
           "#003786"
          ],
          [
           0.1875,
           "#0e58a8"
          ],
          [
           0.25,
           "#217eb8"
          ],
          [
           0.3125,
           "#30a4ca"
          ],
          [
           0.375,
           "#54c8df"
          ],
          [
           0.4375,
           "#9be4ef"
          ],
          [
           0.5,
           "#e1e9d1"
          ],
          [
           0.5625,
           "#f3d573"
          ],
          [
           0.625,
           "#e7b000"
          ],
          [
           0.6875,
           "#da8200"
          ],
          [
           0.75,
           "#c65400"
          ],
          [
           0.8125,
           "#ac2301"
          ],
          [
           0.875,
           "#820000"
          ],
          [
           0.9375,
           "#4c0000"
          ],
          [
           1,
           "#000000"
          ]
         ]
        },
        "legend": {
         "itemsizing": "constant",
         "tracegroupgap": 0
        },
        "mapbox": {
         "center": {
          "lat": -27.436,
          "lon": 153.1
         },
         "domain": {
          "x": [
           0,
           1
          ],
          "y": [
           0,
           1
          ]
         },
         "style": "carto-positron",
         "zoom": 10
        },
        "template": {
         "data": {
          "bar": [
           {
            "error_x": {
             "color": "#2a3f5f"
            },
            "error_y": {
             "color": "#2a3f5f"
            },
            "marker": {
             "line": {
              "color": "#E5ECF6",
              "width": 0.5
             }
            },
            "type": "bar"
           }
          ],
          "barpolar": [
           {
            "marker": {
             "line": {
              "color": "#E5ECF6",
              "width": 0.5
             }
            },
            "type": "barpolar"
           }
          ],
          "carpet": [
           {
            "aaxis": {
             "endlinecolor": "#2a3f5f",
             "gridcolor": "white",
             "linecolor": "white",
             "minorgridcolor": "white",
             "startlinecolor": "#2a3f5f"
            },
            "baxis": {
             "endlinecolor": "#2a3f5f",
             "gridcolor": "white",
             "linecolor": "white",
             "minorgridcolor": "white",
             "startlinecolor": "#2a3f5f"
            },
            "type": "carpet"
           }
          ],
          "choropleth": [
           {
            "colorbar": {
             "outlinewidth": 0,
             "ticks": ""
            },
            "type": "choropleth"
           }
          ],
          "contour": [
           {
            "colorbar": {
             "outlinewidth": 0,
             "ticks": ""
            },
            "colorscale": [
             [
              0,
              "#0d0887"
             ],
             [
              0.1111111111111111,
              "#46039f"
             ],
             [
              0.2222222222222222,
              "#7201a8"
             ],
             [
              0.3333333333333333,
              "#9c179e"
             ],
             [
              0.4444444444444444,
              "#bd3786"
             ],
             [
              0.5555555555555556,
              "#d8576b"
             ],
             [
              0.6666666666666666,
              "#ed7953"
             ],
             [
              0.7777777777777778,
              "#fb9f3a"
             ],
             [
              0.8888888888888888,
              "#fdca26"
             ],
             [
              1,
              "#f0f921"
             ]
            ],
            "type": "contour"
           }
          ],
          "contourcarpet": [
           {
            "colorbar": {
             "outlinewidth": 0,
             "ticks": ""
            },
            "type": "contourcarpet"
           }
          ],
          "heatmap": [
           {
            "colorbar": {
             "outlinewidth": 0,
             "ticks": ""
            },
            "colorscale": [
             [
              0,
              "#0d0887"
             ],
             [
              0.1111111111111111,
              "#46039f"
             ],
             [
              0.2222222222222222,
              "#7201a8"
             ],
             [
              0.3333333333333333,
              "#9c179e"
             ],
             [
              0.4444444444444444,
              "#bd3786"
             ],
             [
              0.5555555555555556,
              "#d8576b"
             ],
             [
              0.6666666666666666,
              "#ed7953"
             ],
             [
              0.7777777777777778,
              "#fb9f3a"
             ],
             [
              0.8888888888888888,
              "#fdca26"
             ],
             [
              1,
              "#f0f921"
             ]
            ],
            "type": "heatmap"
           }
          ],
          "heatmapgl": [
           {
            "colorbar": {
             "outlinewidth": 0,
             "ticks": ""
            },
            "colorscale": [
             [
              0,
              "#0d0887"
             ],
             [
              0.1111111111111111,
              "#46039f"
             ],
             [
              0.2222222222222222,
              "#7201a8"
             ],
             [
              0.3333333333333333,
              "#9c179e"
             ],
             [
              0.4444444444444444,
              "#bd3786"
             ],
             [
              0.5555555555555556,
              "#d8576b"
             ],
             [
              0.6666666666666666,
              "#ed7953"
             ],
             [
              0.7777777777777778,
              "#fb9f3a"
             ],
             [
              0.8888888888888888,
              "#fdca26"
             ],
             [
              1,
              "#f0f921"
             ]
            ],
            "type": "heatmapgl"
           }
          ],
          "histogram": [
           {
            "marker": {
             "colorbar": {
              "outlinewidth": 0,
              "ticks": ""
             }
            },
            "type": "histogram"
           }
          ],
          "histogram2d": [
           {
            "colorbar": {
             "outlinewidth": 0,
             "ticks": ""
            },
            "colorscale": [
             [
              0,
              "#0d0887"
             ],
             [
              0.1111111111111111,
              "#46039f"
             ],
             [
              0.2222222222222222,
              "#7201a8"
             ],
             [
              0.3333333333333333,
              "#9c179e"
             ],
             [
              0.4444444444444444,
              "#bd3786"
             ],
             [
              0.5555555555555556,
              "#d8576b"
             ],
             [
              0.6666666666666666,
              "#ed7953"
             ],
             [
              0.7777777777777778,
              "#fb9f3a"
             ],
             [
              0.8888888888888888,
              "#fdca26"
             ],
             [
              1,
              "#f0f921"
             ]
            ],
            "type": "histogram2d"
           }
          ],
          "histogram2dcontour": [
           {
            "colorbar": {
             "outlinewidth": 0,
             "ticks": ""
            },
            "colorscale": [
             [
              0,
              "#0d0887"
             ],
             [
              0.1111111111111111,
              "#46039f"
             ],
             [
              0.2222222222222222,
              "#7201a8"
             ],
             [
              0.3333333333333333,
              "#9c179e"
             ],
             [
              0.4444444444444444,
              "#bd3786"
             ],
             [
              0.5555555555555556,
              "#d8576b"
             ],
             [
              0.6666666666666666,
              "#ed7953"
             ],
             [
              0.7777777777777778,
              "#fb9f3a"
             ],
             [
              0.8888888888888888,
              "#fdca26"
             ],
             [
              1,
              "#f0f921"
             ]
            ],
            "type": "histogram2dcontour"
           }
          ],
          "mesh3d": [
           {
            "colorbar": {
             "outlinewidth": 0,
             "ticks": ""
            },
            "type": "mesh3d"
           }
          ],
          "parcoords": [
           {
            "line": {
             "colorbar": {
              "outlinewidth": 0,
              "ticks": ""
             }
            },
            "type": "parcoords"
           }
          ],
          "pie": [
           {
            "automargin": true,
            "type": "pie"
           }
          ],
          "scatter": [
           {
            "marker": {
             "colorbar": {
              "outlinewidth": 0,
              "ticks": ""
             }
            },
            "type": "scatter"
           }
          ],
          "scatter3d": [
           {
            "line": {
             "colorbar": {
              "outlinewidth": 0,
              "ticks": ""
             }
            },
            "marker": {
             "colorbar": {
              "outlinewidth": 0,
              "ticks": ""
             }
            },
            "type": "scatter3d"
           }
          ],
          "scattercarpet": [
           {
            "marker": {
             "colorbar": {
              "outlinewidth": 0,
              "ticks": ""
             }
            },
            "type": "scattercarpet"
           }
          ],
          "scattergeo": [
           {
            "marker": {
             "colorbar": {
              "outlinewidth": 0,
              "ticks": ""
             }
            },
            "type": "scattergeo"
           }
          ],
          "scattergl": [
           {
            "marker": {
             "colorbar": {
              "outlinewidth": 0,
              "ticks": ""
             }
            },
            "type": "scattergl"
           }
          ],
          "scattermapbox": [
           {
            "marker": {
             "colorbar": {
              "outlinewidth": 0,
              "ticks": ""
             }
            },
            "type": "scattermapbox"
           }
          ],
          "scatterpolar": [
           {
            "marker": {
             "colorbar": {
              "outlinewidth": 0,
              "ticks": ""
             }
            },
            "type": "scatterpolar"
           }
          ],
          "scatterpolargl": [
           {
            "marker": {
             "colorbar": {
              "outlinewidth": 0,
              "ticks": ""
             }
            },
            "type": "scatterpolargl"
           }
          ],
          "scatterternary": [
           {
            "marker": {
             "colorbar": {
              "outlinewidth": 0,
              "ticks": ""
             }
            },
            "type": "scatterternary"
           }
          ],
          "surface": [
           {
            "colorbar": {
             "outlinewidth": 0,
             "ticks": ""
            },
            "colorscale": [
             [
              0,
              "#0d0887"
             ],
             [
              0.1111111111111111,
              "#46039f"
             ],
             [
              0.2222222222222222,
              "#7201a8"
             ],
             [
              0.3333333333333333,
              "#9c179e"
             ],
             [
              0.4444444444444444,
              "#bd3786"
             ],
             [
              0.5555555555555556,
              "#d8576b"
             ],
             [
              0.6666666666666666,
              "#ed7953"
             ],
             [
              0.7777777777777778,
              "#fb9f3a"
             ],
             [
              0.8888888888888888,
              "#fdca26"
             ],
             [
              1,
              "#f0f921"
             ]
            ],
            "type": "surface"
           }
          ],
          "table": [
           {
            "cells": {
             "fill": {
              "color": "#EBF0F8"
             },
             "line": {
              "color": "white"
             }
            },
            "header": {
             "fill": {
              "color": "#C8D4E3"
             },
             "line": {
              "color": "white"
             }
            },
            "type": "table"
           }
          ]
         },
         "layout": {
          "annotationdefaults": {
           "arrowcolor": "#2a3f5f",
           "arrowhead": 0,
           "arrowwidth": 1
          },
          "coloraxis": {
           "colorbar": {
            "outlinewidth": 0,
            "ticks": ""
           }
          },
          "colorscale": {
           "diverging": [
            [
             0,
             "#8e0152"
            ],
            [
             0.1,
             "#c51b7d"
            ],
            [
             0.2,
             "#de77ae"
            ],
            [
             0.3,
             "#f1b6da"
            ],
            [
             0.4,
             "#fde0ef"
            ],
            [
             0.5,
             "#f7f7f7"
            ],
            [
             0.6,
             "#e6f5d0"
            ],
            [
             0.7,
             "#b8e186"
            ],
            [
             0.8,
             "#7fbc41"
            ],
            [
             0.9,
             "#4d9221"
            ],
            [
             1,
             "#276419"
            ]
           ],
           "sequential": [
            [
             0,
             "#0d0887"
            ],
            [
             0.1111111111111111,
             "#46039f"
            ],
            [
             0.2222222222222222,
             "#7201a8"
            ],
            [
             0.3333333333333333,
             "#9c179e"
            ],
            [
             0.4444444444444444,
             "#bd3786"
            ],
            [
             0.5555555555555556,
             "#d8576b"
            ],
            [
             0.6666666666666666,
             "#ed7953"
            ],
            [
             0.7777777777777778,
             "#fb9f3a"
            ],
            [
             0.8888888888888888,
             "#fdca26"
            ],
            [
             1,
             "#f0f921"
            ]
           ],
           "sequentialminus": [
            [
             0,
             "#0d0887"
            ],
            [
             0.1111111111111111,
             "#46039f"
            ],
            [
             0.2222222222222222,
             "#7201a8"
            ],
            [
             0.3333333333333333,
             "#9c179e"
            ],
            [
             0.4444444444444444,
             "#bd3786"
            ],
            [
             0.5555555555555556,
             "#d8576b"
            ],
            [
             0.6666666666666666,
             "#ed7953"
            ],
            [
             0.7777777777777778,
             "#fb9f3a"
            ],
            [
             0.8888888888888888,
             "#fdca26"
            ],
            [
             1,
             "#f0f921"
            ]
           ]
          },
          "colorway": [
           "#636efa",
           "#EF553B",
           "#00cc96",
           "#ab63fa",
           "#FFA15A",
           "#19d3f3",
           "#FF6692",
           "#B6E880",
           "#FF97FF",
           "#FECB52"
          ],
          "font": {
           "color": "#2a3f5f"
          },
          "geo": {
           "bgcolor": "white",
           "lakecolor": "white",
           "landcolor": "#E5ECF6",
           "showlakes": true,
           "showland": true,
           "subunitcolor": "white"
          },
          "hoverlabel": {
           "align": "left"
          },
          "hovermode": "closest",
          "mapbox": {
           "style": "light"
          },
          "paper_bgcolor": "white",
          "plot_bgcolor": "#E5ECF6",
          "polar": {
           "angularaxis": {
            "gridcolor": "white",
            "linecolor": "white",
            "ticks": ""
           },
           "bgcolor": "#E5ECF6",
           "radialaxis": {
            "gridcolor": "white",
            "linecolor": "white",
            "ticks": ""
           }
          },
          "scene": {
           "xaxis": {
            "backgroundcolor": "#E5ECF6",
            "gridcolor": "white",
            "gridwidth": 2,
            "linecolor": "white",
            "showbackground": true,
            "ticks": "",
            "zerolinecolor": "white"
           },
           "yaxis": {
            "backgroundcolor": "#E5ECF6",
            "gridcolor": "white",
            "gridwidth": 2,
            "linecolor": "white",
            "showbackground": true,
            "ticks": "",
            "zerolinecolor": "white"
           },
           "zaxis": {
            "backgroundcolor": "#E5ECF6",
            "gridcolor": "white",
            "gridwidth": 2,
            "linecolor": "white",
            "showbackground": true,
            "ticks": "",
            "zerolinecolor": "white"
           }
          },
          "shapedefaults": {
           "line": {
            "color": "#2a3f5f"
           }
          },
          "ternary": {
           "aaxis": {
            "gridcolor": "white",
            "linecolor": "white",
            "ticks": ""
           },
           "baxis": {
            "gridcolor": "white",
            "linecolor": "white",
            "ticks": ""
           },
           "bgcolor": "#E5ECF6",
           "caxis": {
            "gridcolor": "white",
            "linecolor": "white",
            "ticks": ""
           }
          },
          "title": {
           "x": 0.05
          },
          "xaxis": {
           "automargin": true,
           "gridcolor": "white",
           "linecolor": "white",
           "ticks": "",
           "title": {
            "standoff": 15
           },
           "zerolinecolor": "white",
           "zerolinewidth": 2
          },
          "yaxis": {
           "automargin": true,
           "gridcolor": "white",
           "linecolor": "white",
           "ticks": "",
           "title": {
            "standoff": 15
           },
           "zerolinecolor": "white",
           "zerolinewidth": 2
          }
         }
        },
        "title": {
         "text": "rainfall data for 22/2/2011"
        }
       }
      },
      "text/html": [
       "<div>\n",
       "        \n",
       "        \n",
       "            <div id=\"7ac037cd-8160-4fbe-b4ba-b5f40adf385b\" class=\"plotly-graph-div\" style=\"height:525px; width:100%;\"></div>\n",
       "            <script type=\"text/javascript\">\n",
       "                require([\"plotly\"], function(Plotly) {\n",
       "                    window.PLOTLYENV=window.PLOTLYENV || {};\n",
       "                    \n",
       "                if (document.getElementById(\"7ac037cd-8160-4fbe-b4ba-b5f40adf385b\")) {\n",
       "                    Plotly.newPlot(\n",
       "                        '7ac037cd-8160-4fbe-b4ba-b5f40adf385b',\n",
       "                        [{\"customdata\": [[\"Alderley\", 106.4], [\"Eagle Farm Racecourse\", 70.0], [\"Brisbane Botanic Gardens Mt Coot-tha\", 78.2], [\"Brisbane\", 68.8], [\"Clontarf\", 20.8], [\"Capalaba Water Treat\", 26.8], [\"Ormiston College\", 29.6], [\"Toombul Bowls Club\", 64.2], [\"Manly Railway Station\", 49.4], [\"Fort Lytton\", 44.2]], \"hovertemplate\": \"<b>%{hovertext}</b><br><br>22 Feb 2011=%{marker.color}<br>StationName=%{customdata[0]}<br>22/2/2011=%{customdata[1]}<br>text=%{text}<br>lat=%{lat}<br>long=%{lon}<extra></extra>\", \"hovertext\": [\"Alderley\", \"Eagle Farm Racecourse\", \"Brisbane Botanic Gardens Mt Coot-tha\", \"Brisbane\", \"Clontarf\", \"Capalaba Water Treat\", \"Ormiston College\", \"Toombul Bowls Club\", \"Manly Railway Station\", \"Fort Lytton\"], \"lat\": [-27.42, -27.43, -27.48, -27.48, -27.24, -27.53, -27.52, -27.39, -27.46, -27.41], \"legendgroup\": \"\", \"lon\": [153.0, 153.07, 152.98, 153.04, 153.09, 153.18, 153.25, 153.06, 153.18, 153.15], \"marker\": {\"color\": [1, 1, 1, 1, 0, 0, 0, 1, 1, 1], \"coloraxis\": \"coloraxis\", \"size\": [1, 1, 1, 1, 0, 0, 0, 1, 1, 1], \"sizemode\": \"area\", \"sizeref\": 0.01}, \"mode\": \"markers+text\", \"name\": \"\", \"showlegend\": false, \"subplot\": \"mapbox\", \"text\": [\"Alderley<br>-27.42<br>153.0\", \"Eagle Farm Racecourse<br>-27.43<br>153.07\", \"Brisbane Botanic Gardens Mt Coot-tha<br>-27.48<br>152.98\", \"Brisbane<br>-27.48<br>153.04\", \"Clontarf<br>-27.24<br>153.09\", \"Capalaba Water Treat<br>-27.53<br>153.18\", \"Ormiston College<br>-27.52<br>153.25\", \"Toombul Bowls Club<br>-27.39<br>153.06\", \"Manly Railway Station<br>-27.46<br>153.18\", \"Fort Lytton<br>-27.41<br>153.15\"], \"type\": \"scattermapbox\"}],\n",
       "                        {\"coloraxis\": {\"cmax\": 1, \"cmin\": 0, \"colorbar\": {\"title\": {\"text\": \"22 Feb 2011\"}}, \"colorscale\": [[0.0, \"#000000\"], [0.0625, \"#001f4d\"], [0.125, \"#003786\"], [0.1875, \"#0e58a8\"], [0.25, \"#217eb8\"], [0.3125, \"#30a4ca\"], [0.375, \"#54c8df\"], [0.4375, \"#9be4ef\"], [0.5, \"#e1e9d1\"], [0.5625, \"#f3d573\"], [0.625, \"#e7b000\"], [0.6875, \"#da8200\"], [0.75, \"#c65400\"], [0.8125, \"#ac2301\"], [0.875, \"#820000\"], [0.9375, \"#4c0000\"], [1.0, \"#000000\"]]}, \"legend\": {\"itemsizing\": \"constant\", \"tracegroupgap\": 0}, \"mapbox\": {\"center\": {\"lat\": -27.436, \"lon\": 153.1}, \"domain\": {\"x\": [0.0, 1.0], \"y\": [0.0, 1.0]}, \"style\": \"carto-positron\", \"zoom\": 10}, \"template\": {\"data\": {\"bar\": [{\"error_x\": {\"color\": \"#2a3f5f\"}, \"error_y\": {\"color\": \"#2a3f5f\"}, \"marker\": {\"line\": {\"color\": \"#E5ECF6\", \"width\": 0.5}}, \"type\": \"bar\"}], \"barpolar\": [{\"marker\": {\"line\": {\"color\": \"#E5ECF6\", \"width\": 0.5}}, \"type\": \"barpolar\"}], \"carpet\": [{\"aaxis\": {\"endlinecolor\": \"#2a3f5f\", \"gridcolor\": \"white\", \"linecolor\": \"white\", \"minorgridcolor\": \"white\", \"startlinecolor\": \"#2a3f5f\"}, \"baxis\": {\"endlinecolor\": \"#2a3f5f\", \"gridcolor\": \"white\", \"linecolor\": \"white\", \"minorgridcolor\": \"white\", \"startlinecolor\": \"#2a3f5f\"}, \"type\": \"carpet\"}], \"choropleth\": [{\"colorbar\": {\"outlinewidth\": 0, \"ticks\": \"\"}, \"type\": \"choropleth\"}], \"contour\": [{\"colorbar\": {\"outlinewidth\": 0, \"ticks\": \"\"}, \"colorscale\": [[0.0, \"#0d0887\"], [0.1111111111111111, \"#46039f\"], [0.2222222222222222, \"#7201a8\"], [0.3333333333333333, \"#9c179e\"], [0.4444444444444444, \"#bd3786\"], [0.5555555555555556, \"#d8576b\"], [0.6666666666666666, \"#ed7953\"], [0.7777777777777778, \"#fb9f3a\"], [0.8888888888888888, \"#fdca26\"], [1.0, \"#f0f921\"]], \"type\": \"contour\"}], \"contourcarpet\": [{\"colorbar\": {\"outlinewidth\": 0, \"ticks\": \"\"}, \"type\": \"contourcarpet\"}], \"heatmap\": [{\"colorbar\": {\"outlinewidth\": 0, \"ticks\": \"\"}, \"colorscale\": [[0.0, \"#0d0887\"], [0.1111111111111111, \"#46039f\"], [0.2222222222222222, \"#7201a8\"], [0.3333333333333333, \"#9c179e\"], [0.4444444444444444, \"#bd3786\"], [0.5555555555555556, \"#d8576b\"], [0.6666666666666666, \"#ed7953\"], [0.7777777777777778, \"#fb9f3a\"], [0.8888888888888888, \"#fdca26\"], [1.0, \"#f0f921\"]], \"type\": \"heatmap\"}], \"heatmapgl\": [{\"colorbar\": {\"outlinewidth\": 0, \"ticks\": \"\"}, \"colorscale\": [[0.0, \"#0d0887\"], [0.1111111111111111, \"#46039f\"], [0.2222222222222222, \"#7201a8\"], [0.3333333333333333, \"#9c179e\"], [0.4444444444444444, \"#bd3786\"], [0.5555555555555556, \"#d8576b\"], [0.6666666666666666, \"#ed7953\"], [0.7777777777777778, \"#fb9f3a\"], [0.8888888888888888, \"#fdca26\"], [1.0, \"#f0f921\"]], \"type\": \"heatmapgl\"}], \"histogram\": [{\"marker\": {\"colorbar\": {\"outlinewidth\": 0, \"ticks\": \"\"}}, \"type\": \"histogram\"}], \"histogram2d\": [{\"colorbar\": {\"outlinewidth\": 0, \"ticks\": \"\"}, \"colorscale\": [[0.0, \"#0d0887\"], [0.1111111111111111, \"#46039f\"], [0.2222222222222222, \"#7201a8\"], [0.3333333333333333, \"#9c179e\"], [0.4444444444444444, \"#bd3786\"], [0.5555555555555556, \"#d8576b\"], [0.6666666666666666, \"#ed7953\"], [0.7777777777777778, \"#fb9f3a\"], [0.8888888888888888, \"#fdca26\"], [1.0, \"#f0f921\"]], \"type\": \"histogram2d\"}], \"histogram2dcontour\": [{\"colorbar\": {\"outlinewidth\": 0, \"ticks\": \"\"}, \"colorscale\": [[0.0, \"#0d0887\"], [0.1111111111111111, \"#46039f\"], [0.2222222222222222, \"#7201a8\"], [0.3333333333333333, \"#9c179e\"], [0.4444444444444444, \"#bd3786\"], [0.5555555555555556, \"#d8576b\"], [0.6666666666666666, \"#ed7953\"], [0.7777777777777778, \"#fb9f3a\"], [0.8888888888888888, \"#fdca26\"], [1.0, \"#f0f921\"]], \"type\": \"histogram2dcontour\"}], \"mesh3d\": [{\"colorbar\": {\"outlinewidth\": 0, \"ticks\": \"\"}, \"type\": \"mesh3d\"}], \"parcoords\": [{\"line\": {\"colorbar\": {\"outlinewidth\": 0, \"ticks\": \"\"}}, \"type\": \"parcoords\"}], \"pie\": [{\"automargin\": true, \"type\": \"pie\"}], \"scatter\": [{\"marker\": {\"colorbar\": {\"outlinewidth\": 0, \"ticks\": \"\"}}, \"type\": \"scatter\"}], \"scatter3d\": [{\"line\": {\"colorbar\": {\"outlinewidth\": 0, \"ticks\": \"\"}}, \"marker\": {\"colorbar\": {\"outlinewidth\": 0, \"ticks\": \"\"}}, \"type\": \"scatter3d\"}], \"scattercarpet\": [{\"marker\": {\"colorbar\": {\"outlinewidth\": 0, \"ticks\": \"\"}}, \"type\": \"scattercarpet\"}], \"scattergeo\": [{\"marker\": {\"colorbar\": {\"outlinewidth\": 0, \"ticks\": \"\"}}, \"type\": \"scattergeo\"}], \"scattergl\": [{\"marker\": {\"colorbar\": {\"outlinewidth\": 0, \"ticks\": \"\"}}, \"type\": \"scattergl\"}], \"scattermapbox\": [{\"marker\": {\"colorbar\": {\"outlinewidth\": 0, \"ticks\": \"\"}}, \"type\": \"scattermapbox\"}], \"scatterpolar\": [{\"marker\": {\"colorbar\": {\"outlinewidth\": 0, \"ticks\": \"\"}}, \"type\": \"scatterpolar\"}], \"scatterpolargl\": [{\"marker\": {\"colorbar\": {\"outlinewidth\": 0, \"ticks\": \"\"}}, \"type\": \"scatterpolargl\"}], \"scatterternary\": [{\"marker\": {\"colorbar\": {\"outlinewidth\": 0, \"ticks\": \"\"}}, \"type\": \"scatterternary\"}], \"surface\": [{\"colorbar\": {\"outlinewidth\": 0, \"ticks\": \"\"}, \"colorscale\": [[0.0, \"#0d0887\"], [0.1111111111111111, \"#46039f\"], [0.2222222222222222, \"#7201a8\"], [0.3333333333333333, \"#9c179e\"], [0.4444444444444444, \"#bd3786\"], [0.5555555555555556, \"#d8576b\"], [0.6666666666666666, \"#ed7953\"], [0.7777777777777778, \"#fb9f3a\"], [0.8888888888888888, \"#fdca26\"], [1.0, \"#f0f921\"]], \"type\": \"surface\"}], \"table\": [{\"cells\": {\"fill\": {\"color\": \"#EBF0F8\"}, \"line\": {\"color\": \"white\"}}, \"header\": {\"fill\": {\"color\": \"#C8D4E3\"}, \"line\": {\"color\": \"white\"}}, \"type\": \"table\"}]}, \"layout\": {\"annotationdefaults\": {\"arrowcolor\": \"#2a3f5f\", \"arrowhead\": 0, \"arrowwidth\": 1}, \"coloraxis\": {\"colorbar\": {\"outlinewidth\": 0, \"ticks\": \"\"}}, \"colorscale\": {\"diverging\": [[0, \"#8e0152\"], [0.1, \"#c51b7d\"], [0.2, \"#de77ae\"], [0.3, \"#f1b6da\"], [0.4, \"#fde0ef\"], [0.5, \"#f7f7f7\"], [0.6, \"#e6f5d0\"], [0.7, \"#b8e186\"], [0.8, \"#7fbc41\"], [0.9, \"#4d9221\"], [1, \"#276419\"]], \"sequential\": [[0.0, \"#0d0887\"], [0.1111111111111111, \"#46039f\"], [0.2222222222222222, \"#7201a8\"], [0.3333333333333333, \"#9c179e\"], [0.4444444444444444, \"#bd3786\"], [0.5555555555555556, \"#d8576b\"], [0.6666666666666666, \"#ed7953\"], [0.7777777777777778, \"#fb9f3a\"], [0.8888888888888888, \"#fdca26\"], [1.0, \"#f0f921\"]], \"sequentialminus\": [[0.0, \"#0d0887\"], [0.1111111111111111, \"#46039f\"], [0.2222222222222222, \"#7201a8\"], [0.3333333333333333, \"#9c179e\"], [0.4444444444444444, \"#bd3786\"], [0.5555555555555556, \"#d8576b\"], [0.6666666666666666, \"#ed7953\"], [0.7777777777777778, \"#fb9f3a\"], [0.8888888888888888, \"#fdca26\"], [1.0, \"#f0f921\"]]}, \"colorway\": [\"#636efa\", \"#EF553B\", \"#00cc96\", \"#ab63fa\", \"#FFA15A\", \"#19d3f3\", \"#FF6692\", \"#B6E880\", \"#FF97FF\", \"#FECB52\"], \"font\": {\"color\": \"#2a3f5f\"}, \"geo\": {\"bgcolor\": \"white\", \"lakecolor\": \"white\", \"landcolor\": \"#E5ECF6\", \"showlakes\": true, \"showland\": true, \"subunitcolor\": \"white\"}, \"hoverlabel\": {\"align\": \"left\"}, \"hovermode\": \"closest\", \"mapbox\": {\"style\": \"light\"}, \"paper_bgcolor\": \"white\", \"plot_bgcolor\": \"#E5ECF6\", \"polar\": {\"angularaxis\": {\"gridcolor\": \"white\", \"linecolor\": \"white\", \"ticks\": \"\"}, \"bgcolor\": \"#E5ECF6\", \"radialaxis\": {\"gridcolor\": \"white\", \"linecolor\": \"white\", \"ticks\": \"\"}}, \"scene\": {\"xaxis\": {\"backgroundcolor\": \"#E5ECF6\", \"gridcolor\": \"white\", \"gridwidth\": 2, \"linecolor\": \"white\", \"showbackground\": true, \"ticks\": \"\", \"zerolinecolor\": \"white\"}, \"yaxis\": {\"backgroundcolor\": \"#E5ECF6\", \"gridcolor\": \"white\", \"gridwidth\": 2, \"linecolor\": \"white\", \"showbackground\": true, \"ticks\": \"\", \"zerolinecolor\": \"white\"}, \"zaxis\": {\"backgroundcolor\": \"#E5ECF6\", \"gridcolor\": \"white\", \"gridwidth\": 2, \"linecolor\": \"white\", \"showbackground\": true, \"ticks\": \"\", \"zerolinecolor\": \"white\"}}, \"shapedefaults\": {\"line\": {\"color\": \"#2a3f5f\"}}, \"ternary\": {\"aaxis\": {\"gridcolor\": \"white\", \"linecolor\": \"white\", \"ticks\": \"\"}, \"baxis\": {\"gridcolor\": \"white\", \"linecolor\": \"white\", \"ticks\": \"\"}, \"bgcolor\": \"#E5ECF6\", \"caxis\": {\"gridcolor\": \"white\", \"linecolor\": \"white\", \"ticks\": \"\"}}, \"title\": {\"x\": 0.05}, \"xaxis\": {\"automargin\": true, \"gridcolor\": \"white\", \"linecolor\": \"white\", \"ticks\": \"\", \"title\": {\"standoff\": 15}, \"zerolinecolor\": \"white\", \"zerolinewidth\": 2}, \"yaxis\": {\"automargin\": true, \"gridcolor\": \"white\", \"linecolor\": \"white\", \"ticks\": \"\", \"title\": {\"standoff\": 15}, \"zerolinecolor\": \"white\", \"zerolinewidth\": 2}}}, \"title\": {\"text\": \"rainfall data for 22/2/2011\"}},\n",
       "                        {\"responsive\": true}\n",
       "                    ).then(function(){\n",
       "                            \n",
       "var gd = document.getElementById('7ac037cd-8160-4fbe-b4ba-b5f40adf385b');\n",
       "var x = new MutationObserver(function (mutations, observer) {{\n",
       "        var display = window.getComputedStyle(gd).display;\n",
       "        if (!display || display === 'none') {{\n",
       "            console.log([gd, 'removed!']);\n",
       "            Plotly.purge(gd);\n",
       "            observer.disconnect();\n",
       "        }}\n",
       "}});\n",
       "\n",
       "// Listen for the removal of the full notebook cells\n",
       "var notebookContainer = gd.closest('#notebook-container');\n",
       "if (notebookContainer) {{\n",
       "    x.observe(notebookContainer, {childList: true});\n",
       "}}\n",
       "\n",
       "// Listen for the clearing of the current output cell\n",
       "var outputEl = gd.closest('.output');\n",
       "if (outputEl) {{\n",
       "    x.observe(outputEl, {childList: true});\n",
       "}}\n",
       "\n",
       "                        })\n",
       "                };\n",
       "                });\n",
       "            </script>\n",
       "        </div>"
      ]
     },
     "metadata": {},
     "output_type": "display_data"
    }
   ],
   "source": [
    "fig = px.scatter_mapbox(df, lat='lat', lon='long',\n",
    "                  color=\"22 Feb 2011\", size=\"22 Feb 2011\",\n",
    "                        color_continuous_scale=px.colors.cyclical.IceFire,\n",
    "                  size_max=10, zoom=10, hover_name='StationName',center=dict(lat=-27.436, lon=153.1), \n",
    "                  hover_data = ['StationName','22/2/2011'], range_color= (0,1), text=[df['StationName'][i] + '<br>' + df['lat'][i].astype(str) + '<br>' + df['long'][i].astype(str) for i in range(df.shape[0])],\n",
    "                  title = 'rainfall data for 22/2/2011',mapbox_style=\"carto-positron\")\n",
    "fig.show()  "
   ]
  },
  {
   "cell_type": "code",
   "execution_count": 49,
   "id": "3cb8b4b0",
   "metadata": {},
   "outputs": [
    {
     "data": {
      "text/plain": [
       "0                                Alderley\n",
       "1                   Eagle Farm Racecourse\n",
       "2    Brisbane Botanic Gardens Mt Coot-tha\n",
       "3                                Brisbane\n",
       "4                                Clontarf\n",
       "5                    Capalaba Water Treat\n",
       "6                        Ormiston College\n",
       "7                      Toombul Bowls Club\n",
       "8                   Manly Railway Station\n",
       "9                             Fort Lytton\n",
       "Name: StationName, dtype: object"
      ]
     },
     "execution_count": 49,
     "metadata": {},
     "output_type": "execute_result"
    }
   ],
   "source": [
    "df['StationName']"
   ]
  },
  {
   "cell_type": "code",
   "execution_count": null,
   "id": "a2b4f283",
   "metadata": {},
   "outputs": [],
   "source": []
  },
  {
   "cell_type": "code",
   "execution_count": null,
   "id": "1a29eaa6",
   "metadata": {},
   "outputs": [],
   "source": []
  },
  {
   "cell_type": "code",
   "execution_count": null,
   "id": "dcea8bb2",
   "metadata": {},
   "outputs": [],
   "source": []
  },
  {
   "cell_type": "code",
   "execution_count": null,
   "id": "fe3e70f6",
   "metadata": {},
   "outputs": [],
   "source": []
  },
  {
   "cell_type": "code",
   "execution_count": null,
   "id": "7f91c289",
   "metadata": {},
   "outputs": [],
   "source": []
  },
  {
   "cell_type": "code",
   "execution_count": null,
   "id": "a51aead8",
   "metadata": {},
   "outputs": [],
   "source": []
  },
  {
   "cell_type": "code",
   "execution_count": null,
   "id": "ed004618",
   "metadata": {},
   "outputs": [],
   "source": []
  },
  {
   "cell_type": "code",
   "execution_count": 132,
   "id": "61d61837",
   "metadata": {},
   "outputs": [],
   "source": []
  },
  {
   "cell_type": "code",
   "execution_count": 133,
   "id": "fe045d48",
   "metadata": {},
   "outputs": [],
   "source": []
  },
  {
   "cell_type": "code",
   "execution_count": null,
   "id": "f93a84e6",
   "metadata": {},
   "outputs": [],
   "source": []
  },
  {
   "cell_type": "code",
   "execution_count": 214,
   "id": "74bb004a",
   "metadata": {},
   "outputs": [],
   "source": [
    "ef = ef.rename_axis('Dam level').reset_index()"
   ]
  },
  {
   "cell_type": "code",
   "execution_count": 208,
   "id": "0d08b685",
   "metadata": {},
   "outputs": [
    {
     "name": "stdout",
     "output_type": "stream",
     "text": [
      "0           Wivenhoe Last Observation (ML)\n",
      "1           Enoggera Last Observation (ML)\n",
      "2    Lake Manchester Last Observation (ML)\n",
      "3    Leslie Harrison Last Observation (ML)\n",
      "4         Gold Creek Last Observation (ML)\n",
      "Name: Dam level, dtype: object\n"
     ]
    }
   ],
   "source": [
    "print(ef['Dam level'])"
   ]
  },
  {
   "cell_type": "code",
   "execution_count": 209,
   "id": "ddfa4238",
   "metadata": {},
   "outputs": [
    {
     "name": "stdout",
     "output_type": "stream",
     "text": [
      "['1/2/2011' '2/2/2011' '3/2/2011' '4/2/2011' '5/2/2011' '6/2/2011'\n",
      " '7/2/2011' '8/2/2011' '9/2/2011' '10/2/2011' '11/2/2011' '12/2/2011'\n",
      " '13/2/2011' '14/2/2011' '15/2/2011' '16/2/2011' '17/2/2011' '18/2/2011'\n",
      " '19/2/2011' '20/2/2011' '21/2/2011' '22/2/2011' '23/2/2011' '24/2/2011'\n",
      " '25/2/2011' '26/2/2011' '27/2/2011' '28/2/2011' 'Elevation' 'Lat' 'Long']\n"
     ]
    },
    {
     "name": "stderr",
     "output_type": "stream",
     "text": [
      "C:\\Users\\kapeesh shukla\\AppData\\Local\\Temp\\ipykernel_21808\\1631708784.py:2: FutureWarning:\n",
      "\n",
      "Index.ravel returning ndarray is deprecated; in a future version this will return a view on self.\n",
      "\n"
     ]
    }
   ],
   "source": [
    "ef = pd.read_excel(r'C:\\Users\\kapeesh shukla\\Documents\\Wivenhoe.xlsx', index_col=0)\n",
    "cols = ef.columns.ravel()\n",
    "print(cols)"
   ]
  },
  {
   "cell_type": "code",
   "execution_count": 210,
   "id": "7ef53def",
   "metadata": {},
   "outputs": [
    {
     "name": "stdout",
     "output_type": "stream",
     "text": [
      "Requirement already satisfied: numpy in c:\\users\\kapeesh shukla\\appdata\\local\\programs\\python\\python310\\lib\\site-packages (1.23.2)\n"
     ]
    }
   ],
   "source": [
    "!pip install numpy\n",
    "import numpy as np\n",
    "conditions = [ef['1/2/2011'] > ef['Elevation'], ef['1/2/2011'] < ef['Elevation']]\n",
    "choices = ['1', '0']"
   ]
  },
  {
   "cell_type": "code",
   "execution_count": 211,
   "id": "2067ddb7",
   "metadata": {},
   "outputs": [
    {
     "name": "stdout",
     "output_type": "stream",
     "text": [
      "                                         1/2/2011    2/2/2011    3/2/2011  \\\n",
      "Dam level                                                                   \n",
      " Wivenhoe Last Observation (ML)        1170621.37  1174940.08  1179269.43   \n",
      "Enoggera Last Observation (ML)            4275.58     4275.58     4268.78   \n",
      "Lake Manchester Last Observation (ML)    26297.17    26243.70    26243.70   \n",
      "Leslie Harrison Last Observation (ML)    24434.45    24434.45    24434.45   \n",
      "Gold Creek Last Observation (ML)           883.97      881.74      877.28   \n",
      "\n",
      "                                         4/2/2011    5/2/2011    6/2/2011  \\\n",
      "Dam level                                                                   \n",
      " Wivenhoe Last Observation (ML)        1179269.43  1174940.08  1170621.37   \n",
      "Enoggera Last Observation (ML)            4262.00     4262.00     4262.00   \n",
      "Lake Manchester Last Observation (ML)    26243.70    26243.70    26243.70   \n",
      "Leslie Harrison Last Observation (ML)    24386.12    24386.12    24386.12   \n",
      "Gold Creek Last Observation (ML)           872.80      870.55      870.55   \n",
      "\n",
      "                                         7/2/2011    8/2/2011    9/2/2011  \\\n",
      "Dam level                                                                   \n",
      " Wivenhoe Last Observation (ML)        1170621.37  1170621.37  1170446.12   \n",
      "Enoggera Last Observation (ML)            4268.78     4268.78     4268.78   \n",
      "Lake Manchester Last Observation (ML)    26243.70    26297.17    26243.70   \n",
      "Leslie Harrison Last Observation (ML)    24434.45    24627.56    24627.56   \n",
      "Gold Creek Last Observation (ML)           870.55      875.04      877.28   \n",
      "\n",
      "                                        10/2/2011  ...   23/2/2011  \\\n",
      "Dam level                                          ...               \n",
      " Wivenhoe Last Observation (ML)        1170621.37  ...  1084403.28   \n",
      "Enoggera Last Observation (ML)            4262.00  ...     4393.72   \n",
      "Lake Manchester Last Observation (ML)    26243.70  ...    26243.70   \n",
      "Leslie Harrison Last Observation (ML)    24627.56  ...    24531.06   \n",
      "Gold Creek Last Observation (ML)           877.28  ...      950.25   \n",
      "\n",
      "                                        24/2/2011   25/2/2011  26/2/2011  \\\n",
      "Dam level                                                                  \n",
      " Wivenhoe Last Observation (ML)        1056188.81  1026964.86  996146.72   \n",
      "Enoggera Last Observation (ML)            4351.42     4323.61    4309.81   \n",
      "Lake Manchester Last Observation (ML)    26137.04    26083.85   26030.75   \n",
      "Leslie Harrison Last Observation (ML)    24531.06    24531.06   24482.76   \n",
      "Gold Creek Last Observation (ML)           941.42      934.80     925.99   \n",
      "\n",
      "                                       27/2/2011  28/2/2011  Elevation  \\\n",
      "Dam level                                                                \n",
      " Wivenhoe Last Observation (ML)        966285.29  933492.85  1165238.0   \n",
      "Enoggera Last Observation (ML)           4296.07    4289.23     4262.0   \n",
      "Lake Manchester Last Observation (ML)   25977.74   25924.82    26217.0   \n",
      "Leslie Harrison Last Observation (ML)   24482.76   24434.45    13207.8   \n",
      "Gold Creek Last Observation (ML)          919.38     914.97      800.7   \n",
      "\n",
      "                                           Lat      Long  1 Feb 2011  \n",
      "Dam level                                                             \n",
      " Wivenhoe Last Observation (ML)       -27.3944  152.6087           1  \n",
      "Enoggera Last Observation (ML)        -27.4224  152.9908           1  \n",
      "Lake Manchester Last Observation (ML) -27.4882  152.7520           1  \n",
      "Leslie Harrison Last Observation (ML) -27.5300  153.1790           1  \n",
      "Gold Creek Last Observation (ML)      -27.4618  152.8812           1  \n",
      "\n",
      "[5 rows x 32 columns]\n"
     ]
    }
   ],
   "source": [
    "ef['1 Feb 2011'] = np.select(conditions, choices, default='1').astype(str).astype(int)\n",
    "print(ef)"
   ]
  },
  {
   "cell_type": "code",
   "execution_count": 212,
   "id": "56babb4e",
   "metadata": {},
   "outputs": [
    {
     "name": "stdout",
     "output_type": "stream",
     "text": [
      "                                         1/2/2011    2/2/2011    3/2/2011  \\\n",
      "Dam level                                                                   \n",
      " Wivenhoe Last Observation (ML)        1170621.37  1174940.08  1179269.43   \n",
      "Enoggera Last Observation (ML)            4275.58     4275.58     4268.78   \n",
      "Lake Manchester Last Observation (ML)    26297.17    26243.70    26243.70   \n",
      "Leslie Harrison Last Observation (ML)    24434.45    24434.45    24434.45   \n",
      "Gold Creek Last Observation (ML)           883.97      881.74      877.28   \n",
      "\n",
      "                                         4/2/2011    5/2/2011    6/2/2011  \\\n",
      "Dam level                                                                   \n",
      " Wivenhoe Last Observation (ML)        1179269.43  1174940.08  1170621.37   \n",
      "Enoggera Last Observation (ML)            4262.00     4262.00     4262.00   \n",
      "Lake Manchester Last Observation (ML)    26243.70    26243.70    26243.70   \n",
      "Leslie Harrison Last Observation (ML)    24386.12    24386.12    24386.12   \n",
      "Gold Creek Last Observation (ML)           872.80      870.55      870.55   \n",
      "\n",
      "                                         7/2/2011    8/2/2011    9/2/2011  \\\n",
      "Dam level                                                                   \n",
      " Wivenhoe Last Observation (ML)        1170621.37  1170621.37  1170446.12   \n",
      "Enoggera Last Observation (ML)            4268.78     4268.78     4268.78   \n",
      "Lake Manchester Last Observation (ML)    26243.70    26297.17    26243.70   \n",
      "Leslie Harrison Last Observation (ML)    24434.45    24627.56    24627.56   \n",
      "Gold Creek Last Observation (ML)           870.55      875.04      877.28   \n",
      "\n",
      "                                        10/2/2011  ...   24/2/2011  \\\n",
      "Dam level                                          ...               \n",
      " Wivenhoe Last Observation (ML)        1170621.37  ...  1056188.81   \n",
      "Enoggera Last Observation (ML)            4262.00  ...     4351.42   \n",
      "Lake Manchester Last Observation (ML)    26243.70  ...    26137.04   \n",
      "Leslie Harrison Last Observation (ML)    24627.56  ...    24531.06   \n",
      "Gold Creek Last Observation (ML)           877.28  ...      941.42   \n",
      "\n",
      "                                        25/2/2011  26/2/2011  27/2/2011  \\\n",
      "Dam level                                                                 \n",
      " Wivenhoe Last Observation (ML)        1026964.86  996146.72  966285.29   \n",
      "Enoggera Last Observation (ML)            4323.61    4309.81    4296.07   \n",
      "Lake Manchester Last Observation (ML)    26083.85   26030.75   25977.74   \n",
      "Leslie Harrison Last Observation (ML)    24531.06   24482.76   24482.76   \n",
      "Gold Creek Last Observation (ML)           934.80     925.99     919.38   \n",
      "\n",
      "                                       28/2/2011  Elevation      Lat  \\\n",
      "Dam level                                                              \n",
      " Wivenhoe Last Observation (ML)        933492.85  1165238.0 -27.3944   \n",
      "Enoggera Last Observation (ML)           4289.23     4262.0 -27.4224   \n",
      "Lake Manchester Last Observation (ML)   25924.82    26217.0 -27.4882   \n",
      "Leslie Harrison Last Observation (ML)   24434.45    13207.8 -27.5300   \n",
      "Gold Creek Last Observation (ML)          914.97      800.7 -27.4618   \n",
      "\n",
      "                                           Long  1 Feb 2011  2 Feb 2011  \n",
      "Dam level                                                                \n",
      " Wivenhoe Last Observation (ML)        152.6087           1           1  \n",
      "Enoggera Last Observation (ML)         152.9908           1           1  \n",
      "Lake Manchester Last Observation (ML)  152.7520           1           1  \n",
      "Leslie Harrison Last Observation (ML)  153.1790           1           1  \n",
      "Gold Creek Last Observation (ML)       152.8812           1           1  \n",
      "\n",
      "[5 rows x 33 columns]\n",
      "                                         1/2/2011    2/2/2011    3/2/2011  \\\n",
      "Dam level                                                                   \n",
      " Wivenhoe Last Observation (ML)        1170621.37  1174940.08  1179269.43   \n",
      "Enoggera Last Observation (ML)            4275.58     4275.58     4268.78   \n",
      "Lake Manchester Last Observation (ML)    26297.17    26243.70    26243.70   \n",
      "Leslie Harrison Last Observation (ML)    24434.45    24434.45    24434.45   \n",
      "Gold Creek Last Observation (ML)           883.97      881.74      877.28   \n",
      "\n",
      "                                         4/2/2011    5/2/2011    6/2/2011  \\\n",
      "Dam level                                                                   \n",
      " Wivenhoe Last Observation (ML)        1179269.43  1174940.08  1170621.37   \n",
      "Enoggera Last Observation (ML)            4262.00     4262.00     4262.00   \n",
      "Lake Manchester Last Observation (ML)    26243.70    26243.70    26243.70   \n",
      "Leslie Harrison Last Observation (ML)    24386.12    24386.12    24386.12   \n",
      "Gold Creek Last Observation (ML)           872.80      870.55      870.55   \n",
      "\n",
      "                                         7/2/2011    8/2/2011    9/2/2011  \\\n",
      "Dam level                                                                   \n",
      " Wivenhoe Last Observation (ML)        1170621.37  1170621.37  1170446.12   \n",
      "Enoggera Last Observation (ML)            4268.78     4268.78     4268.78   \n",
      "Lake Manchester Last Observation (ML)    26243.70    26297.17    26243.70   \n",
      "Leslie Harrison Last Observation (ML)    24434.45    24627.56    24627.56   \n",
      "Gold Creek Last Observation (ML)           870.55      875.04      877.28   \n",
      "\n",
      "                                        10/2/2011  ...   25/2/2011  26/2/2011  \\\n",
      "Dam level                                          ...                          \n",
      " Wivenhoe Last Observation (ML)        1170621.37  ...  1026964.86  996146.72   \n",
      "Enoggera Last Observation (ML)            4262.00  ...     4323.61    4309.81   \n",
      "Lake Manchester Last Observation (ML)    26243.70  ...    26083.85   26030.75   \n",
      "Leslie Harrison Last Observation (ML)    24627.56  ...    24531.06   24482.76   \n",
      "Gold Creek Last Observation (ML)           877.28  ...      934.80     925.99   \n",
      "\n",
      "                                       27/2/2011  28/2/2011  Elevation  \\\n",
      "Dam level                                                                \n",
      " Wivenhoe Last Observation (ML)        966285.29  933492.85  1165238.0   \n",
      "Enoggera Last Observation (ML)           4296.07    4289.23     4262.0   \n",
      "Lake Manchester Last Observation (ML)   25977.74   25924.82    26217.0   \n",
      "Leslie Harrison Last Observation (ML)   24482.76   24434.45    13207.8   \n",
      "Gold Creek Last Observation (ML)          919.38     914.97      800.7   \n",
      "\n",
      "                                           Lat      Long  1 Feb 2011  \\\n",
      "Dam level                                                              \n",
      " Wivenhoe Last Observation (ML)       -27.3944  152.6087           1   \n",
      "Enoggera Last Observation (ML)        -27.4224  152.9908           1   \n",
      "Lake Manchester Last Observation (ML) -27.4882  152.7520           1   \n",
      "Leslie Harrison Last Observation (ML) -27.5300  153.1790           1   \n",
      "Gold Creek Last Observation (ML)      -27.4618  152.8812           1   \n",
      "\n",
      "                                       2 Feb 2011  3 Feb 2011  \n",
      "Dam level                                                      \n",
      " Wivenhoe Last Observation (ML)                 1           1  \n",
      "Enoggera Last Observation (ML)                  1           1  \n",
      "Lake Manchester Last Observation (ML)           1           1  \n",
      "Leslie Harrison Last Observation (ML)           1           1  \n",
      "Gold Creek Last Observation (ML)                1           1  \n",
      "\n",
      "[5 rows x 34 columns]\n",
      "                                         1/2/2011    2/2/2011    3/2/2011  \\\n",
      "Dam level                                                                   \n",
      " Wivenhoe Last Observation (ML)        1170621.37  1174940.08  1179269.43   \n",
      "Enoggera Last Observation (ML)            4275.58     4275.58     4268.78   \n",
      "Lake Manchester Last Observation (ML)    26297.17    26243.70    26243.70   \n",
      "Leslie Harrison Last Observation (ML)    24434.45    24434.45    24434.45   \n",
      "Gold Creek Last Observation (ML)           883.97      881.74      877.28   \n",
      "\n",
      "                                         4/2/2011    5/2/2011    6/2/2011  \\\n",
      "Dam level                                                                   \n",
      " Wivenhoe Last Observation (ML)        1179269.43  1174940.08  1170621.37   \n",
      "Enoggera Last Observation (ML)            4262.00     4262.00     4262.00   \n",
      "Lake Manchester Last Observation (ML)    26243.70    26243.70    26243.70   \n",
      "Leslie Harrison Last Observation (ML)    24386.12    24386.12    24386.12   \n",
      "Gold Creek Last Observation (ML)           872.80      870.55      870.55   \n",
      "\n",
      "                                         7/2/2011    8/2/2011    9/2/2011  \\\n",
      "Dam level                                                                   \n",
      " Wivenhoe Last Observation (ML)        1170621.37  1170621.37  1170446.12   \n",
      "Enoggera Last Observation (ML)            4268.78     4268.78     4268.78   \n",
      "Lake Manchester Last Observation (ML)    26243.70    26297.17    26243.70   \n",
      "Leslie Harrison Last Observation (ML)    24434.45    24627.56    24627.56   \n",
      "Gold Creek Last Observation (ML)           870.55      875.04      877.28   \n",
      "\n",
      "                                        10/2/2011  ...  26/2/2011  27/2/2011  \\\n",
      "Dam level                                          ...                         \n",
      " Wivenhoe Last Observation (ML)        1170621.37  ...  996146.72  966285.29   \n",
      "Enoggera Last Observation (ML)            4262.00  ...    4309.81    4296.07   \n",
      "Lake Manchester Last Observation (ML)    26243.70  ...   26030.75   25977.74   \n",
      "Leslie Harrison Last Observation (ML)    24627.56  ...   24482.76   24482.76   \n",
      "Gold Creek Last Observation (ML)           877.28  ...     925.99     919.38   \n",
      "\n",
      "                                       28/2/2011  Elevation      Lat  \\\n",
      "Dam level                                                              \n",
      " Wivenhoe Last Observation (ML)        933492.85  1165238.0 -27.3944   \n",
      "Enoggera Last Observation (ML)           4289.23     4262.0 -27.4224   \n",
      "Lake Manchester Last Observation (ML)   25924.82    26217.0 -27.4882   \n",
      "Leslie Harrison Last Observation (ML)   24434.45    13207.8 -27.5300   \n",
      "Gold Creek Last Observation (ML)          914.97      800.7 -27.4618   \n",
      "\n",
      "                                           Long  1 Feb 2011  2 Feb 2011  \\\n",
      "Dam level                                                                 \n",
      " Wivenhoe Last Observation (ML)        152.6087           1           1   \n",
      "Enoggera Last Observation (ML)         152.9908           1           1   \n",
      "Lake Manchester Last Observation (ML)  152.7520           1           1   \n",
      "Leslie Harrison Last Observation (ML)  153.1790           1           1   \n",
      "Gold Creek Last Observation (ML)       152.8812           1           1   \n",
      "\n",
      "                                       3 Feb 2011  4 Feb 2011  \n",
      "Dam level                                                      \n",
      " Wivenhoe Last Observation (ML)                 1           1  \n",
      "Enoggera Last Observation (ML)                  1           1  \n",
      "Lake Manchester Last Observation (ML)           1           1  \n",
      "Leslie Harrison Last Observation (ML)           1           1  \n",
      "Gold Creek Last Observation (ML)                1           1  \n",
      "\n",
      "[5 rows x 35 columns]\n",
      "                                         1/2/2011    2/2/2011    3/2/2011  \\\n",
      "Dam level                                                                   \n",
      " Wivenhoe Last Observation (ML)        1170621.37  1174940.08  1179269.43   \n",
      "Enoggera Last Observation (ML)            4275.58     4275.58     4268.78   \n",
      "Lake Manchester Last Observation (ML)    26297.17    26243.70    26243.70   \n",
      "Leslie Harrison Last Observation (ML)    24434.45    24434.45    24434.45   \n",
      "Gold Creek Last Observation (ML)           883.97      881.74      877.28   \n",
      "\n",
      "                                         4/2/2011    5/2/2011    6/2/2011  \\\n",
      "Dam level                                                                   \n",
      " Wivenhoe Last Observation (ML)        1179269.43  1174940.08  1170621.37   \n",
      "Enoggera Last Observation (ML)            4262.00     4262.00     4262.00   \n",
      "Lake Manchester Last Observation (ML)    26243.70    26243.70    26243.70   \n",
      "Leslie Harrison Last Observation (ML)    24386.12    24386.12    24386.12   \n",
      "Gold Creek Last Observation (ML)           872.80      870.55      870.55   \n",
      "\n",
      "                                         7/2/2011    8/2/2011    9/2/2011  \\\n",
      "Dam level                                                                   \n",
      " Wivenhoe Last Observation (ML)        1170621.37  1170621.37  1170446.12   \n",
      "Enoggera Last Observation (ML)            4268.78     4268.78     4268.78   \n",
      "Lake Manchester Last Observation (ML)    26243.70    26297.17    26243.70   \n",
      "Leslie Harrison Last Observation (ML)    24434.45    24627.56    24627.56   \n",
      "Gold Creek Last Observation (ML)           870.55      875.04      877.28   \n",
      "\n",
      "                                        10/2/2011  ...  27/2/2011  28/2/2011  \\\n",
      "Dam level                                          ...                         \n",
      " Wivenhoe Last Observation (ML)        1170621.37  ...  966285.29  933492.85   \n",
      "Enoggera Last Observation (ML)            4262.00  ...    4296.07    4289.23   \n",
      "Lake Manchester Last Observation (ML)    26243.70  ...   25977.74   25924.82   \n",
      "Leslie Harrison Last Observation (ML)    24627.56  ...   24482.76   24434.45   \n",
      "Gold Creek Last Observation (ML)           877.28  ...     919.38     914.97   \n",
      "\n",
      "                                       Elevation      Lat      Long  \\\n",
      "Dam level                                                             \n",
      " Wivenhoe Last Observation (ML)        1165238.0 -27.3944  152.6087   \n",
      "Enoggera Last Observation (ML)            4262.0 -27.4224  152.9908   \n",
      "Lake Manchester Last Observation (ML)    26217.0 -27.4882  152.7520   \n",
      "Leslie Harrison Last Observation (ML)    13207.8 -27.5300  153.1790   \n",
      "Gold Creek Last Observation (ML)           800.7 -27.4618  152.8812   \n",
      "\n",
      "                                       1 Feb 2011  2 Feb 2011  3 Feb 2011  \\\n",
      "Dam level                                                                   \n",
      " Wivenhoe Last Observation (ML)                 1           1           1   \n",
      "Enoggera Last Observation (ML)                  1           1           1   \n",
      "Lake Manchester Last Observation (ML)           1           1           1   \n",
      "Leslie Harrison Last Observation (ML)           1           1           1   \n",
      "Gold Creek Last Observation (ML)                1           1           1   \n",
      "\n",
      "                                       4 Feb 2011  5 Feb 2011  \n",
      "Dam level                                                      \n",
      " Wivenhoe Last Observation (ML)                 1           1  \n",
      "Enoggera Last Observation (ML)                  1           1  \n",
      "Lake Manchester Last Observation (ML)           1           1  \n",
      "Leslie Harrison Last Observation (ML)           1           1  \n",
      "Gold Creek Last Observation (ML)                1           1  \n",
      "\n",
      "[5 rows x 36 columns]\n",
      "                                         1/2/2011    2/2/2011    3/2/2011  \\\n",
      "Dam level                                                                   \n",
      " Wivenhoe Last Observation (ML)        1170621.37  1174940.08  1179269.43   \n",
      "Enoggera Last Observation (ML)            4275.58     4275.58     4268.78   \n",
      "Lake Manchester Last Observation (ML)    26297.17    26243.70    26243.70   \n",
      "Leslie Harrison Last Observation (ML)    24434.45    24434.45    24434.45   \n",
      "Gold Creek Last Observation (ML)           883.97      881.74      877.28   \n",
      "\n",
      "                                         4/2/2011    5/2/2011    6/2/2011  \\\n",
      "Dam level                                                                   \n",
      " Wivenhoe Last Observation (ML)        1179269.43  1174940.08  1170621.37   \n",
      "Enoggera Last Observation (ML)            4262.00     4262.00     4262.00   \n",
      "Lake Manchester Last Observation (ML)    26243.70    26243.70    26243.70   \n",
      "Leslie Harrison Last Observation (ML)    24386.12    24386.12    24386.12   \n",
      "Gold Creek Last Observation (ML)           872.80      870.55      870.55   \n",
      "\n",
      "                                         7/2/2011    8/2/2011    9/2/2011  \\\n",
      "Dam level                                                                   \n",
      " Wivenhoe Last Observation (ML)        1170621.37  1170621.37  1170446.12   \n",
      "Enoggera Last Observation (ML)            4268.78     4268.78     4268.78   \n",
      "Lake Manchester Last Observation (ML)    26243.70    26297.17    26243.70   \n",
      "Leslie Harrison Last Observation (ML)    24434.45    24627.56    24627.56   \n",
      "Gold Creek Last Observation (ML)           870.55      875.04      877.28   \n",
      "\n",
      "                                        10/2/2011  ...  28/2/2011  Elevation  \\\n",
      "Dam level                                          ...                         \n",
      " Wivenhoe Last Observation (ML)        1170621.37  ...  933492.85  1165238.0   \n",
      "Enoggera Last Observation (ML)            4262.00  ...    4289.23     4262.0   \n",
      "Lake Manchester Last Observation (ML)    26243.70  ...   25924.82    26217.0   \n",
      "Leslie Harrison Last Observation (ML)    24627.56  ...   24434.45    13207.8   \n",
      "Gold Creek Last Observation (ML)           877.28  ...     914.97      800.7   \n",
      "\n",
      "                                           Lat      Long  1 Feb 2011  \\\n",
      "Dam level                                                              \n",
      " Wivenhoe Last Observation (ML)       -27.3944  152.6087           1   \n",
      "Enoggera Last Observation (ML)        -27.4224  152.9908           1   \n",
      "Lake Manchester Last Observation (ML) -27.4882  152.7520           1   \n",
      "Leslie Harrison Last Observation (ML) -27.5300  153.1790           1   \n",
      "Gold Creek Last Observation (ML)      -27.4618  152.8812           1   \n",
      "\n",
      "                                       2 Feb 2011  3 Feb 2011  4 Feb 2011  \\\n",
      "Dam level                                                                   \n",
      " Wivenhoe Last Observation (ML)                 1           1           1   \n",
      "Enoggera Last Observation (ML)                  1           1           1   \n",
      "Lake Manchester Last Observation (ML)           1           1           1   \n",
      "Leslie Harrison Last Observation (ML)           1           1           1   \n",
      "Gold Creek Last Observation (ML)                1           1           1   \n",
      "\n",
      "                                       5 Feb 2011  6 Feb 2011  \n",
      "Dam level                                                      \n",
      " Wivenhoe Last Observation (ML)                 1           1  \n",
      "Enoggera Last Observation (ML)                  1           1  \n",
      "Lake Manchester Last Observation (ML)           1           1  \n",
      "Leslie Harrison Last Observation (ML)           1           1  \n",
      "Gold Creek Last Observation (ML)                1           1  \n",
      "\n",
      "[5 rows x 37 columns]\n",
      "                                         1/2/2011    2/2/2011    3/2/2011  \\\n",
      "Dam level                                                                   \n",
      " Wivenhoe Last Observation (ML)        1170621.37  1174940.08  1179269.43   \n",
      "Enoggera Last Observation (ML)            4275.58     4275.58     4268.78   \n",
      "Lake Manchester Last Observation (ML)    26297.17    26243.70    26243.70   \n",
      "Leslie Harrison Last Observation (ML)    24434.45    24434.45    24434.45   \n",
      "Gold Creek Last Observation (ML)           883.97      881.74      877.28   \n",
      "\n",
      "                                         4/2/2011    5/2/2011    6/2/2011  \\\n",
      "Dam level                                                                   \n",
      " Wivenhoe Last Observation (ML)        1179269.43  1174940.08  1170621.37   \n",
      "Enoggera Last Observation (ML)            4262.00     4262.00     4262.00   \n",
      "Lake Manchester Last Observation (ML)    26243.70    26243.70    26243.70   \n",
      "Leslie Harrison Last Observation (ML)    24386.12    24386.12    24386.12   \n",
      "Gold Creek Last Observation (ML)           872.80      870.55      870.55   \n",
      "\n",
      "                                         7/2/2011    8/2/2011    9/2/2011  \\\n",
      "Dam level                                                                   \n",
      " Wivenhoe Last Observation (ML)        1170621.37  1170621.37  1170446.12   \n",
      "Enoggera Last Observation (ML)            4268.78     4268.78     4268.78   \n",
      "Lake Manchester Last Observation (ML)    26243.70    26297.17    26243.70   \n",
      "Leslie Harrison Last Observation (ML)    24434.45    24627.56    24627.56   \n",
      "Gold Creek Last Observation (ML)           870.55      875.04      877.28   \n",
      "\n",
      "                                        10/2/2011  ...  Elevation      Lat  \\\n",
      "Dam level                                          ...                       \n",
      " Wivenhoe Last Observation (ML)        1170621.37  ...  1165238.0 -27.3944   \n",
      "Enoggera Last Observation (ML)            4262.00  ...     4262.0 -27.4224   \n",
      "Lake Manchester Last Observation (ML)    26243.70  ...    26217.0 -27.4882   \n",
      "Leslie Harrison Last Observation (ML)    24627.56  ...    13207.8 -27.5300   \n",
      "Gold Creek Last Observation (ML)           877.28  ...      800.7 -27.4618   \n",
      "\n",
      "                                           Long  1 Feb 2011  2 Feb 2011  \\\n",
      "Dam level                                                                 \n",
      " Wivenhoe Last Observation (ML)        152.6087           1           1   \n",
      "Enoggera Last Observation (ML)         152.9908           1           1   \n",
      "Lake Manchester Last Observation (ML)  152.7520           1           1   \n",
      "Leslie Harrison Last Observation (ML)  153.1790           1           1   \n",
      "Gold Creek Last Observation (ML)       152.8812           1           1   \n",
      "\n",
      "                                       3 Feb 2011  4 Feb 2011  5 Feb 2011  \\\n",
      "Dam level                                                                   \n",
      " Wivenhoe Last Observation (ML)                 1           1           1   \n",
      "Enoggera Last Observation (ML)                  1           1           1   \n",
      "Lake Manchester Last Observation (ML)           1           1           1   \n",
      "Leslie Harrison Last Observation (ML)           1           1           1   \n",
      "Gold Creek Last Observation (ML)                1           1           1   \n",
      "\n",
      "                                       6 Feb 2011  7 Feb 2011  \n",
      "Dam level                                                      \n",
      " Wivenhoe Last Observation (ML)                 1           1  \n",
      "Enoggera Last Observation (ML)                  1           1  \n",
      "Lake Manchester Last Observation (ML)           1           1  \n",
      "Leslie Harrison Last Observation (ML)           1           1  \n",
      "Gold Creek Last Observation (ML)                1           1  \n",
      "\n",
      "[5 rows x 38 columns]\n",
      "                                         1/2/2011    2/2/2011    3/2/2011  \\\n",
      "Dam level                                                                   \n",
      " Wivenhoe Last Observation (ML)        1170621.37  1174940.08  1179269.43   \n",
      "Enoggera Last Observation (ML)            4275.58     4275.58     4268.78   \n",
      "Lake Manchester Last Observation (ML)    26297.17    26243.70    26243.70   \n",
      "Leslie Harrison Last Observation (ML)    24434.45    24434.45    24434.45   \n",
      "Gold Creek Last Observation (ML)           883.97      881.74      877.28   \n",
      "\n",
      "                                         4/2/2011    5/2/2011    6/2/2011  \\\n",
      "Dam level                                                                   \n",
      " Wivenhoe Last Observation (ML)        1179269.43  1174940.08  1170621.37   \n",
      "Enoggera Last Observation (ML)            4262.00     4262.00     4262.00   \n",
      "Lake Manchester Last Observation (ML)    26243.70    26243.70    26243.70   \n",
      "Leslie Harrison Last Observation (ML)    24386.12    24386.12    24386.12   \n",
      "Gold Creek Last Observation (ML)           872.80      870.55      870.55   \n",
      "\n",
      "                                         7/2/2011    8/2/2011    9/2/2011  \\\n",
      "Dam level                                                                   \n",
      " Wivenhoe Last Observation (ML)        1170621.37  1170621.37  1170446.12   \n",
      "Enoggera Last Observation (ML)            4268.78     4268.78     4268.78   \n",
      "Lake Manchester Last Observation (ML)    26243.70    26297.17    26243.70   \n",
      "Leslie Harrison Last Observation (ML)    24434.45    24627.56    24627.56   \n",
      "Gold Creek Last Observation (ML)           870.55      875.04      877.28   \n",
      "\n",
      "                                        10/2/2011  ...      Lat      Long  \\\n",
      "Dam level                                          ...                      \n",
      " Wivenhoe Last Observation (ML)        1170621.37  ... -27.3944  152.6087   \n",
      "Enoggera Last Observation (ML)            4262.00  ... -27.4224  152.9908   \n",
      "Lake Manchester Last Observation (ML)    26243.70  ... -27.4882  152.7520   \n",
      "Leslie Harrison Last Observation (ML)    24627.56  ... -27.5300  153.1790   \n",
      "Gold Creek Last Observation (ML)           877.28  ... -27.4618  152.8812   \n",
      "\n",
      "                                       1 Feb 2011  2 Feb 2011  3 Feb 2011  \\\n",
      "Dam level                                                                   \n",
      " Wivenhoe Last Observation (ML)                 1           1           1   \n",
      "Enoggera Last Observation (ML)                  1           1           1   \n",
      "Lake Manchester Last Observation (ML)           1           1           1   \n",
      "Leslie Harrison Last Observation (ML)           1           1           1   \n",
      "Gold Creek Last Observation (ML)                1           1           1   \n",
      "\n",
      "                                       4 Feb 2011  5 Feb 2011  6 Feb 2011  \\\n",
      "Dam level                                                                   \n",
      " Wivenhoe Last Observation (ML)                 1           1           1   \n",
      "Enoggera Last Observation (ML)                  1           1           1   \n",
      "Lake Manchester Last Observation (ML)           1           1           1   \n",
      "Leslie Harrison Last Observation (ML)           1           1           1   \n",
      "Gold Creek Last Observation (ML)                1           1           1   \n",
      "\n",
      "                                       7 Feb 2011  8 Feb 2011  \n",
      "Dam level                                                      \n",
      " Wivenhoe Last Observation (ML)                 1           1  \n",
      "Enoggera Last Observation (ML)                  1           1  \n",
      "Lake Manchester Last Observation (ML)           1           1  \n",
      "Leslie Harrison Last Observation (ML)           1           1  \n",
      "Gold Creek Last Observation (ML)                1           1  \n",
      "\n",
      "[5 rows x 39 columns]\n",
      "                                         1/2/2011    2/2/2011    3/2/2011  \\\n",
      "Dam level                                                                   \n",
      " Wivenhoe Last Observation (ML)        1170621.37  1174940.08  1179269.43   \n",
      "Enoggera Last Observation (ML)            4275.58     4275.58     4268.78   \n",
      "Lake Manchester Last Observation (ML)    26297.17    26243.70    26243.70   \n",
      "Leslie Harrison Last Observation (ML)    24434.45    24434.45    24434.45   \n",
      "Gold Creek Last Observation (ML)           883.97      881.74      877.28   \n",
      "\n",
      "                                         4/2/2011    5/2/2011    6/2/2011  \\\n",
      "Dam level                                                                   \n",
      " Wivenhoe Last Observation (ML)        1179269.43  1174940.08  1170621.37   \n",
      "Enoggera Last Observation (ML)            4262.00     4262.00     4262.00   \n",
      "Lake Manchester Last Observation (ML)    26243.70    26243.70    26243.70   \n",
      "Leslie Harrison Last Observation (ML)    24386.12    24386.12    24386.12   \n",
      "Gold Creek Last Observation (ML)           872.80      870.55      870.55   \n",
      "\n",
      "                                         7/2/2011    8/2/2011    9/2/2011  \\\n",
      "Dam level                                                                   \n",
      " Wivenhoe Last Observation (ML)        1170621.37  1170621.37  1170446.12   \n",
      "Enoggera Last Observation (ML)            4268.78     4268.78     4268.78   \n",
      "Lake Manchester Last Observation (ML)    26243.70    26297.17    26243.70   \n",
      "Leslie Harrison Last Observation (ML)    24434.45    24627.56    24627.56   \n",
      "Gold Creek Last Observation (ML)           870.55      875.04      877.28   \n",
      "\n",
      "                                        10/2/2011  ...      Long  1 Feb 2011  \\\n",
      "Dam level                                          ...                         \n",
      " Wivenhoe Last Observation (ML)        1170621.37  ...  152.6087           1   \n",
      "Enoggera Last Observation (ML)            4262.00  ...  152.9908           1   \n",
      "Lake Manchester Last Observation (ML)    26243.70  ...  152.7520           1   \n",
      "Leslie Harrison Last Observation (ML)    24627.56  ...  153.1790           1   \n",
      "Gold Creek Last Observation (ML)           877.28  ...  152.8812           1   \n",
      "\n",
      "                                       2 Feb 2011  3 Feb 2011  4 Feb 2011  \\\n",
      "Dam level                                                                   \n",
      " Wivenhoe Last Observation (ML)                 1           1           1   \n",
      "Enoggera Last Observation (ML)                  1           1           1   \n",
      "Lake Manchester Last Observation (ML)           1           1           1   \n",
      "Leslie Harrison Last Observation (ML)           1           1           1   \n",
      "Gold Creek Last Observation (ML)                1           1           1   \n",
      "\n",
      "                                       5 Feb 2011  6 Feb 2011  7 Feb 2011  \\\n",
      "Dam level                                                                   \n",
      " Wivenhoe Last Observation (ML)                 1           1           1   \n",
      "Enoggera Last Observation (ML)                  1           1           1   \n",
      "Lake Manchester Last Observation (ML)           1           1           1   \n",
      "Leslie Harrison Last Observation (ML)           1           1           1   \n",
      "Gold Creek Last Observation (ML)                1           1           1   \n",
      "\n",
      "                                       8 Feb 2011  9 Feb 2011  \n",
      "Dam level                                                      \n",
      " Wivenhoe Last Observation (ML)                 1           1  \n",
      "Enoggera Last Observation (ML)                  1           1  \n",
      "Lake Manchester Last Observation (ML)           1           1  \n",
      "Leslie Harrison Last Observation (ML)           1           1  \n",
      "Gold Creek Last Observation (ML)                1           1  \n",
      "\n",
      "[5 rows x 40 columns]\n",
      "                                         1/2/2011    2/2/2011    3/2/2011  \\\n",
      "Dam level                                                                   \n",
      " Wivenhoe Last Observation (ML)        1170621.37  1174940.08  1179269.43   \n",
      "Enoggera Last Observation (ML)            4275.58     4275.58     4268.78   \n",
      "Lake Manchester Last Observation (ML)    26297.17    26243.70    26243.70   \n",
      "Leslie Harrison Last Observation (ML)    24434.45    24434.45    24434.45   \n",
      "Gold Creek Last Observation (ML)           883.97      881.74      877.28   \n",
      "\n",
      "                                         4/2/2011    5/2/2011    6/2/2011  \\\n",
      "Dam level                                                                   \n",
      " Wivenhoe Last Observation (ML)        1179269.43  1174940.08  1170621.37   \n",
      "Enoggera Last Observation (ML)            4262.00     4262.00     4262.00   \n",
      "Lake Manchester Last Observation (ML)    26243.70    26243.70    26243.70   \n",
      "Leslie Harrison Last Observation (ML)    24386.12    24386.12    24386.12   \n",
      "Gold Creek Last Observation (ML)           872.80      870.55      870.55   \n",
      "\n",
      "                                         7/2/2011    8/2/2011    9/2/2011  \\\n",
      "Dam level                                                                   \n",
      " Wivenhoe Last Observation (ML)        1170621.37  1170621.37  1170446.12   \n",
      "Enoggera Last Observation (ML)            4268.78     4268.78     4268.78   \n",
      "Lake Manchester Last Observation (ML)    26243.70    26297.17    26243.70   \n",
      "Leslie Harrison Last Observation (ML)    24434.45    24627.56    24627.56   \n",
      "Gold Creek Last Observation (ML)           870.55      875.04      877.28   \n",
      "\n",
      "                                        10/2/2011  ...  1 Feb 2011  \\\n",
      "Dam level                                          ...               \n",
      " Wivenhoe Last Observation (ML)        1170621.37  ...           1   \n",
      "Enoggera Last Observation (ML)            4262.00  ...           1   \n",
      "Lake Manchester Last Observation (ML)    26243.70  ...           1   \n",
      "Leslie Harrison Last Observation (ML)    24627.56  ...           1   \n",
      "Gold Creek Last Observation (ML)           877.28  ...           1   \n",
      "\n",
      "                                       2 Feb 2011  3 Feb 2011  4 Feb 2011  \\\n",
      "Dam level                                                                   \n",
      " Wivenhoe Last Observation (ML)                 1           1           1   \n",
      "Enoggera Last Observation (ML)                  1           1           1   \n",
      "Lake Manchester Last Observation (ML)           1           1           1   \n",
      "Leslie Harrison Last Observation (ML)           1           1           1   \n",
      "Gold Creek Last Observation (ML)                1           1           1   \n",
      "\n",
      "                                       5 Feb 2011  6 Feb 2011  7 Feb 2011  \\\n",
      "Dam level                                                                   \n",
      " Wivenhoe Last Observation (ML)                 1           1           1   \n",
      "Enoggera Last Observation (ML)                  1           1           1   \n",
      "Lake Manchester Last Observation (ML)           1           1           1   \n",
      "Leslie Harrison Last Observation (ML)           1           1           1   \n",
      "Gold Creek Last Observation (ML)                1           1           1   \n",
      "\n",
      "                                       8 Feb 2011  9 Feb 2011  10 Feb 2011  \n",
      "Dam level                                                                   \n",
      " Wivenhoe Last Observation (ML)                 1           1            1  \n",
      "Enoggera Last Observation (ML)                  1           1            1  \n",
      "Lake Manchester Last Observation (ML)           1           1            1  \n",
      "Leslie Harrison Last Observation (ML)           1           1            1  \n",
      "Gold Creek Last Observation (ML)                1           1            1  \n",
      "\n",
      "[5 rows x 41 columns]\n",
      "                                         1/2/2011    2/2/2011    3/2/2011  \\\n",
      "Dam level                                                                   \n",
      " Wivenhoe Last Observation (ML)        1170621.37  1174940.08  1179269.43   \n",
      "Enoggera Last Observation (ML)            4275.58     4275.58     4268.78   \n",
      "Lake Manchester Last Observation (ML)    26297.17    26243.70    26243.70   \n",
      "Leslie Harrison Last Observation (ML)    24434.45    24434.45    24434.45   \n",
      "Gold Creek Last Observation (ML)           883.97      881.74      877.28   \n",
      "\n",
      "                                         4/2/2011    5/2/2011    6/2/2011  \\\n",
      "Dam level                                                                   \n",
      " Wivenhoe Last Observation (ML)        1179269.43  1174940.08  1170621.37   \n",
      "Enoggera Last Observation (ML)            4262.00     4262.00     4262.00   \n",
      "Lake Manchester Last Observation (ML)    26243.70    26243.70    26243.70   \n",
      "Leslie Harrison Last Observation (ML)    24386.12    24386.12    24386.12   \n",
      "Gold Creek Last Observation (ML)           872.80      870.55      870.55   \n",
      "\n",
      "                                         7/2/2011    8/2/2011    9/2/2011  \\\n",
      "Dam level                                                                   \n",
      " Wivenhoe Last Observation (ML)        1170621.37  1170621.37  1170446.12   \n",
      "Enoggera Last Observation (ML)            4268.78     4268.78     4268.78   \n",
      "Lake Manchester Last Observation (ML)    26243.70    26297.17    26243.70   \n",
      "Leslie Harrison Last Observation (ML)    24434.45    24627.56    24627.56   \n",
      "Gold Creek Last Observation (ML)           870.55      875.04      877.28   \n",
      "\n",
      "                                        10/2/2011  ...  2 Feb 2011  \\\n",
      "Dam level                                          ...               \n",
      " Wivenhoe Last Observation (ML)        1170621.37  ...           1   \n",
      "Enoggera Last Observation (ML)            4262.00  ...           1   \n",
      "Lake Manchester Last Observation (ML)    26243.70  ...           1   \n",
      "Leslie Harrison Last Observation (ML)    24627.56  ...           1   \n",
      "Gold Creek Last Observation (ML)           877.28  ...           1   \n",
      "\n",
      "                                       3 Feb 2011  4 Feb 2011  5 Feb 2011  \\\n",
      "Dam level                                                                   \n",
      " Wivenhoe Last Observation (ML)                 1           1           1   \n",
      "Enoggera Last Observation (ML)                  1           1           1   \n",
      "Lake Manchester Last Observation (ML)           1           1           1   \n",
      "Leslie Harrison Last Observation (ML)           1           1           1   \n",
      "Gold Creek Last Observation (ML)                1           1           1   \n",
      "\n",
      "                                       6 Feb 2011  7 Feb 2011  8 Feb 2011  \\\n",
      "Dam level                                                                   \n",
      " Wivenhoe Last Observation (ML)                 1           1           1   \n",
      "Enoggera Last Observation (ML)                  1           1           1   \n",
      "Lake Manchester Last Observation (ML)           1           1           1   \n",
      "Leslie Harrison Last Observation (ML)           1           1           1   \n",
      "Gold Creek Last Observation (ML)                1           1           1   \n",
      "\n",
      "                                       9 Feb 2011  10 Feb 2011  11 Feb 2011  \n",
      "Dam level                                                                    \n",
      " Wivenhoe Last Observation (ML)                 1            1            1  \n",
      "Enoggera Last Observation (ML)                  1            1            1  \n",
      "Lake Manchester Last Observation (ML)           1            1            1  \n",
      "Leslie Harrison Last Observation (ML)           1            1            1  \n",
      "Gold Creek Last Observation (ML)                1            1            1  \n",
      "\n",
      "[5 rows x 42 columns]\n",
      "                                         1/2/2011    2/2/2011    3/2/2011  \\\n",
      "Dam level                                                                   \n",
      " Wivenhoe Last Observation (ML)        1170621.37  1174940.08  1179269.43   \n",
      "Enoggera Last Observation (ML)            4275.58     4275.58     4268.78   \n",
      "Lake Manchester Last Observation (ML)    26297.17    26243.70    26243.70   \n",
      "Leslie Harrison Last Observation (ML)    24434.45    24434.45    24434.45   \n",
      "Gold Creek Last Observation (ML)           883.97      881.74      877.28   \n",
      "\n",
      "                                         4/2/2011    5/2/2011    6/2/2011  \\\n",
      "Dam level                                                                   \n",
      " Wivenhoe Last Observation (ML)        1179269.43  1174940.08  1170621.37   \n",
      "Enoggera Last Observation (ML)            4262.00     4262.00     4262.00   \n",
      "Lake Manchester Last Observation (ML)    26243.70    26243.70    26243.70   \n",
      "Leslie Harrison Last Observation (ML)    24386.12    24386.12    24386.12   \n",
      "Gold Creek Last Observation (ML)           872.80      870.55      870.55   \n",
      "\n",
      "                                         7/2/2011    8/2/2011    9/2/2011  \\\n",
      "Dam level                                                                   \n",
      " Wivenhoe Last Observation (ML)        1170621.37  1170621.37  1170446.12   \n",
      "Enoggera Last Observation (ML)            4268.78     4268.78     4268.78   \n",
      "Lake Manchester Last Observation (ML)    26243.70    26297.17    26243.70   \n",
      "Leslie Harrison Last Observation (ML)    24434.45    24627.56    24627.56   \n",
      "Gold Creek Last Observation (ML)           870.55      875.04      877.28   \n",
      "\n",
      "                                        10/2/2011  ...  3 Feb 2011  \\\n",
      "Dam level                                          ...               \n",
      " Wivenhoe Last Observation (ML)        1170621.37  ...           1   \n",
      "Enoggera Last Observation (ML)            4262.00  ...           1   \n",
      "Lake Manchester Last Observation (ML)    26243.70  ...           1   \n",
      "Leslie Harrison Last Observation (ML)    24627.56  ...           1   \n",
      "Gold Creek Last Observation (ML)           877.28  ...           1   \n",
      "\n",
      "                                       4 Feb 2011  5 Feb 2011  6 Feb 2011  \\\n",
      "Dam level                                                                   \n",
      " Wivenhoe Last Observation (ML)                 1           1           1   \n",
      "Enoggera Last Observation (ML)                  1           1           1   \n",
      "Lake Manchester Last Observation (ML)           1           1           1   \n",
      "Leslie Harrison Last Observation (ML)           1           1           1   \n",
      "Gold Creek Last Observation (ML)                1           1           1   \n",
      "\n",
      "                                       7 Feb 2011  8 Feb 2011  9 Feb 2011  \\\n",
      "Dam level                                                                   \n",
      " Wivenhoe Last Observation (ML)                 1           1           1   \n",
      "Enoggera Last Observation (ML)                  1           1           1   \n",
      "Lake Manchester Last Observation (ML)           1           1           1   \n",
      "Leslie Harrison Last Observation (ML)           1           1           1   \n",
      "Gold Creek Last Observation (ML)                1           1           1   \n",
      "\n",
      "                                       10 Feb 2011  11 Feb 2011  12 Feb 2011  \n",
      "Dam level                                                                     \n",
      " Wivenhoe Last Observation (ML)                  1            1            1  \n",
      "Enoggera Last Observation (ML)                   1            1            0  \n",
      "Lake Manchester Last Observation (ML)            1            1            1  \n",
      "Leslie Harrison Last Observation (ML)            1            1            1  \n",
      "Gold Creek Last Observation (ML)                 1            1            1  \n",
      "\n",
      "[5 rows x 43 columns]\n",
      "                                         1/2/2011    2/2/2011    3/2/2011  \\\n",
      "Dam level                                                                   \n",
      " Wivenhoe Last Observation (ML)        1170621.37  1174940.08  1179269.43   \n",
      "Enoggera Last Observation (ML)            4275.58     4275.58     4268.78   \n",
      "Lake Manchester Last Observation (ML)    26297.17    26243.70    26243.70   \n",
      "Leslie Harrison Last Observation (ML)    24434.45    24434.45    24434.45   \n",
      "Gold Creek Last Observation (ML)           883.97      881.74      877.28   \n",
      "\n",
      "                                         4/2/2011    5/2/2011    6/2/2011  \\\n",
      "Dam level                                                                   \n",
      " Wivenhoe Last Observation (ML)        1179269.43  1174940.08  1170621.37   \n",
      "Enoggera Last Observation (ML)            4262.00     4262.00     4262.00   \n",
      "Lake Manchester Last Observation (ML)    26243.70    26243.70    26243.70   \n",
      "Leslie Harrison Last Observation (ML)    24386.12    24386.12    24386.12   \n",
      "Gold Creek Last Observation (ML)           872.80      870.55      870.55   \n",
      "\n",
      "                                         7/2/2011    8/2/2011    9/2/2011  \\\n",
      "Dam level                                                                   \n",
      " Wivenhoe Last Observation (ML)        1170621.37  1170621.37  1170446.12   \n",
      "Enoggera Last Observation (ML)            4268.78     4268.78     4268.78   \n",
      "Lake Manchester Last Observation (ML)    26243.70    26297.17    26243.70   \n",
      "Leslie Harrison Last Observation (ML)    24434.45    24627.56    24627.56   \n",
      "Gold Creek Last Observation (ML)           870.55      875.04      877.28   \n",
      "\n",
      "                                        10/2/2011  ...  4 Feb 2011  \\\n",
      "Dam level                                          ...               \n",
      " Wivenhoe Last Observation (ML)        1170621.37  ...           1   \n",
      "Enoggera Last Observation (ML)            4262.00  ...           1   \n",
      "Lake Manchester Last Observation (ML)    26243.70  ...           1   \n",
      "Leslie Harrison Last Observation (ML)    24627.56  ...           1   \n",
      "Gold Creek Last Observation (ML)           877.28  ...           1   \n",
      "\n",
      "                                       5 Feb 2011  6 Feb 2011  7 Feb 2011  \\\n",
      "Dam level                                                                   \n",
      " Wivenhoe Last Observation (ML)                 1           1           1   \n",
      "Enoggera Last Observation (ML)                  1           1           1   \n",
      "Lake Manchester Last Observation (ML)           1           1           1   \n",
      "Leslie Harrison Last Observation (ML)           1           1           1   \n",
      "Gold Creek Last Observation (ML)                1           1           1   \n",
      "\n",
      "                                       8 Feb 2011  9 Feb 2011  10 Feb 2011  \\\n",
      "Dam level                                                                    \n",
      " Wivenhoe Last Observation (ML)                 1           1            1   \n",
      "Enoggera Last Observation (ML)                  1           1            1   \n",
      "Lake Manchester Last Observation (ML)           1           1            1   \n",
      "Leslie Harrison Last Observation (ML)           1           1            1   \n",
      "Gold Creek Last Observation (ML)                1           1            1   \n",
      "\n",
      "                                       11 Feb 2011  12 Feb 2011  13 Feb 2011  \n",
      "Dam level                                                                     \n",
      " Wivenhoe Last Observation (ML)                  1            1            1  \n",
      "Enoggera Last Observation (ML)                   1            0            0  \n",
      "Lake Manchester Last Observation (ML)            1            1            0  \n",
      "Leslie Harrison Last Observation (ML)            1            1            1  \n",
      "Gold Creek Last Observation (ML)                 1            1            1  \n",
      "\n",
      "[5 rows x 44 columns]\n",
      "                                         1/2/2011    2/2/2011    3/2/2011  \\\n",
      "Dam level                                                                   \n",
      " Wivenhoe Last Observation (ML)        1170621.37  1174940.08  1179269.43   \n",
      "Enoggera Last Observation (ML)            4275.58     4275.58     4268.78   \n",
      "Lake Manchester Last Observation (ML)    26297.17    26243.70    26243.70   \n",
      "Leslie Harrison Last Observation (ML)    24434.45    24434.45    24434.45   \n",
      "Gold Creek Last Observation (ML)           883.97      881.74      877.28   \n",
      "\n",
      "                                         4/2/2011    5/2/2011    6/2/2011  \\\n",
      "Dam level                                                                   \n",
      " Wivenhoe Last Observation (ML)        1179269.43  1174940.08  1170621.37   \n",
      "Enoggera Last Observation (ML)            4262.00     4262.00     4262.00   \n",
      "Lake Manchester Last Observation (ML)    26243.70    26243.70    26243.70   \n",
      "Leslie Harrison Last Observation (ML)    24386.12    24386.12    24386.12   \n",
      "Gold Creek Last Observation (ML)           872.80      870.55      870.55   \n",
      "\n",
      "                                         7/2/2011    8/2/2011    9/2/2011  \\\n",
      "Dam level                                                                   \n",
      " Wivenhoe Last Observation (ML)        1170621.37  1170621.37  1170446.12   \n",
      "Enoggera Last Observation (ML)            4268.78     4268.78     4268.78   \n",
      "Lake Manchester Last Observation (ML)    26243.70    26297.17    26243.70   \n",
      "Leslie Harrison Last Observation (ML)    24434.45    24627.56    24627.56   \n",
      "Gold Creek Last Observation (ML)           870.55      875.04      877.28   \n",
      "\n",
      "                                        10/2/2011  ...  5 Feb 2011  \\\n",
      "Dam level                                          ...               \n",
      " Wivenhoe Last Observation (ML)        1170621.37  ...           1   \n",
      "Enoggera Last Observation (ML)            4262.00  ...           1   \n",
      "Lake Manchester Last Observation (ML)    26243.70  ...           1   \n",
      "Leslie Harrison Last Observation (ML)    24627.56  ...           1   \n",
      "Gold Creek Last Observation (ML)           877.28  ...           1   \n",
      "\n",
      "                                       6 Feb 2011  7 Feb 2011  8 Feb 2011  \\\n",
      "Dam level                                                                   \n",
      " Wivenhoe Last Observation (ML)                 1           1           1   \n",
      "Enoggera Last Observation (ML)                  1           1           1   \n",
      "Lake Manchester Last Observation (ML)           1           1           1   \n",
      "Leslie Harrison Last Observation (ML)           1           1           1   \n",
      "Gold Creek Last Observation (ML)                1           1           1   \n",
      "\n",
      "                                       9 Feb 2011  10 Feb 2011  11 Feb 2011  \\\n",
      "Dam level                                                                     \n",
      " Wivenhoe Last Observation (ML)                 1            1            1   \n",
      "Enoggera Last Observation (ML)                  1            1            1   \n",
      "Lake Manchester Last Observation (ML)           1            1            1   \n",
      "Leslie Harrison Last Observation (ML)           1            1            1   \n",
      "Gold Creek Last Observation (ML)                1            1            1   \n",
      "\n",
      "                                       12 Feb 2011  13 Feb 2011  14 Feb 2011  \n",
      "Dam level                                                                     \n",
      " Wivenhoe Last Observation (ML)                  1            1            1  \n",
      "Enoggera Last Observation (ML)                   0            0            0  \n",
      "Lake Manchester Last Observation (ML)            1            0            0  \n",
      "Leslie Harrison Last Observation (ML)            1            1            1  \n",
      "Gold Creek Last Observation (ML)                 1            1            1  \n",
      "\n",
      "[5 rows x 45 columns]\n",
      "                                         1/2/2011    2/2/2011    3/2/2011  \\\n",
      "Dam level                                                                   \n",
      " Wivenhoe Last Observation (ML)        1170621.37  1174940.08  1179269.43   \n",
      "Enoggera Last Observation (ML)            4275.58     4275.58     4268.78   \n",
      "Lake Manchester Last Observation (ML)    26297.17    26243.70    26243.70   \n",
      "Leslie Harrison Last Observation (ML)    24434.45    24434.45    24434.45   \n",
      "Gold Creek Last Observation (ML)           883.97      881.74      877.28   \n",
      "\n",
      "                                         4/2/2011    5/2/2011    6/2/2011  \\\n",
      "Dam level                                                                   \n",
      " Wivenhoe Last Observation (ML)        1179269.43  1174940.08  1170621.37   \n",
      "Enoggera Last Observation (ML)            4262.00     4262.00     4262.00   \n",
      "Lake Manchester Last Observation (ML)    26243.70    26243.70    26243.70   \n",
      "Leslie Harrison Last Observation (ML)    24386.12    24386.12    24386.12   \n",
      "Gold Creek Last Observation (ML)           872.80      870.55      870.55   \n",
      "\n",
      "                                         7/2/2011    8/2/2011    9/2/2011  \\\n",
      "Dam level                                                                   \n",
      " Wivenhoe Last Observation (ML)        1170621.37  1170621.37  1170446.12   \n",
      "Enoggera Last Observation (ML)            4268.78     4268.78     4268.78   \n",
      "Lake Manchester Last Observation (ML)    26243.70    26297.17    26243.70   \n",
      "Leslie Harrison Last Observation (ML)    24434.45    24627.56    24627.56   \n",
      "Gold Creek Last Observation (ML)           870.55      875.04      877.28   \n",
      "\n",
      "                                        10/2/2011  ...  6 Feb 2011  \\\n",
      "Dam level                                          ...               \n",
      " Wivenhoe Last Observation (ML)        1170621.37  ...           1   \n",
      "Enoggera Last Observation (ML)            4262.00  ...           1   \n",
      "Lake Manchester Last Observation (ML)    26243.70  ...           1   \n",
      "Leslie Harrison Last Observation (ML)    24627.56  ...           1   \n",
      "Gold Creek Last Observation (ML)           877.28  ...           1   \n",
      "\n",
      "                                       7 Feb 2011  8 Feb 2011  9 Feb 2011  \\\n",
      "Dam level                                                                   \n",
      " Wivenhoe Last Observation (ML)                 1           1           1   \n",
      "Enoggera Last Observation (ML)                  1           1           1   \n",
      "Lake Manchester Last Observation (ML)           1           1           1   \n",
      "Leslie Harrison Last Observation (ML)           1           1           1   \n",
      "Gold Creek Last Observation (ML)                1           1           1   \n",
      "\n",
      "                                       10 Feb 2011  11 Feb 2011  12 Feb 2011  \\\n",
      "Dam level                                                                      \n",
      " Wivenhoe Last Observation (ML)                  1            1            1   \n",
      "Enoggera Last Observation (ML)                   1            1            0   \n",
      "Lake Manchester Last Observation (ML)            1            1            1   \n",
      "Leslie Harrison Last Observation (ML)            1            1            1   \n",
      "Gold Creek Last Observation (ML)                 1            1            1   \n",
      "\n",
      "                                       13 Feb 2011  14 Feb 2011  15 Feb 2011  \n",
      "Dam level                                                                     \n",
      " Wivenhoe Last Observation (ML)                  1            1            1  \n",
      "Enoggera Last Observation (ML)                   0            0            0  \n",
      "Lake Manchester Last Observation (ML)            0            0            1  \n",
      "Leslie Harrison Last Observation (ML)            1            1            1  \n",
      "Gold Creek Last Observation (ML)                 1            1            1  \n",
      "\n",
      "[5 rows x 46 columns]\n",
      "                                         1/2/2011    2/2/2011    3/2/2011  \\\n",
      "Dam level                                                                   \n",
      " Wivenhoe Last Observation (ML)        1170621.37  1174940.08  1179269.43   \n",
      "Enoggera Last Observation (ML)            4275.58     4275.58     4268.78   \n",
      "Lake Manchester Last Observation (ML)    26297.17    26243.70    26243.70   \n",
      "Leslie Harrison Last Observation (ML)    24434.45    24434.45    24434.45   \n",
      "Gold Creek Last Observation (ML)           883.97      881.74      877.28   \n",
      "\n",
      "                                         4/2/2011    5/2/2011    6/2/2011  \\\n",
      "Dam level                                                                   \n",
      " Wivenhoe Last Observation (ML)        1179269.43  1174940.08  1170621.37   \n",
      "Enoggera Last Observation (ML)            4262.00     4262.00     4262.00   \n",
      "Lake Manchester Last Observation (ML)    26243.70    26243.70    26243.70   \n",
      "Leslie Harrison Last Observation (ML)    24386.12    24386.12    24386.12   \n",
      "Gold Creek Last Observation (ML)           872.80      870.55      870.55   \n",
      "\n",
      "                                         7/2/2011    8/2/2011    9/2/2011  \\\n",
      "Dam level                                                                   \n",
      " Wivenhoe Last Observation (ML)        1170621.37  1170621.37  1170446.12   \n",
      "Enoggera Last Observation (ML)            4268.78     4268.78     4268.78   \n",
      "Lake Manchester Last Observation (ML)    26243.70    26297.17    26243.70   \n",
      "Leslie Harrison Last Observation (ML)    24434.45    24627.56    24627.56   \n",
      "Gold Creek Last Observation (ML)           870.55      875.04      877.28   \n",
      "\n",
      "                                        10/2/2011  ...  7 Feb 2011  \\\n",
      "Dam level                                          ...               \n",
      " Wivenhoe Last Observation (ML)        1170621.37  ...           1   \n",
      "Enoggera Last Observation (ML)            4262.00  ...           1   \n",
      "Lake Manchester Last Observation (ML)    26243.70  ...           1   \n",
      "Leslie Harrison Last Observation (ML)    24627.56  ...           1   \n",
      "Gold Creek Last Observation (ML)           877.28  ...           1   \n",
      "\n",
      "                                       8 Feb 2011  9 Feb 2011  10 Feb 2011  \\\n",
      "Dam level                                                                    \n",
      " Wivenhoe Last Observation (ML)                 1           1            1   \n",
      "Enoggera Last Observation (ML)                  1           1            1   \n",
      "Lake Manchester Last Observation (ML)           1           1            1   \n",
      "Leslie Harrison Last Observation (ML)           1           1            1   \n",
      "Gold Creek Last Observation (ML)                1           1            1   \n",
      "\n",
      "                                       11 Feb 2011  12 Feb 2011  13 Feb 2011  \\\n",
      "Dam level                                                                      \n",
      " Wivenhoe Last Observation (ML)                  1            1            1   \n",
      "Enoggera Last Observation (ML)                   1            0            0   \n",
      "Lake Manchester Last Observation (ML)            1            1            0   \n",
      "Leslie Harrison Last Observation (ML)            1            1            1   \n",
      "Gold Creek Last Observation (ML)                 1            1            1   \n",
      "\n",
      "                                       14 Feb 2011  15 Feb 2011  16 Feb 2011  \n",
      "Dam level                                                                     \n",
      " Wivenhoe Last Observation (ML)                  1            1            1  \n",
      "Enoggera Last Observation (ML)                   0            0            1  \n",
      "Lake Manchester Last Observation (ML)            0            1            1  \n",
      "Leslie Harrison Last Observation (ML)            1            1            1  \n",
      "Gold Creek Last Observation (ML)                 1            1            1  \n",
      "\n",
      "[5 rows x 47 columns]\n",
      "                                         1/2/2011    2/2/2011    3/2/2011  \\\n",
      "Dam level                                                                   \n",
      " Wivenhoe Last Observation (ML)        1170621.37  1174940.08  1179269.43   \n",
      "Enoggera Last Observation (ML)            4275.58     4275.58     4268.78   \n",
      "Lake Manchester Last Observation (ML)    26297.17    26243.70    26243.70   \n",
      "Leslie Harrison Last Observation (ML)    24434.45    24434.45    24434.45   \n",
      "Gold Creek Last Observation (ML)           883.97      881.74      877.28   \n",
      "\n",
      "                                         4/2/2011    5/2/2011    6/2/2011  \\\n",
      "Dam level                                                                   \n",
      " Wivenhoe Last Observation (ML)        1179269.43  1174940.08  1170621.37   \n",
      "Enoggera Last Observation (ML)            4262.00     4262.00     4262.00   \n",
      "Lake Manchester Last Observation (ML)    26243.70    26243.70    26243.70   \n",
      "Leslie Harrison Last Observation (ML)    24386.12    24386.12    24386.12   \n",
      "Gold Creek Last Observation (ML)           872.80      870.55      870.55   \n",
      "\n",
      "                                         7/2/2011    8/2/2011    9/2/2011  \\\n",
      "Dam level                                                                   \n",
      " Wivenhoe Last Observation (ML)        1170621.37  1170621.37  1170446.12   \n",
      "Enoggera Last Observation (ML)            4268.78     4268.78     4268.78   \n",
      "Lake Manchester Last Observation (ML)    26243.70    26297.17    26243.70   \n",
      "Leslie Harrison Last Observation (ML)    24434.45    24627.56    24627.56   \n",
      "Gold Creek Last Observation (ML)           870.55      875.04      877.28   \n",
      "\n",
      "                                        10/2/2011  ...  8 Feb 2011  \\\n",
      "Dam level                                          ...               \n",
      " Wivenhoe Last Observation (ML)        1170621.37  ...           1   \n",
      "Enoggera Last Observation (ML)            4262.00  ...           1   \n",
      "Lake Manchester Last Observation (ML)    26243.70  ...           1   \n",
      "Leslie Harrison Last Observation (ML)    24627.56  ...           1   \n",
      "Gold Creek Last Observation (ML)           877.28  ...           1   \n",
      "\n",
      "                                       9 Feb 2011  10 Feb 2011  11 Feb 2011  \\\n",
      "Dam level                                                                     \n",
      " Wivenhoe Last Observation (ML)                 1            1            1   \n",
      "Enoggera Last Observation (ML)                  1            1            1   \n",
      "Lake Manchester Last Observation (ML)           1            1            1   \n",
      "Leslie Harrison Last Observation (ML)           1            1            1   \n",
      "Gold Creek Last Observation (ML)                1            1            1   \n",
      "\n",
      "                                       12 Feb 2011  13 Feb 2011  14 Feb 2011  \\\n",
      "Dam level                                                                      \n",
      " Wivenhoe Last Observation (ML)                  1            1            1   \n",
      "Enoggera Last Observation (ML)                   0            0            0   \n",
      "Lake Manchester Last Observation (ML)            1            0            0   \n",
      "Leslie Harrison Last Observation (ML)            1            1            1   \n",
      "Gold Creek Last Observation (ML)                 1            1            1   \n",
      "\n",
      "                                       15 Feb 2011  16 Feb 2011  17 Feb 2011  \n",
      "Dam level                                                                     \n",
      " Wivenhoe Last Observation (ML)                  1            1            1  \n",
      "Enoggera Last Observation (ML)                   0            1            1  \n",
      "Lake Manchester Last Observation (ML)            1            1            1  \n",
      "Leslie Harrison Last Observation (ML)            1            1            1  \n",
      "Gold Creek Last Observation (ML)                 1            1            1  \n",
      "\n",
      "[5 rows x 48 columns]\n",
      "                                         1/2/2011    2/2/2011    3/2/2011  \\\n",
      "Dam level                                                                   \n",
      " Wivenhoe Last Observation (ML)        1170621.37  1174940.08  1179269.43   \n",
      "Enoggera Last Observation (ML)            4275.58     4275.58     4268.78   \n",
      "Lake Manchester Last Observation (ML)    26297.17    26243.70    26243.70   \n",
      "Leslie Harrison Last Observation (ML)    24434.45    24434.45    24434.45   \n",
      "Gold Creek Last Observation (ML)           883.97      881.74      877.28   \n",
      "\n",
      "                                         4/2/2011    5/2/2011    6/2/2011  \\\n",
      "Dam level                                                                   \n",
      " Wivenhoe Last Observation (ML)        1179269.43  1174940.08  1170621.37   \n",
      "Enoggera Last Observation (ML)            4262.00     4262.00     4262.00   \n",
      "Lake Manchester Last Observation (ML)    26243.70    26243.70    26243.70   \n",
      "Leslie Harrison Last Observation (ML)    24386.12    24386.12    24386.12   \n",
      "Gold Creek Last Observation (ML)           872.80      870.55      870.55   \n",
      "\n",
      "                                         7/2/2011    8/2/2011    9/2/2011  \\\n",
      "Dam level                                                                   \n",
      " Wivenhoe Last Observation (ML)        1170621.37  1170621.37  1170446.12   \n",
      "Enoggera Last Observation (ML)            4268.78     4268.78     4268.78   \n",
      "Lake Manchester Last Observation (ML)    26243.70    26297.17    26243.70   \n",
      "Leslie Harrison Last Observation (ML)    24434.45    24627.56    24627.56   \n",
      "Gold Creek Last Observation (ML)           870.55      875.04      877.28   \n",
      "\n",
      "                                        10/2/2011  ...  9 Feb 2011  \\\n",
      "Dam level                                          ...               \n",
      " Wivenhoe Last Observation (ML)        1170621.37  ...           1   \n",
      "Enoggera Last Observation (ML)            4262.00  ...           1   \n",
      "Lake Manchester Last Observation (ML)    26243.70  ...           1   \n",
      "Leslie Harrison Last Observation (ML)    24627.56  ...           1   \n",
      "Gold Creek Last Observation (ML)           877.28  ...           1   \n",
      "\n",
      "                                       10 Feb 2011  11 Feb 2011  12 Feb 2011  \\\n",
      "Dam level                                                                      \n",
      " Wivenhoe Last Observation (ML)                  1            1            1   \n",
      "Enoggera Last Observation (ML)                   1            1            0   \n",
      "Lake Manchester Last Observation (ML)            1            1            1   \n",
      "Leslie Harrison Last Observation (ML)            1            1            1   \n",
      "Gold Creek Last Observation (ML)                 1            1            1   \n",
      "\n",
      "                                       13 Feb 2011  14 Feb 2011  15 Feb 2011  \\\n",
      "Dam level                                                                      \n",
      " Wivenhoe Last Observation (ML)                  1            1            1   \n",
      "Enoggera Last Observation (ML)                   0            0            0   \n",
      "Lake Manchester Last Observation (ML)            0            0            1   \n",
      "Leslie Harrison Last Observation (ML)            1            1            1   \n",
      "Gold Creek Last Observation (ML)                 1            1            1   \n",
      "\n",
      "                                       16 Feb 2011  17 Feb 2011  18 Feb 2011  \n",
      "Dam level                                                                     \n",
      " Wivenhoe Last Observation (ML)                  1            1            1  \n",
      "Enoggera Last Observation (ML)                   1            1            1  \n",
      "Lake Manchester Last Observation (ML)            1            1            1  \n",
      "Leslie Harrison Last Observation (ML)            1            1            1  \n",
      "Gold Creek Last Observation (ML)                 1            1            1  \n",
      "\n",
      "[5 rows x 49 columns]\n",
      "                                         1/2/2011    2/2/2011    3/2/2011  \\\n",
      "Dam level                                                                   \n",
      " Wivenhoe Last Observation (ML)        1170621.37  1174940.08  1179269.43   \n",
      "Enoggera Last Observation (ML)            4275.58     4275.58     4268.78   \n",
      "Lake Manchester Last Observation (ML)    26297.17    26243.70    26243.70   \n",
      "Leslie Harrison Last Observation (ML)    24434.45    24434.45    24434.45   \n",
      "Gold Creek Last Observation (ML)           883.97      881.74      877.28   \n",
      "\n",
      "                                         4/2/2011    5/2/2011    6/2/2011  \\\n",
      "Dam level                                                                   \n",
      " Wivenhoe Last Observation (ML)        1179269.43  1174940.08  1170621.37   \n",
      "Enoggera Last Observation (ML)            4262.00     4262.00     4262.00   \n",
      "Lake Manchester Last Observation (ML)    26243.70    26243.70    26243.70   \n",
      "Leslie Harrison Last Observation (ML)    24386.12    24386.12    24386.12   \n",
      "Gold Creek Last Observation (ML)           872.80      870.55      870.55   \n",
      "\n",
      "                                         7/2/2011    8/2/2011    9/2/2011  \\\n",
      "Dam level                                                                   \n",
      " Wivenhoe Last Observation (ML)        1170621.37  1170621.37  1170446.12   \n",
      "Enoggera Last Observation (ML)            4268.78     4268.78     4268.78   \n",
      "Lake Manchester Last Observation (ML)    26243.70    26297.17    26243.70   \n",
      "Leslie Harrison Last Observation (ML)    24434.45    24627.56    24627.56   \n",
      "Gold Creek Last Observation (ML)           870.55      875.04      877.28   \n",
      "\n",
      "                                        10/2/2011  ...  10 Feb 2011  \\\n",
      "Dam level                                          ...                \n",
      " Wivenhoe Last Observation (ML)        1170621.37  ...            1   \n",
      "Enoggera Last Observation (ML)            4262.00  ...            1   \n",
      "Lake Manchester Last Observation (ML)    26243.70  ...            1   \n",
      "Leslie Harrison Last Observation (ML)    24627.56  ...            1   \n",
      "Gold Creek Last Observation (ML)           877.28  ...            1   \n",
      "\n",
      "                                       11 Feb 2011  12 Feb 2011  13 Feb 2011  \\\n",
      "Dam level                                                                      \n",
      " Wivenhoe Last Observation (ML)                  1            1            1   \n",
      "Enoggera Last Observation (ML)                   1            0            0   \n",
      "Lake Manchester Last Observation (ML)            1            1            0   \n",
      "Leslie Harrison Last Observation (ML)            1            1            1   \n",
      "Gold Creek Last Observation (ML)                 1            1            1   \n",
      "\n",
      "                                       14 Feb 2011  15 Feb 2011  16 Feb 2011  \\\n",
      "Dam level                                                                      \n",
      " Wivenhoe Last Observation (ML)                  1            1            1   \n",
      "Enoggera Last Observation (ML)                   0            0            1   \n",
      "Lake Manchester Last Observation (ML)            0            1            1   \n",
      "Leslie Harrison Last Observation (ML)            1            1            1   \n",
      "Gold Creek Last Observation (ML)                 1            1            1   \n",
      "\n",
      "                                       17 Feb 2011  18 Feb 2011  19 Feb 2011  \n",
      "Dam level                                                                     \n",
      " Wivenhoe Last Observation (ML)                  1            1            1  \n",
      "Enoggera Last Observation (ML)                   1            1            1  \n",
      "Lake Manchester Last Observation (ML)            1            1            1  \n",
      "Leslie Harrison Last Observation (ML)            1            1            1  \n",
      "Gold Creek Last Observation (ML)                 1            1            1  \n",
      "\n",
      "[5 rows x 50 columns]\n",
      "                                         1/2/2011    2/2/2011    3/2/2011  \\\n",
      "Dam level                                                                   \n",
      " Wivenhoe Last Observation (ML)        1170621.37  1174940.08  1179269.43   \n",
      "Enoggera Last Observation (ML)            4275.58     4275.58     4268.78   \n",
      "Lake Manchester Last Observation (ML)    26297.17    26243.70    26243.70   \n",
      "Leslie Harrison Last Observation (ML)    24434.45    24434.45    24434.45   \n",
      "Gold Creek Last Observation (ML)           883.97      881.74      877.28   \n",
      "\n",
      "                                         4/2/2011    5/2/2011    6/2/2011  \\\n",
      "Dam level                                                                   \n",
      " Wivenhoe Last Observation (ML)        1179269.43  1174940.08  1170621.37   \n",
      "Enoggera Last Observation (ML)            4262.00     4262.00     4262.00   \n",
      "Lake Manchester Last Observation (ML)    26243.70    26243.70    26243.70   \n",
      "Leslie Harrison Last Observation (ML)    24386.12    24386.12    24386.12   \n",
      "Gold Creek Last Observation (ML)           872.80      870.55      870.55   \n",
      "\n",
      "                                         7/2/2011    8/2/2011    9/2/2011  \\\n",
      "Dam level                                                                   \n",
      " Wivenhoe Last Observation (ML)        1170621.37  1170621.37  1170446.12   \n",
      "Enoggera Last Observation (ML)            4268.78     4268.78     4268.78   \n",
      "Lake Manchester Last Observation (ML)    26243.70    26297.17    26243.70   \n",
      "Leslie Harrison Last Observation (ML)    24434.45    24627.56    24627.56   \n",
      "Gold Creek Last Observation (ML)           870.55      875.04      877.28   \n",
      "\n",
      "                                        10/2/2011  ...  11 Feb 2011  \\\n",
      "Dam level                                          ...                \n",
      " Wivenhoe Last Observation (ML)        1170621.37  ...            1   \n",
      "Enoggera Last Observation (ML)            4262.00  ...            1   \n",
      "Lake Manchester Last Observation (ML)    26243.70  ...            1   \n",
      "Leslie Harrison Last Observation (ML)    24627.56  ...            1   \n",
      "Gold Creek Last Observation (ML)           877.28  ...            1   \n",
      "\n",
      "                                       12 Feb 2011  13 Feb 2011  14 Feb 2011  \\\n",
      "Dam level                                                                      \n",
      " Wivenhoe Last Observation (ML)                  1            1            1   \n",
      "Enoggera Last Observation (ML)                   0            0            0   \n",
      "Lake Manchester Last Observation (ML)            1            0            0   \n",
      "Leslie Harrison Last Observation (ML)            1            1            1   \n",
      "Gold Creek Last Observation (ML)                 1            1            1   \n",
      "\n",
      "                                       15 Feb 2011  16 Feb 2011  17 Feb 2011  \\\n",
      "Dam level                                                                      \n",
      " Wivenhoe Last Observation (ML)                  1            1            1   \n",
      "Enoggera Last Observation (ML)                   0            1            1   \n",
      "Lake Manchester Last Observation (ML)            1            1            1   \n",
      "Leslie Harrison Last Observation (ML)            1            1            1   \n",
      "Gold Creek Last Observation (ML)                 1            1            1   \n",
      "\n",
      "                                       18 Feb 2011  19 Feb 2011  20 Feb 2011  \n",
      "Dam level                                                                     \n",
      " Wivenhoe Last Observation (ML)                  1            1            0  \n",
      "Enoggera Last Observation (ML)                   1            1            1  \n",
      "Lake Manchester Last Observation (ML)            1            1            1  \n",
      "Leslie Harrison Last Observation (ML)            1            1            1  \n",
      "Gold Creek Last Observation (ML)                 1            1            1  \n",
      "\n",
      "[5 rows x 51 columns]\n",
      "                                         1/2/2011    2/2/2011    3/2/2011  \\\n",
      "Dam level                                                                   \n",
      " Wivenhoe Last Observation (ML)        1170621.37  1174940.08  1179269.43   \n",
      "Enoggera Last Observation (ML)            4275.58     4275.58     4268.78   \n",
      "Lake Manchester Last Observation (ML)    26297.17    26243.70    26243.70   \n",
      "Leslie Harrison Last Observation (ML)    24434.45    24434.45    24434.45   \n",
      "Gold Creek Last Observation (ML)           883.97      881.74      877.28   \n",
      "\n",
      "                                         4/2/2011    5/2/2011    6/2/2011  \\\n",
      "Dam level                                                                   \n",
      " Wivenhoe Last Observation (ML)        1179269.43  1174940.08  1170621.37   \n",
      "Enoggera Last Observation (ML)            4262.00     4262.00     4262.00   \n",
      "Lake Manchester Last Observation (ML)    26243.70    26243.70    26243.70   \n",
      "Leslie Harrison Last Observation (ML)    24386.12    24386.12    24386.12   \n",
      "Gold Creek Last Observation (ML)           872.80      870.55      870.55   \n",
      "\n",
      "                                         7/2/2011    8/2/2011    9/2/2011  \\\n",
      "Dam level                                                                   \n",
      " Wivenhoe Last Observation (ML)        1170621.37  1170621.37  1170446.12   \n",
      "Enoggera Last Observation (ML)            4268.78     4268.78     4268.78   \n",
      "Lake Manchester Last Observation (ML)    26243.70    26297.17    26243.70   \n",
      "Leslie Harrison Last Observation (ML)    24434.45    24627.56    24627.56   \n",
      "Gold Creek Last Observation (ML)           870.55      875.04      877.28   \n",
      "\n",
      "                                        10/2/2011  ...  12 Feb 2011  \\\n",
      "Dam level                                          ...                \n",
      " Wivenhoe Last Observation (ML)        1170621.37  ...            1   \n",
      "Enoggera Last Observation (ML)            4262.00  ...            0   \n",
      "Lake Manchester Last Observation (ML)    26243.70  ...            1   \n",
      "Leslie Harrison Last Observation (ML)    24627.56  ...            1   \n",
      "Gold Creek Last Observation (ML)           877.28  ...            1   \n",
      "\n",
      "                                       13 Feb 2011  14 Feb 2011  15 Feb 2011  \\\n",
      "Dam level                                                                      \n",
      " Wivenhoe Last Observation (ML)                  1            1            1   \n",
      "Enoggera Last Observation (ML)                   0            0            0   \n",
      "Lake Manchester Last Observation (ML)            0            0            1   \n",
      "Leslie Harrison Last Observation (ML)            1            1            1   \n",
      "Gold Creek Last Observation (ML)                 1            1            1   \n",
      "\n",
      "                                       16 Feb 2011  17 Feb 2011  18 Feb 2011  \\\n",
      "Dam level                                                                      \n",
      " Wivenhoe Last Observation (ML)                  1            1            1   \n",
      "Enoggera Last Observation (ML)                   1            1            1   \n",
      "Lake Manchester Last Observation (ML)            1            1            1   \n",
      "Leslie Harrison Last Observation (ML)            1            1            1   \n",
      "Gold Creek Last Observation (ML)                 1            1            1   \n",
      "\n",
      "                                       19 Feb 2011  20 Feb 2011  21 Feb 2011  \n",
      "Dam level                                                                     \n",
      " Wivenhoe Last Observation (ML)                  1            0            0  \n",
      "Enoggera Last Observation (ML)                   1            1            1  \n",
      "Lake Manchester Last Observation (ML)            1            1            1  \n",
      "Leslie Harrison Last Observation (ML)            1            1            1  \n",
      "Gold Creek Last Observation (ML)                 1            1            1  \n",
      "\n",
      "[5 rows x 52 columns]\n",
      "                                         1/2/2011    2/2/2011    3/2/2011  \\\n",
      "Dam level                                                                   \n",
      " Wivenhoe Last Observation (ML)        1170621.37  1174940.08  1179269.43   \n",
      "Enoggera Last Observation (ML)            4275.58     4275.58     4268.78   \n",
      "Lake Manchester Last Observation (ML)    26297.17    26243.70    26243.70   \n",
      "Leslie Harrison Last Observation (ML)    24434.45    24434.45    24434.45   \n",
      "Gold Creek Last Observation (ML)           883.97      881.74      877.28   \n",
      "\n",
      "                                         4/2/2011    5/2/2011    6/2/2011  \\\n",
      "Dam level                                                                   \n",
      " Wivenhoe Last Observation (ML)        1179269.43  1174940.08  1170621.37   \n",
      "Enoggera Last Observation (ML)            4262.00     4262.00     4262.00   \n",
      "Lake Manchester Last Observation (ML)    26243.70    26243.70    26243.70   \n",
      "Leslie Harrison Last Observation (ML)    24386.12    24386.12    24386.12   \n",
      "Gold Creek Last Observation (ML)           872.80      870.55      870.55   \n",
      "\n",
      "                                         7/2/2011    8/2/2011    9/2/2011  \\\n",
      "Dam level                                                                   \n",
      " Wivenhoe Last Observation (ML)        1170621.37  1170621.37  1170446.12   \n",
      "Enoggera Last Observation (ML)            4268.78     4268.78     4268.78   \n",
      "Lake Manchester Last Observation (ML)    26243.70    26297.17    26243.70   \n",
      "Leslie Harrison Last Observation (ML)    24434.45    24627.56    24627.56   \n",
      "Gold Creek Last Observation (ML)           870.55      875.04      877.28   \n",
      "\n",
      "                                        10/2/2011  ...  13 Feb 2011  \\\n",
      "Dam level                                          ...                \n",
      " Wivenhoe Last Observation (ML)        1170621.37  ...            1   \n",
      "Enoggera Last Observation (ML)            4262.00  ...            0   \n",
      "Lake Manchester Last Observation (ML)    26243.70  ...            0   \n",
      "Leslie Harrison Last Observation (ML)    24627.56  ...            1   \n",
      "Gold Creek Last Observation (ML)           877.28  ...            1   \n",
      "\n",
      "                                       14 Feb 2011  15 Feb 2011  16 Feb 2011  \\\n",
      "Dam level                                                                      \n",
      " Wivenhoe Last Observation (ML)                  1            1            1   \n",
      "Enoggera Last Observation (ML)                   0            0            1   \n",
      "Lake Manchester Last Observation (ML)            0            1            1   \n",
      "Leslie Harrison Last Observation (ML)            1            1            1   \n",
      "Gold Creek Last Observation (ML)                 1            1            1   \n",
      "\n",
      "                                       17 Feb 2011  18 Feb 2011  19 Feb 2011  \\\n",
      "Dam level                                                                      \n",
      " Wivenhoe Last Observation (ML)                  1            1            1   \n",
      "Enoggera Last Observation (ML)                   1            1            1   \n",
      "Lake Manchester Last Observation (ML)            1            1            1   \n",
      "Leslie Harrison Last Observation (ML)            1            1            1   \n",
      "Gold Creek Last Observation (ML)                 1            1            1   \n",
      "\n",
      "                                       20 Feb 2011  21 Feb 2011  22 Feb 2011  \n",
      "Dam level                                                                     \n",
      " Wivenhoe Last Observation (ML)                  0            0            0  \n",
      "Enoggera Last Observation (ML)                   1            1            1  \n",
      "Lake Manchester Last Observation (ML)            1            1            1  \n",
      "Leslie Harrison Last Observation (ML)            1            1            1  \n",
      "Gold Creek Last Observation (ML)                 1            1            1  \n",
      "\n",
      "[5 rows x 53 columns]\n",
      "                                         1/2/2011    2/2/2011    3/2/2011  \\\n",
      "Dam level                                                                   \n",
      " Wivenhoe Last Observation (ML)        1170621.37  1174940.08  1179269.43   \n",
      "Enoggera Last Observation (ML)            4275.58     4275.58     4268.78   \n",
      "Lake Manchester Last Observation (ML)    26297.17    26243.70    26243.70   \n",
      "Leslie Harrison Last Observation (ML)    24434.45    24434.45    24434.45   \n",
      "Gold Creek Last Observation (ML)           883.97      881.74      877.28   \n",
      "\n",
      "                                         4/2/2011    5/2/2011    6/2/2011  \\\n",
      "Dam level                                                                   \n",
      " Wivenhoe Last Observation (ML)        1179269.43  1174940.08  1170621.37   \n",
      "Enoggera Last Observation (ML)            4262.00     4262.00     4262.00   \n",
      "Lake Manchester Last Observation (ML)    26243.70    26243.70    26243.70   \n",
      "Leslie Harrison Last Observation (ML)    24386.12    24386.12    24386.12   \n",
      "Gold Creek Last Observation (ML)           872.80      870.55      870.55   \n",
      "\n",
      "                                         7/2/2011    8/2/2011    9/2/2011  \\\n",
      "Dam level                                                                   \n",
      " Wivenhoe Last Observation (ML)        1170621.37  1170621.37  1170446.12   \n",
      "Enoggera Last Observation (ML)            4268.78     4268.78     4268.78   \n",
      "Lake Manchester Last Observation (ML)    26243.70    26297.17    26243.70   \n",
      "Leslie Harrison Last Observation (ML)    24434.45    24627.56    24627.56   \n",
      "Gold Creek Last Observation (ML)           870.55      875.04      877.28   \n",
      "\n",
      "                                        10/2/2011  ...  14 Feb 2011  \\\n",
      "Dam level                                          ...                \n",
      " Wivenhoe Last Observation (ML)        1170621.37  ...            1   \n",
      "Enoggera Last Observation (ML)            4262.00  ...            0   \n",
      "Lake Manchester Last Observation (ML)    26243.70  ...            0   \n",
      "Leslie Harrison Last Observation (ML)    24627.56  ...            1   \n",
      "Gold Creek Last Observation (ML)           877.28  ...            1   \n",
      "\n",
      "                                       15 Feb 2011  16 Feb 2011  17 Feb 2011  \\\n",
      "Dam level                                                                      \n",
      " Wivenhoe Last Observation (ML)                  1            1            1   \n",
      "Enoggera Last Observation (ML)                   0            1            1   \n",
      "Lake Manchester Last Observation (ML)            1            1            1   \n",
      "Leslie Harrison Last Observation (ML)            1            1            1   \n",
      "Gold Creek Last Observation (ML)                 1            1            1   \n",
      "\n",
      "                                       18 Feb 2011  19 Feb 2011  20 Feb 2011  \\\n",
      "Dam level                                                                      \n",
      " Wivenhoe Last Observation (ML)                  1            1            0   \n",
      "Enoggera Last Observation (ML)                   1            1            1   \n",
      "Lake Manchester Last Observation (ML)            1            1            1   \n",
      "Leslie Harrison Last Observation (ML)            1            1            1   \n",
      "Gold Creek Last Observation (ML)                 1            1            1   \n",
      "\n",
      "                                       21 Feb 2011  22 Feb 2011  23 Feb 2011  \n",
      "Dam level                                                                     \n",
      " Wivenhoe Last Observation (ML)                  0            0            0  \n",
      "Enoggera Last Observation (ML)                   1            1            1  \n",
      "Lake Manchester Last Observation (ML)            1            1            1  \n",
      "Leslie Harrison Last Observation (ML)            1            1            1  \n",
      "Gold Creek Last Observation (ML)                 1            1            1  \n",
      "\n",
      "[5 rows x 54 columns]\n",
      "                                         1/2/2011    2/2/2011    3/2/2011  \\\n",
      "Dam level                                                                   \n",
      " Wivenhoe Last Observation (ML)        1170621.37  1174940.08  1179269.43   \n",
      "Enoggera Last Observation (ML)            4275.58     4275.58     4268.78   \n",
      "Lake Manchester Last Observation (ML)    26297.17    26243.70    26243.70   \n",
      "Leslie Harrison Last Observation (ML)    24434.45    24434.45    24434.45   \n",
      "Gold Creek Last Observation (ML)           883.97      881.74      877.28   \n",
      "\n",
      "                                         4/2/2011    5/2/2011    6/2/2011  \\\n",
      "Dam level                                                                   \n",
      " Wivenhoe Last Observation (ML)        1179269.43  1174940.08  1170621.37   \n",
      "Enoggera Last Observation (ML)            4262.00     4262.00     4262.00   \n",
      "Lake Manchester Last Observation (ML)    26243.70    26243.70    26243.70   \n",
      "Leslie Harrison Last Observation (ML)    24386.12    24386.12    24386.12   \n",
      "Gold Creek Last Observation (ML)           872.80      870.55      870.55   \n",
      "\n",
      "                                         7/2/2011    8/2/2011    9/2/2011  \\\n",
      "Dam level                                                                   \n",
      " Wivenhoe Last Observation (ML)        1170621.37  1170621.37  1170446.12   \n",
      "Enoggera Last Observation (ML)            4268.78     4268.78     4268.78   \n",
      "Lake Manchester Last Observation (ML)    26243.70    26297.17    26243.70   \n",
      "Leslie Harrison Last Observation (ML)    24434.45    24627.56    24627.56   \n",
      "Gold Creek Last Observation (ML)           870.55      875.04      877.28   \n",
      "\n",
      "                                        10/2/2011  ...  15 Feb 2011  \\\n",
      "Dam level                                          ...                \n",
      " Wivenhoe Last Observation (ML)        1170621.37  ...            1   \n",
      "Enoggera Last Observation (ML)            4262.00  ...            0   \n",
      "Lake Manchester Last Observation (ML)    26243.70  ...            1   \n",
      "Leslie Harrison Last Observation (ML)    24627.56  ...            1   \n",
      "Gold Creek Last Observation (ML)           877.28  ...            1   \n",
      "\n",
      "                                       16 Feb 2011  17 Feb 2011  18 Feb 2011  \\\n",
      "Dam level                                                                      \n",
      " Wivenhoe Last Observation (ML)                  1            1            1   \n",
      "Enoggera Last Observation (ML)                   1            1            1   \n",
      "Lake Manchester Last Observation (ML)            1            1            1   \n",
      "Leslie Harrison Last Observation (ML)            1            1            1   \n",
      "Gold Creek Last Observation (ML)                 1            1            1   \n",
      "\n",
      "                                       19 Feb 2011  20 Feb 2011  21 Feb 2011  \\\n",
      "Dam level                                                                      \n",
      " Wivenhoe Last Observation (ML)                  1            0            0   \n",
      "Enoggera Last Observation (ML)                   1            1            1   \n",
      "Lake Manchester Last Observation (ML)            1            1            1   \n",
      "Leslie Harrison Last Observation (ML)            1            1            1   \n",
      "Gold Creek Last Observation (ML)                 1            1            1   \n",
      "\n",
      "                                       22 Feb 2011  23 Feb 2011  24 Feb 2011  \n",
      "Dam level                                                                     \n",
      " Wivenhoe Last Observation (ML)                  0            0            0  \n",
      "Enoggera Last Observation (ML)                   1            1            1  \n",
      "Lake Manchester Last Observation (ML)            1            1            0  \n",
      "Leslie Harrison Last Observation (ML)            1            1            1  \n",
      "Gold Creek Last Observation (ML)                 1            1            1  \n",
      "\n",
      "[5 rows x 55 columns]\n",
      "                                         1/2/2011    2/2/2011    3/2/2011  \\\n",
      "Dam level                                                                   \n",
      " Wivenhoe Last Observation (ML)        1170621.37  1174940.08  1179269.43   \n",
      "Enoggera Last Observation (ML)            4275.58     4275.58     4268.78   \n",
      "Lake Manchester Last Observation (ML)    26297.17    26243.70    26243.70   \n",
      "Leslie Harrison Last Observation (ML)    24434.45    24434.45    24434.45   \n",
      "Gold Creek Last Observation (ML)           883.97      881.74      877.28   \n",
      "\n",
      "                                         4/2/2011    5/2/2011    6/2/2011  \\\n",
      "Dam level                                                                   \n",
      " Wivenhoe Last Observation (ML)        1179269.43  1174940.08  1170621.37   \n",
      "Enoggera Last Observation (ML)            4262.00     4262.00     4262.00   \n",
      "Lake Manchester Last Observation (ML)    26243.70    26243.70    26243.70   \n",
      "Leslie Harrison Last Observation (ML)    24386.12    24386.12    24386.12   \n",
      "Gold Creek Last Observation (ML)           872.80      870.55      870.55   \n",
      "\n",
      "                                         7/2/2011    8/2/2011    9/2/2011  \\\n",
      "Dam level                                                                   \n",
      " Wivenhoe Last Observation (ML)        1170621.37  1170621.37  1170446.12   \n",
      "Enoggera Last Observation (ML)            4268.78     4268.78     4268.78   \n",
      "Lake Manchester Last Observation (ML)    26243.70    26297.17    26243.70   \n",
      "Leslie Harrison Last Observation (ML)    24434.45    24627.56    24627.56   \n",
      "Gold Creek Last Observation (ML)           870.55      875.04      877.28   \n",
      "\n",
      "                                        10/2/2011  ...  16 Feb 2011  \\\n",
      "Dam level                                          ...                \n",
      " Wivenhoe Last Observation (ML)        1170621.37  ...            1   \n",
      "Enoggera Last Observation (ML)            4262.00  ...            1   \n",
      "Lake Manchester Last Observation (ML)    26243.70  ...            1   \n",
      "Leslie Harrison Last Observation (ML)    24627.56  ...            1   \n",
      "Gold Creek Last Observation (ML)           877.28  ...            1   \n",
      "\n",
      "                                       17 Feb 2011  18 Feb 2011  19 Feb 2011  \\\n",
      "Dam level                                                                      \n",
      " Wivenhoe Last Observation (ML)                  1            1            1   \n",
      "Enoggera Last Observation (ML)                   1            1            1   \n",
      "Lake Manchester Last Observation (ML)            1            1            1   \n",
      "Leslie Harrison Last Observation (ML)            1            1            1   \n",
      "Gold Creek Last Observation (ML)                 1            1            1   \n",
      "\n",
      "                                       20 Feb 2011  21 Feb 2011  22 Feb 2011  \\\n",
      "Dam level                                                                      \n",
      " Wivenhoe Last Observation (ML)                  0            0            0   \n",
      "Enoggera Last Observation (ML)                   1            1            1   \n",
      "Lake Manchester Last Observation (ML)            1            1            1   \n",
      "Leslie Harrison Last Observation (ML)            1            1            1   \n",
      "Gold Creek Last Observation (ML)                 1            1            1   \n",
      "\n",
      "                                       23 Feb 2011  24 Feb 2011  25 Feb 2011  \n",
      "Dam level                                                                     \n",
      " Wivenhoe Last Observation (ML)                  0            0            0  \n",
      "Enoggera Last Observation (ML)                   1            1            1  \n",
      "Lake Manchester Last Observation (ML)            1            0            0  \n",
      "Leslie Harrison Last Observation (ML)            1            1            1  \n",
      "Gold Creek Last Observation (ML)                 1            1            1  \n",
      "\n",
      "[5 rows x 56 columns]\n",
      "                                         1/2/2011    2/2/2011    3/2/2011  \\\n",
      "Dam level                                                                   \n",
      " Wivenhoe Last Observation (ML)        1170621.37  1174940.08  1179269.43   \n",
      "Enoggera Last Observation (ML)            4275.58     4275.58     4268.78   \n",
      "Lake Manchester Last Observation (ML)    26297.17    26243.70    26243.70   \n",
      "Leslie Harrison Last Observation (ML)    24434.45    24434.45    24434.45   \n",
      "Gold Creek Last Observation (ML)           883.97      881.74      877.28   \n",
      "\n",
      "                                         4/2/2011    5/2/2011    6/2/2011  \\\n",
      "Dam level                                                                   \n",
      " Wivenhoe Last Observation (ML)        1179269.43  1174940.08  1170621.37   \n",
      "Enoggera Last Observation (ML)            4262.00     4262.00     4262.00   \n",
      "Lake Manchester Last Observation (ML)    26243.70    26243.70    26243.70   \n",
      "Leslie Harrison Last Observation (ML)    24386.12    24386.12    24386.12   \n",
      "Gold Creek Last Observation (ML)           872.80      870.55      870.55   \n",
      "\n",
      "                                         7/2/2011    8/2/2011    9/2/2011  \\\n",
      "Dam level                                                                   \n",
      " Wivenhoe Last Observation (ML)        1170621.37  1170621.37  1170446.12   \n",
      "Enoggera Last Observation (ML)            4268.78     4268.78     4268.78   \n",
      "Lake Manchester Last Observation (ML)    26243.70    26297.17    26243.70   \n",
      "Leslie Harrison Last Observation (ML)    24434.45    24627.56    24627.56   \n",
      "Gold Creek Last Observation (ML)           870.55      875.04      877.28   \n",
      "\n",
      "                                        10/2/2011  ...  17 Feb 2011  \\\n",
      "Dam level                                          ...                \n",
      " Wivenhoe Last Observation (ML)        1170621.37  ...            1   \n",
      "Enoggera Last Observation (ML)            4262.00  ...            1   \n",
      "Lake Manchester Last Observation (ML)    26243.70  ...            1   \n",
      "Leslie Harrison Last Observation (ML)    24627.56  ...            1   \n",
      "Gold Creek Last Observation (ML)           877.28  ...            1   \n",
      "\n",
      "                                       18 Feb 2011  19 Feb 2011  20 Feb 2011  \\\n",
      "Dam level                                                                      \n",
      " Wivenhoe Last Observation (ML)                  1            1            0   \n",
      "Enoggera Last Observation (ML)                   1            1            1   \n",
      "Lake Manchester Last Observation (ML)            1            1            1   \n",
      "Leslie Harrison Last Observation (ML)            1            1            1   \n",
      "Gold Creek Last Observation (ML)                 1            1            1   \n",
      "\n",
      "                                       21 Feb 2011  22 Feb 2011  23 Feb 2011  \\\n",
      "Dam level                                                                      \n",
      " Wivenhoe Last Observation (ML)                  0            0            0   \n",
      "Enoggera Last Observation (ML)                   1            1            1   \n",
      "Lake Manchester Last Observation (ML)            1            1            1   \n",
      "Leslie Harrison Last Observation (ML)            1            1            1   \n",
      "Gold Creek Last Observation (ML)                 1            1            1   \n",
      "\n",
      "                                       24 Feb 2011  25 Feb 2011  26 Feb 2011  \n",
      "Dam level                                                                     \n",
      " Wivenhoe Last Observation (ML)                  0            0            0  \n",
      "Enoggera Last Observation (ML)                   1            1            1  \n",
      "Lake Manchester Last Observation (ML)            0            0            0  \n",
      "Leslie Harrison Last Observation (ML)            1            1            1  \n",
      "Gold Creek Last Observation (ML)                 1            1            1  \n",
      "\n",
      "[5 rows x 57 columns]\n",
      "                                         1/2/2011    2/2/2011    3/2/2011  \\\n",
      "Dam level                                                                   \n",
      " Wivenhoe Last Observation (ML)        1170621.37  1174940.08  1179269.43   \n",
      "Enoggera Last Observation (ML)            4275.58     4275.58     4268.78   \n",
      "Lake Manchester Last Observation (ML)    26297.17    26243.70    26243.70   \n",
      "Leslie Harrison Last Observation (ML)    24434.45    24434.45    24434.45   \n",
      "Gold Creek Last Observation (ML)           883.97      881.74      877.28   \n",
      "\n",
      "                                         4/2/2011    5/2/2011    6/2/2011  \\\n",
      "Dam level                                                                   \n",
      " Wivenhoe Last Observation (ML)        1179269.43  1174940.08  1170621.37   \n",
      "Enoggera Last Observation (ML)            4262.00     4262.00     4262.00   \n",
      "Lake Manchester Last Observation (ML)    26243.70    26243.70    26243.70   \n",
      "Leslie Harrison Last Observation (ML)    24386.12    24386.12    24386.12   \n",
      "Gold Creek Last Observation (ML)           872.80      870.55      870.55   \n",
      "\n",
      "                                         7/2/2011    8/2/2011    9/2/2011  \\\n",
      "Dam level                                                                   \n",
      " Wivenhoe Last Observation (ML)        1170621.37  1170621.37  1170446.12   \n",
      "Enoggera Last Observation (ML)            4268.78     4268.78     4268.78   \n",
      "Lake Manchester Last Observation (ML)    26243.70    26297.17    26243.70   \n",
      "Leslie Harrison Last Observation (ML)    24434.45    24627.56    24627.56   \n",
      "Gold Creek Last Observation (ML)           870.55      875.04      877.28   \n",
      "\n",
      "                                        10/2/2011  ...  18 Feb 2011  \\\n",
      "Dam level                                          ...                \n",
      " Wivenhoe Last Observation (ML)        1170621.37  ...            1   \n",
      "Enoggera Last Observation (ML)            4262.00  ...            1   \n",
      "Lake Manchester Last Observation (ML)    26243.70  ...            1   \n",
      "Leslie Harrison Last Observation (ML)    24627.56  ...            1   \n",
      "Gold Creek Last Observation (ML)           877.28  ...            1   \n",
      "\n",
      "                                       19 Feb 2011  20 Feb 2011  21 Feb 2011  \\\n",
      "Dam level                                                                      \n",
      " Wivenhoe Last Observation (ML)                  1            0            0   \n",
      "Enoggera Last Observation (ML)                   1            1            1   \n",
      "Lake Manchester Last Observation (ML)            1            1            1   \n",
      "Leslie Harrison Last Observation (ML)            1            1            1   \n",
      "Gold Creek Last Observation (ML)                 1            1            1   \n",
      "\n",
      "                                       22 Feb 2011  23 Feb 2011  24 Feb 2011  \\\n",
      "Dam level                                                                      \n",
      " Wivenhoe Last Observation (ML)                  0            0            0   \n",
      "Enoggera Last Observation (ML)                   1            1            1   \n",
      "Lake Manchester Last Observation (ML)            1            1            0   \n",
      "Leslie Harrison Last Observation (ML)            1            1            1   \n",
      "Gold Creek Last Observation (ML)                 1            1            1   \n",
      "\n",
      "                                       25 Feb 2011  26 Feb 2011  27 Feb 2011  \n",
      "Dam level                                                                     \n",
      " Wivenhoe Last Observation (ML)                  0            0            0  \n",
      "Enoggera Last Observation (ML)                   1            1            1  \n",
      "Lake Manchester Last Observation (ML)            0            0            0  \n",
      "Leslie Harrison Last Observation (ML)            1            1            1  \n",
      "Gold Creek Last Observation (ML)                 1            1            1  \n",
      "\n",
      "[5 rows x 58 columns]\n",
      "                                         1/2/2011    2/2/2011    3/2/2011  \\\n",
      "Dam level                                                                   \n",
      " Wivenhoe Last Observation (ML)        1170621.37  1174940.08  1179269.43   \n",
      "Enoggera Last Observation (ML)            4275.58     4275.58     4268.78   \n",
      "Lake Manchester Last Observation (ML)    26297.17    26243.70    26243.70   \n",
      "Leslie Harrison Last Observation (ML)    24434.45    24434.45    24434.45   \n",
      "Gold Creek Last Observation (ML)           883.97      881.74      877.28   \n",
      "\n",
      "                                         4/2/2011    5/2/2011    6/2/2011  \\\n",
      "Dam level                                                                   \n",
      " Wivenhoe Last Observation (ML)        1179269.43  1174940.08  1170621.37   \n",
      "Enoggera Last Observation (ML)            4262.00     4262.00     4262.00   \n",
      "Lake Manchester Last Observation (ML)    26243.70    26243.70    26243.70   \n",
      "Leslie Harrison Last Observation (ML)    24386.12    24386.12    24386.12   \n",
      "Gold Creek Last Observation (ML)           872.80      870.55      870.55   \n",
      "\n",
      "                                         7/2/2011    8/2/2011    9/2/2011  \\\n",
      "Dam level                                                                   \n",
      " Wivenhoe Last Observation (ML)        1170621.37  1170621.37  1170446.12   \n",
      "Enoggera Last Observation (ML)            4268.78     4268.78     4268.78   \n",
      "Lake Manchester Last Observation (ML)    26243.70    26297.17    26243.70   \n",
      "Leslie Harrison Last Observation (ML)    24434.45    24627.56    24627.56   \n",
      "Gold Creek Last Observation (ML)           870.55      875.04      877.28   \n",
      "\n",
      "                                        10/2/2011  ...  19 Feb 2011  \\\n",
      "Dam level                                          ...                \n",
      " Wivenhoe Last Observation (ML)        1170621.37  ...            1   \n",
      "Enoggera Last Observation (ML)            4262.00  ...            1   \n",
      "Lake Manchester Last Observation (ML)    26243.70  ...            1   \n",
      "Leslie Harrison Last Observation (ML)    24627.56  ...            1   \n",
      "Gold Creek Last Observation (ML)           877.28  ...            1   \n",
      "\n",
      "                                       20 Feb 2011  21 Feb 2011  22 Feb 2011  \\\n",
      "Dam level                                                                      \n",
      " Wivenhoe Last Observation (ML)                  0            0            0   \n",
      "Enoggera Last Observation (ML)                   1            1            1   \n",
      "Lake Manchester Last Observation (ML)            1            1            1   \n",
      "Leslie Harrison Last Observation (ML)            1            1            1   \n",
      "Gold Creek Last Observation (ML)                 1            1            1   \n",
      "\n",
      "                                       23 Feb 2011  24 Feb 2011  25 Feb 2011  \\\n",
      "Dam level                                                                      \n",
      " Wivenhoe Last Observation (ML)                  0            0            0   \n",
      "Enoggera Last Observation (ML)                   1            1            1   \n",
      "Lake Manchester Last Observation (ML)            1            0            0   \n",
      "Leslie Harrison Last Observation (ML)            1            1            1   \n",
      "Gold Creek Last Observation (ML)                 1            1            1   \n",
      "\n",
      "                                       26 Feb 2011  27 Feb 2011  28 Feb 2011  \n",
      "Dam level                                                                     \n",
      " Wivenhoe Last Observation (ML)                  0            0            0  \n",
      "Enoggera Last Observation (ML)                   1            1            1  \n",
      "Lake Manchester Last Observation (ML)            0            0            0  \n",
      "Leslie Harrison Last Observation (ML)            1            1            1  \n",
      "Gold Creek Last Observation (ML)                 1            1            1  \n",
      "\n",
      "[5 rows x 59 columns]\n"
     ]
    }
   ],
   "source": [
    "conditions = [ef['2/2/2011'] > ef['Elevation'], ef['2/2/2011'] < ef['Elevation']]\n",
    "choices = ['1', '0']\n",
    "ef['2 Feb 2011'] = np.select(conditions, choices, default='1').astype(str).astype(int)\n",
    "print(ef)\n",
    "conditions = [ef['3/2/2011'] > ef['Elevation'], ef['3/2/2011'] < ef['Elevation']]\n",
    "choices = ['1', '0']\n",
    "ef['3 Feb 2011'] = np.select(conditions, choices, default='1').astype(str).astype(int)\n",
    "print(ef)\n",
    "conditions = [ef['4/2/2011'] > ef['Elevation'], ef['4/2/2011'] < ef['Elevation']]\n",
    "choices = ['1', '0']\n",
    "ef['4 Feb 2011'] = np.select(conditions, choices, default='1').astype(str).astype(int)\n",
    "print(ef)\n",
    "conditions = [ef['5/2/2011'] > ef['Elevation'], ef['5/2/2011'] < ef['Elevation']]\n",
    "choices = ['1', '0']\n",
    "ef['5 Feb 2011'] = np.select(conditions, choices, default='1').astype(str).astype(int)\n",
    "print(ef)\n",
    "conditions = [ef['6/2/2011'] > ef['Elevation'], ef['6/2/2011'] < ef['Elevation']]\n",
    "choices = ['1', '0']\n",
    "ef['6 Feb 2011'] = np.select(conditions, choices, default='1').astype(str).astype(int)\n",
    "print(ef)\n",
    "conditions = [ef['7/2/2011'] > ef['Elevation'], ef['7/2/2011'] < ef['Elevation']]\n",
    "choices = ['1', '0']\n",
    "ef['7 Feb 2011'] = np.select(conditions, choices, default='1').astype(str).astype(int)\n",
    "print(ef)\n",
    "conditions = [ef['8/2/2011'] > ef['Elevation'], ef['8/2/2011'] < ef['Elevation']]\n",
    "choices = ['1', '0']\n",
    "ef['8 Feb 2011'] = np.select(conditions, choices, default='1').astype(str).astype(int)\n",
    "print(ef)\n",
    "conditions = [ef['9/2/2011'] > ef['Elevation'], ef['9/2/2011'] < ef['Elevation']]\n",
    "choices = ['1', '0']\n",
    "ef['9 Feb 2011'] = np.select(conditions, choices, default='1').astype(str).astype(int)\n",
    "print(ef)\n",
    "conditions = [ef['10/2/2011'] > ef['Elevation'], ef['10/2/2011'] < ef['Elevation']]\n",
    "choices = ['1', '0']\n",
    "ef['10 Feb 2011'] = np.select(conditions, choices, default='1').astype(str).astype(int)\n",
    "print(ef)\n",
    "conditions = [ef['11/2/2011'] > ef['Elevation'], ef['11/2/2011'] < ef['Elevation']]\n",
    "choices = ['1', '0']\n",
    "ef['11 Feb 2011'] = np.select(conditions, choices, default='1').astype(str).astype(int)\n",
    "print(ef)\n",
    "conditions = [ef['12/2/2011'] > ef['Elevation'], ef['12/2/2011'] < ef['Elevation']]\n",
    "choices = ['1', '0']\n",
    "ef['12 Feb 2011'] = np.select(conditions, choices, default='1').astype(str).astype(int)\n",
    "print(ef)\n",
    "conditions = [ef['13/2/2011'] > ef['Elevation'], ef['13/2/2011'] < ef['Elevation']]\n",
    "choices = ['1', '0']\n",
    "ef['13 Feb 2011'] = np.select(conditions, choices, default='1').astype(str).astype(int)\n",
    "print(ef)\n",
    "conditions = [ef['14/2/2011'] > ef['Elevation'], ef['14/2/2011'] < ef['Elevation']]\n",
    "choices = ['1', '0']\n",
    "ef['14 Feb 2011'] = np.select(conditions, choices, default='1').astype(str).astype(int)\n",
    "print(ef)\n",
    "conditions = [ef['15/2/2011'] > ef['Elevation'], ef['15/2/2011'] < ef['Elevation']]\n",
    "choices = ['1', '0']\n",
    "ef['15 Feb 2011'] = np.select(conditions, choices, default='1').astype(str).astype(int)\n",
    "print(ef)\n",
    "conditions = [ef['16/2/2011'] > ef['Elevation'], ef['16/2/2011'] < ef['Elevation']]\n",
    "choices = ['1', '0']\n",
    "ef['16 Feb 2011'] = np.select(conditions, choices, default='1').astype(str).astype(int)\n",
    "print(ef)\n",
    "conditions = [ef['17/2/2011'] > ef['Elevation'], ef['17/2/2011'] < ef['Elevation']]\n",
    "choices = ['1', '0']\n",
    "ef['17 Feb 2011'] = np.select(conditions, choices, default='1').astype(str).astype(int)\n",
    "print(ef)\n",
    "conditions = [ef['18/2/2011'] > ef['Elevation'], ef['18/2/2011'] < ef['Elevation']]\n",
    "choices = ['1', '0']\n",
    "ef['18 Feb 2011'] = np.select(conditions, choices, default='1').astype(str).astype(int)\n",
    "print(ef)\n",
    "conditions = [ef['19/2/2011'] > ef['Elevation'], ef['19/2/2011'] < ef['Elevation']]\n",
    "choices = ['1', '0']\n",
    "ef['19 Feb 2011'] = np.select(conditions, choices, default='1').astype(str).astype(int)\n",
    "print(ef)\n",
    "conditions = [ef['20/2/2011'] > ef['Elevation'], ef['20/2/2011'] < ef['Elevation']]\n",
    "choices = ['1', '0']\n",
    "ef['20 Feb 2011'] = np.select(conditions, choices, default='1').astype(str).astype(int)\n",
    "print(ef)\n",
    "conditions = [ef['21/2/2011'] > ef['Elevation'], ef['21/2/2011'] < ef['Elevation']]\n",
    "choices = ['1', '0']\n",
    "ef['21 Feb 2011'] = np.select(conditions, choices, default='1').astype(str).astype(int)\n",
    "print(ef)\n",
    "conditions = [ef['22/2/2011'] > ef['Elevation'], ef['22/2/2011'] < ef['Elevation']]\n",
    "choices = ['1', '0']\n",
    "ef['22 Feb 2011'] = np.select(conditions, choices, default='1').astype(str).astype(int)\n",
    "print(ef)\n",
    "conditions = [ef['23/2/2011'] > ef['Elevation'], ef['23/2/2011'] < ef['Elevation']]\n",
    "choices = ['1', '0']\n",
    "ef['23 Feb 2011'] = np.select(conditions, choices, default='1').astype(str).astype(int)\n",
    "print(ef)\n",
    "conditions = [ef['24/2/2011'] > ef['Elevation'], ef['24/2/2011'] < ef['Elevation']]\n",
    "choices = ['1', '0']\n",
    "ef['24 Feb 2011'] = np.select(conditions, choices, default='1').astype(str).astype(int)\n",
    "print(ef)\n",
    "conditions = [ef['25/2/2011'] > ef['Elevation'], ef['25/2/2011'] < ef['Elevation']]\n",
    "choices = ['1', '0']\n",
    "ef['25 Feb 2011'] = np.select(conditions, choices, default='1').astype(str).astype(int)\n",
    "print(ef)\n",
    "conditions = [ef['26/2/2011'] > ef['Elevation'], ef['26/2/2011'] < ef['Elevation']]\n",
    "choices = ['1', '0']\n",
    "ef['26 Feb 2011'] = np.select(conditions, choices, default='1').astype(str).astype(int)\n",
    "print(ef)\n",
    "conditions = [ef['27/2/2011'] > ef['Elevation'], ef['27/2/2011'] < ef['Elevation']]\n",
    "choices = ['1', '0']\n",
    "ef['27 Feb 2011'] = np.select(conditions, choices, default='1').astype(str).astype(int)\n",
    "print(ef)\n",
    "conditions = [ef['28/2/2011'] > ef['Elevation'], ef['28/2/2011'] < ef['Elevation']]\n",
    "choices = ['1', '0']\n",
    "ef['28 Feb 2011'] = np.select(conditions, choices, default='1').astype(str).astype(int)\n",
    "print(ef)"
   ]
  },
  {
   "cell_type": "code",
   "execution_count": 288,
   "id": "a685d0fc",
   "metadata": {},
   "outputs": [
    {
     "data": {
      "application/vnd.plotly.v1+json": {
       "config": {
        "plotlyServerURL": "https://plot.ly"
       },
       "data": [
        {
         "customdata": [
          [
           " Wivenhoe Last Observation (ML)",
           933492.85
          ],
          [
           "Enoggera Last Observation (ML)",
           4289.23
          ],
          [
           "Lake Manchester Last Observation (ML)",
           25924.82
          ],
          [
           "Leslie Harrison Last Observation (ML)",
           24434.45
          ],
          [
           "Gold Creek Last Observation (ML)",
           914.97
          ]
         ],
         "hovertemplate": "<b>%{hovertext}</b><br><br>28 Feb 2011=%{marker.color}<br>Dam level=%{customdata[0]}<br>28/2/2011=%{customdata[1]}<br>text=%{text}<br>Lat=%{lat}<br>Long=%{lon}<extra></extra>",
         "hovertext": [
          " Wivenhoe Last Observation (ML)",
          "Enoggera Last Observation (ML)",
          "Lake Manchester Last Observation (ML)",
          "Leslie Harrison Last Observation (ML)",
          "Gold Creek Last Observation (ML)"
         ],
         "lat": [
          -27.3944,
          -27.4224,
          -27.4882,
          -27.53,
          -27.4618
         ],
         "legendgroup": "",
         "lon": [
          152.6087,
          152.9908,
          152.752,
          153.179,
          152.8812
         ],
         "marker": {
          "color": [
           0,
           1,
           0,
           1,
           1
          ],
          "coloraxis": "coloraxis",
          "size": [
           0,
           1,
           0,
           1,
           1
          ],
          "sizemode": "area",
          "sizeref": 0.012345679012345678
         },
         "mode": "markers+text",
         "name": "",
         "showlegend": false,
         "subplot": "mapbox",
         "text": [
          " Wivenhoe Last Observation (ML)<br>-27.3944<br>152.6087",
          "Enoggera Last Observation (ML)<br>-27.4224<br>152.9908",
          "Lake Manchester Last Observation (ML)<br>-27.4882<br>152.752",
          "Leslie Harrison Last Observation (ML)<br>-27.53<br>153.179",
          "Gold Creek Last Observation (ML)<br>-27.4618<br>152.8812"
         ],
         "type": "scattermapbox"
        }
       ],
       "layout": {
        "coloraxis": {
         "cmax": 1,
         "cmin": 0,
         "colorbar": {
          "title": {
           "text": "28 Feb 2011"
          }
         },
         "colorscale": [
          [
           0,
           "#0d0887"
          ],
          [
           0.1111111111111111,
           "#46039f"
          ],
          [
           0.2222222222222222,
           "#7201a8"
          ],
          [
           0.3333333333333333,
           "#9c179e"
          ],
          [
           0.4444444444444444,
           "#bd3786"
          ],
          [
           0.5555555555555556,
           "#d8576b"
          ],
          [
           0.6666666666666666,
           "#ed7953"
          ],
          [
           0.7777777777777778,
           "#fb9f3a"
          ],
          [
           0.8888888888888888,
           "#fdca26"
          ],
          [
           1,
           "#f0f921"
          ]
         ]
        },
        "legend": {
         "itemsizing": "constant",
         "tracegroupgap": 0
        },
        "mapbox": {
         "center": {
          "lat": -27.45936,
          "lon": 152.88234
         },
         "domain": {
          "x": [
           0,
           1
          ],
          "y": [
           0,
           1
          ]
         },
         "style": "carto-positron",
         "zoom": 9
        },
        "template": {
         "data": {
          "bar": [
           {
            "error_x": {
             "color": "#2a3f5f"
            },
            "error_y": {
             "color": "#2a3f5f"
            },
            "marker": {
             "line": {
              "color": "#E5ECF6",
              "width": 0.5
             }
            },
            "type": "bar"
           }
          ],
          "barpolar": [
           {
            "marker": {
             "line": {
              "color": "#E5ECF6",
              "width": 0.5
             }
            },
            "type": "barpolar"
           }
          ],
          "carpet": [
           {
            "aaxis": {
             "endlinecolor": "#2a3f5f",
             "gridcolor": "white",
             "linecolor": "white",
             "minorgridcolor": "white",
             "startlinecolor": "#2a3f5f"
            },
            "baxis": {
             "endlinecolor": "#2a3f5f",
             "gridcolor": "white",
             "linecolor": "white",
             "minorgridcolor": "white",
             "startlinecolor": "#2a3f5f"
            },
            "type": "carpet"
           }
          ],
          "choropleth": [
           {
            "colorbar": {
             "outlinewidth": 0,
             "ticks": ""
            },
            "type": "choropleth"
           }
          ],
          "contour": [
           {
            "colorbar": {
             "outlinewidth": 0,
             "ticks": ""
            },
            "colorscale": [
             [
              0,
              "#0d0887"
             ],
             [
              0.1111111111111111,
              "#46039f"
             ],
             [
              0.2222222222222222,
              "#7201a8"
             ],
             [
              0.3333333333333333,
              "#9c179e"
             ],
             [
              0.4444444444444444,
              "#bd3786"
             ],
             [
              0.5555555555555556,
              "#d8576b"
             ],
             [
              0.6666666666666666,
              "#ed7953"
             ],
             [
              0.7777777777777778,
              "#fb9f3a"
             ],
             [
              0.8888888888888888,
              "#fdca26"
             ],
             [
              1,
              "#f0f921"
             ]
            ],
            "type": "contour"
           }
          ],
          "contourcarpet": [
           {
            "colorbar": {
             "outlinewidth": 0,
             "ticks": ""
            },
            "type": "contourcarpet"
           }
          ],
          "heatmap": [
           {
            "colorbar": {
             "outlinewidth": 0,
             "ticks": ""
            },
            "colorscale": [
             [
              0,
              "#0d0887"
             ],
             [
              0.1111111111111111,
              "#46039f"
             ],
             [
              0.2222222222222222,
              "#7201a8"
             ],
             [
              0.3333333333333333,
              "#9c179e"
             ],
             [
              0.4444444444444444,
              "#bd3786"
             ],
             [
              0.5555555555555556,
              "#d8576b"
             ],
             [
              0.6666666666666666,
              "#ed7953"
             ],
             [
              0.7777777777777778,
              "#fb9f3a"
             ],
             [
              0.8888888888888888,
              "#fdca26"
             ],
             [
              1,
              "#f0f921"
             ]
            ],
            "type": "heatmap"
           }
          ],
          "heatmapgl": [
           {
            "colorbar": {
             "outlinewidth": 0,
             "ticks": ""
            },
            "colorscale": [
             [
              0,
              "#0d0887"
             ],
             [
              0.1111111111111111,
              "#46039f"
             ],
             [
              0.2222222222222222,
              "#7201a8"
             ],
             [
              0.3333333333333333,
              "#9c179e"
             ],
             [
              0.4444444444444444,
              "#bd3786"
             ],
             [
              0.5555555555555556,
              "#d8576b"
             ],
             [
              0.6666666666666666,
              "#ed7953"
             ],
             [
              0.7777777777777778,
              "#fb9f3a"
             ],
             [
              0.8888888888888888,
              "#fdca26"
             ],
             [
              1,
              "#f0f921"
             ]
            ],
            "type": "heatmapgl"
           }
          ],
          "histogram": [
           {
            "marker": {
             "colorbar": {
              "outlinewidth": 0,
              "ticks": ""
             }
            },
            "type": "histogram"
           }
          ],
          "histogram2d": [
           {
            "colorbar": {
             "outlinewidth": 0,
             "ticks": ""
            },
            "colorscale": [
             [
              0,
              "#0d0887"
             ],
             [
              0.1111111111111111,
              "#46039f"
             ],
             [
              0.2222222222222222,
              "#7201a8"
             ],
             [
              0.3333333333333333,
              "#9c179e"
             ],
             [
              0.4444444444444444,
              "#bd3786"
             ],
             [
              0.5555555555555556,
              "#d8576b"
             ],
             [
              0.6666666666666666,
              "#ed7953"
             ],
             [
              0.7777777777777778,
              "#fb9f3a"
             ],
             [
              0.8888888888888888,
              "#fdca26"
             ],
             [
              1,
              "#f0f921"
             ]
            ],
            "type": "histogram2d"
           }
          ],
          "histogram2dcontour": [
           {
            "colorbar": {
             "outlinewidth": 0,
             "ticks": ""
            },
            "colorscale": [
             [
              0,
              "#0d0887"
             ],
             [
              0.1111111111111111,
              "#46039f"
             ],
             [
              0.2222222222222222,
              "#7201a8"
             ],
             [
              0.3333333333333333,
              "#9c179e"
             ],
             [
              0.4444444444444444,
              "#bd3786"
             ],
             [
              0.5555555555555556,
              "#d8576b"
             ],
             [
              0.6666666666666666,
              "#ed7953"
             ],
             [
              0.7777777777777778,
              "#fb9f3a"
             ],
             [
              0.8888888888888888,
              "#fdca26"
             ],
             [
              1,
              "#f0f921"
             ]
            ],
            "type": "histogram2dcontour"
           }
          ],
          "mesh3d": [
           {
            "colorbar": {
             "outlinewidth": 0,
             "ticks": ""
            },
            "type": "mesh3d"
           }
          ],
          "parcoords": [
           {
            "line": {
             "colorbar": {
              "outlinewidth": 0,
              "ticks": ""
             }
            },
            "type": "parcoords"
           }
          ],
          "pie": [
           {
            "automargin": true,
            "type": "pie"
           }
          ],
          "scatter": [
           {
            "marker": {
             "colorbar": {
              "outlinewidth": 0,
              "ticks": ""
             }
            },
            "type": "scatter"
           }
          ],
          "scatter3d": [
           {
            "line": {
             "colorbar": {
              "outlinewidth": 0,
              "ticks": ""
             }
            },
            "marker": {
             "colorbar": {
              "outlinewidth": 0,
              "ticks": ""
             }
            },
            "type": "scatter3d"
           }
          ],
          "scattercarpet": [
           {
            "marker": {
             "colorbar": {
              "outlinewidth": 0,
              "ticks": ""
             }
            },
            "type": "scattercarpet"
           }
          ],
          "scattergeo": [
           {
            "marker": {
             "colorbar": {
              "outlinewidth": 0,
              "ticks": ""
             }
            },
            "type": "scattergeo"
           }
          ],
          "scattergl": [
           {
            "marker": {
             "colorbar": {
              "outlinewidth": 0,
              "ticks": ""
             }
            },
            "type": "scattergl"
           }
          ],
          "scattermapbox": [
           {
            "marker": {
             "colorbar": {
              "outlinewidth": 0,
              "ticks": ""
             }
            },
            "type": "scattermapbox"
           }
          ],
          "scatterpolar": [
           {
            "marker": {
             "colorbar": {
              "outlinewidth": 0,
              "ticks": ""
             }
            },
            "type": "scatterpolar"
           }
          ],
          "scatterpolargl": [
           {
            "marker": {
             "colorbar": {
              "outlinewidth": 0,
              "ticks": ""
             }
            },
            "type": "scatterpolargl"
           }
          ],
          "scatterternary": [
           {
            "marker": {
             "colorbar": {
              "outlinewidth": 0,
              "ticks": ""
             }
            },
            "type": "scatterternary"
           }
          ],
          "surface": [
           {
            "colorbar": {
             "outlinewidth": 0,
             "ticks": ""
            },
            "colorscale": [
             [
              0,
              "#0d0887"
             ],
             [
              0.1111111111111111,
              "#46039f"
             ],
             [
              0.2222222222222222,
              "#7201a8"
             ],
             [
              0.3333333333333333,
              "#9c179e"
             ],
             [
              0.4444444444444444,
              "#bd3786"
             ],
             [
              0.5555555555555556,
              "#d8576b"
             ],
             [
              0.6666666666666666,
              "#ed7953"
             ],
             [
              0.7777777777777778,
              "#fb9f3a"
             ],
             [
              0.8888888888888888,
              "#fdca26"
             ],
             [
              1,
              "#f0f921"
             ]
            ],
            "type": "surface"
           }
          ],
          "table": [
           {
            "cells": {
             "fill": {
              "color": "#EBF0F8"
             },
             "line": {
              "color": "white"
             }
            },
            "header": {
             "fill": {
              "color": "#C8D4E3"
             },
             "line": {
              "color": "white"
             }
            },
            "type": "table"
           }
          ]
         },
         "layout": {
          "annotationdefaults": {
           "arrowcolor": "#2a3f5f",
           "arrowhead": 0,
           "arrowwidth": 1
          },
          "coloraxis": {
           "colorbar": {
            "outlinewidth": 0,
            "ticks": ""
           }
          },
          "colorscale": {
           "diverging": [
            [
             0,
             "#8e0152"
            ],
            [
             0.1,
             "#c51b7d"
            ],
            [
             0.2,
             "#de77ae"
            ],
            [
             0.3,
             "#f1b6da"
            ],
            [
             0.4,
             "#fde0ef"
            ],
            [
             0.5,
             "#f7f7f7"
            ],
            [
             0.6,
             "#e6f5d0"
            ],
            [
             0.7,
             "#b8e186"
            ],
            [
             0.8,
             "#7fbc41"
            ],
            [
             0.9,
             "#4d9221"
            ],
            [
             1,
             "#276419"
            ]
           ],
           "sequential": [
            [
             0,
             "#0d0887"
            ],
            [
             0.1111111111111111,
             "#46039f"
            ],
            [
             0.2222222222222222,
             "#7201a8"
            ],
            [
             0.3333333333333333,
             "#9c179e"
            ],
            [
             0.4444444444444444,
             "#bd3786"
            ],
            [
             0.5555555555555556,
             "#d8576b"
            ],
            [
             0.6666666666666666,
             "#ed7953"
            ],
            [
             0.7777777777777778,
             "#fb9f3a"
            ],
            [
             0.8888888888888888,
             "#fdca26"
            ],
            [
             1,
             "#f0f921"
            ]
           ],
           "sequentialminus": [
            [
             0,
             "#0d0887"
            ],
            [
             0.1111111111111111,
             "#46039f"
            ],
            [
             0.2222222222222222,
             "#7201a8"
            ],
            [
             0.3333333333333333,
             "#9c179e"
            ],
            [
             0.4444444444444444,
             "#bd3786"
            ],
            [
             0.5555555555555556,
             "#d8576b"
            ],
            [
             0.6666666666666666,
             "#ed7953"
            ],
            [
             0.7777777777777778,
             "#fb9f3a"
            ],
            [
             0.8888888888888888,
             "#fdca26"
            ],
            [
             1,
             "#f0f921"
            ]
           ]
          },
          "colorway": [
           "#636efa",
           "#EF553B",
           "#00cc96",
           "#ab63fa",
           "#FFA15A",
           "#19d3f3",
           "#FF6692",
           "#B6E880",
           "#FF97FF",
           "#FECB52"
          ],
          "font": {
           "color": "#2a3f5f"
          },
          "geo": {
           "bgcolor": "white",
           "lakecolor": "white",
           "landcolor": "#E5ECF6",
           "showlakes": true,
           "showland": true,
           "subunitcolor": "white"
          },
          "hoverlabel": {
           "align": "left"
          },
          "hovermode": "closest",
          "mapbox": {
           "style": "light"
          },
          "paper_bgcolor": "white",
          "plot_bgcolor": "#E5ECF6",
          "polar": {
           "angularaxis": {
            "gridcolor": "white",
            "linecolor": "white",
            "ticks": ""
           },
           "bgcolor": "#E5ECF6",
           "radialaxis": {
            "gridcolor": "white",
            "linecolor": "white",
            "ticks": ""
           }
          },
          "scene": {
           "xaxis": {
            "backgroundcolor": "#E5ECF6",
            "gridcolor": "white",
            "gridwidth": 2,
            "linecolor": "white",
            "showbackground": true,
            "ticks": "",
            "zerolinecolor": "white"
           },
           "yaxis": {
            "backgroundcolor": "#E5ECF6",
            "gridcolor": "white",
            "gridwidth": 2,
            "linecolor": "white",
            "showbackground": true,
            "ticks": "",
            "zerolinecolor": "white"
           },
           "zaxis": {
            "backgroundcolor": "#E5ECF6",
            "gridcolor": "white",
            "gridwidth": 2,
            "linecolor": "white",
            "showbackground": true,
            "ticks": "",
            "zerolinecolor": "white"
           }
          },
          "shapedefaults": {
           "line": {
            "color": "#2a3f5f"
           }
          },
          "ternary": {
           "aaxis": {
            "gridcolor": "white",
            "linecolor": "white",
            "ticks": ""
           },
           "baxis": {
            "gridcolor": "white",
            "linecolor": "white",
            "ticks": ""
           },
           "bgcolor": "#E5ECF6",
           "caxis": {
            "gridcolor": "white",
            "linecolor": "white",
            "ticks": ""
           }
          },
          "title": {
           "x": 0.05
          },
          "xaxis": {
           "automargin": true,
           "gridcolor": "white",
           "linecolor": "white",
           "ticks": "",
           "title": {
            "standoff": 15
           },
           "zerolinecolor": "white",
           "zerolinewidth": 2
          },
          "yaxis": {
           "automargin": true,
           "gridcolor": "white",
           "linecolor": "white",
           "ticks": "",
           "title": {
            "standoff": 15
           },
           "zerolinecolor": "white",
           "zerolinewidth": 2
          }
         }
        },
        "title": {
         "text": "dam spillage 28/2/2011"
        }
       }
      },
      "text/html": [
       "<div>\n",
       "        \n",
       "        \n",
       "            <div id=\"04aaf229-7129-4102-9de7-b29dd9267a53\" class=\"plotly-graph-div\" style=\"height:525px; width:100%;\"></div>\n",
       "            <script type=\"text/javascript\">\n",
       "                require([\"plotly\"], function(Plotly) {\n",
       "                    window.PLOTLYENV=window.PLOTLYENV || {};\n",
       "                    \n",
       "                if (document.getElementById(\"04aaf229-7129-4102-9de7-b29dd9267a53\")) {\n",
       "                    Plotly.newPlot(\n",
       "                        '04aaf229-7129-4102-9de7-b29dd9267a53',\n",
       "                        [{\"customdata\": [[\" Wivenhoe Last Observation (ML)\", 933492.85], [\"Enoggera Last Observation (ML)\", 4289.23], [\"Lake Manchester Last Observation (ML)\", 25924.82], [\"Leslie Harrison Last Observation (ML)\", 24434.45], [\"Gold Creek Last Observation (ML)\", 914.97]], \"hovertemplate\": \"<b>%{hovertext}</b><br><br>28 Feb 2011=%{marker.color}<br>Dam level=%{customdata[0]}<br>28/2/2011=%{customdata[1]}<br>text=%{text}<br>Lat=%{lat}<br>Long=%{lon}<extra></extra>\", \"hovertext\": [\" Wivenhoe Last Observation (ML)\", \"Enoggera Last Observation (ML)\", \"Lake Manchester Last Observation (ML)\", \"Leslie Harrison Last Observation (ML)\", \"Gold Creek Last Observation (ML)\"], \"lat\": [-27.3944, -27.4224, -27.4882, -27.53, -27.4618], \"legendgroup\": \"\", \"lon\": [152.6087, 152.9908, 152.752, 153.179, 152.8812], \"marker\": {\"color\": [0, 1, 0, 1, 1], \"coloraxis\": \"coloraxis\", \"size\": [0, 1, 0, 1, 1], \"sizemode\": \"area\", \"sizeref\": 0.012345679012345678}, \"mode\": \"markers+text\", \"name\": \"\", \"showlegend\": false, \"subplot\": \"mapbox\", \"text\": [\" Wivenhoe Last Observation (ML)<br>-27.3944<br>152.6087\", \"Enoggera Last Observation (ML)<br>-27.4224<br>152.9908\", \"Lake Manchester Last Observation (ML)<br>-27.4882<br>152.752\", \"Leslie Harrison Last Observation (ML)<br>-27.53<br>153.179\", \"Gold Creek Last Observation (ML)<br>-27.4618<br>152.8812\"], \"type\": \"scattermapbox\"}],\n",
       "                        {\"coloraxis\": {\"cmax\": 1, \"cmin\": 0, \"colorbar\": {\"title\": {\"text\": \"28 Feb 2011\"}}, \"colorscale\": [[0.0, \"#0d0887\"], [0.1111111111111111, \"#46039f\"], [0.2222222222222222, \"#7201a8\"], [0.3333333333333333, \"#9c179e\"], [0.4444444444444444, \"#bd3786\"], [0.5555555555555556, \"#d8576b\"], [0.6666666666666666, \"#ed7953\"], [0.7777777777777778, \"#fb9f3a\"], [0.8888888888888888, \"#fdca26\"], [1.0, \"#f0f921\"]]}, \"legend\": {\"itemsizing\": \"constant\", \"tracegroupgap\": 0}, \"mapbox\": {\"center\": {\"lat\": -27.45936, \"lon\": 152.88234}, \"domain\": {\"x\": [0.0, 1.0], \"y\": [0.0, 1.0]}, \"style\": \"carto-positron\", \"zoom\": 9}, \"template\": {\"data\": {\"bar\": [{\"error_x\": {\"color\": \"#2a3f5f\"}, \"error_y\": {\"color\": \"#2a3f5f\"}, \"marker\": {\"line\": {\"color\": \"#E5ECF6\", \"width\": 0.5}}, \"type\": \"bar\"}], \"barpolar\": [{\"marker\": {\"line\": {\"color\": \"#E5ECF6\", \"width\": 0.5}}, \"type\": \"barpolar\"}], \"carpet\": [{\"aaxis\": {\"endlinecolor\": \"#2a3f5f\", \"gridcolor\": \"white\", \"linecolor\": \"white\", \"minorgridcolor\": \"white\", \"startlinecolor\": \"#2a3f5f\"}, \"baxis\": {\"endlinecolor\": \"#2a3f5f\", \"gridcolor\": \"white\", \"linecolor\": \"white\", \"minorgridcolor\": \"white\", \"startlinecolor\": \"#2a3f5f\"}, \"type\": \"carpet\"}], \"choropleth\": [{\"colorbar\": {\"outlinewidth\": 0, \"ticks\": \"\"}, \"type\": \"choropleth\"}], \"contour\": [{\"colorbar\": {\"outlinewidth\": 0, \"ticks\": \"\"}, \"colorscale\": [[0.0, \"#0d0887\"], [0.1111111111111111, \"#46039f\"], [0.2222222222222222, \"#7201a8\"], [0.3333333333333333, \"#9c179e\"], [0.4444444444444444, \"#bd3786\"], [0.5555555555555556, \"#d8576b\"], [0.6666666666666666, \"#ed7953\"], [0.7777777777777778, \"#fb9f3a\"], [0.8888888888888888, \"#fdca26\"], [1.0, \"#f0f921\"]], \"type\": \"contour\"}], \"contourcarpet\": [{\"colorbar\": {\"outlinewidth\": 0, \"ticks\": \"\"}, \"type\": \"contourcarpet\"}], \"heatmap\": [{\"colorbar\": {\"outlinewidth\": 0, \"ticks\": \"\"}, \"colorscale\": [[0.0, \"#0d0887\"], [0.1111111111111111, \"#46039f\"], [0.2222222222222222, \"#7201a8\"], [0.3333333333333333, \"#9c179e\"], [0.4444444444444444, \"#bd3786\"], [0.5555555555555556, \"#d8576b\"], [0.6666666666666666, \"#ed7953\"], [0.7777777777777778, \"#fb9f3a\"], [0.8888888888888888, \"#fdca26\"], [1.0, \"#f0f921\"]], \"type\": \"heatmap\"}], \"heatmapgl\": [{\"colorbar\": {\"outlinewidth\": 0, \"ticks\": \"\"}, \"colorscale\": [[0.0, \"#0d0887\"], [0.1111111111111111, \"#46039f\"], [0.2222222222222222, \"#7201a8\"], [0.3333333333333333, \"#9c179e\"], [0.4444444444444444, \"#bd3786\"], [0.5555555555555556, \"#d8576b\"], [0.6666666666666666, \"#ed7953\"], [0.7777777777777778, \"#fb9f3a\"], [0.8888888888888888, \"#fdca26\"], [1.0, \"#f0f921\"]], \"type\": \"heatmapgl\"}], \"histogram\": [{\"marker\": {\"colorbar\": {\"outlinewidth\": 0, \"ticks\": \"\"}}, \"type\": \"histogram\"}], \"histogram2d\": [{\"colorbar\": {\"outlinewidth\": 0, \"ticks\": \"\"}, \"colorscale\": [[0.0, \"#0d0887\"], [0.1111111111111111, \"#46039f\"], [0.2222222222222222, \"#7201a8\"], [0.3333333333333333, \"#9c179e\"], [0.4444444444444444, \"#bd3786\"], [0.5555555555555556, \"#d8576b\"], [0.6666666666666666, \"#ed7953\"], [0.7777777777777778, \"#fb9f3a\"], [0.8888888888888888, \"#fdca26\"], [1.0, \"#f0f921\"]], \"type\": \"histogram2d\"}], \"histogram2dcontour\": [{\"colorbar\": {\"outlinewidth\": 0, \"ticks\": \"\"}, \"colorscale\": [[0.0, \"#0d0887\"], [0.1111111111111111, \"#46039f\"], [0.2222222222222222, \"#7201a8\"], [0.3333333333333333, \"#9c179e\"], [0.4444444444444444, \"#bd3786\"], [0.5555555555555556, \"#d8576b\"], [0.6666666666666666, \"#ed7953\"], [0.7777777777777778, \"#fb9f3a\"], [0.8888888888888888, \"#fdca26\"], [1.0, \"#f0f921\"]], \"type\": \"histogram2dcontour\"}], \"mesh3d\": [{\"colorbar\": {\"outlinewidth\": 0, \"ticks\": \"\"}, \"type\": \"mesh3d\"}], \"parcoords\": [{\"line\": {\"colorbar\": {\"outlinewidth\": 0, \"ticks\": \"\"}}, \"type\": \"parcoords\"}], \"pie\": [{\"automargin\": true, \"type\": \"pie\"}], \"scatter\": [{\"marker\": {\"colorbar\": {\"outlinewidth\": 0, \"ticks\": \"\"}}, \"type\": \"scatter\"}], \"scatter3d\": [{\"line\": {\"colorbar\": {\"outlinewidth\": 0, \"ticks\": \"\"}}, \"marker\": {\"colorbar\": {\"outlinewidth\": 0, \"ticks\": \"\"}}, \"type\": \"scatter3d\"}], \"scattercarpet\": [{\"marker\": {\"colorbar\": {\"outlinewidth\": 0, \"ticks\": \"\"}}, \"type\": \"scattercarpet\"}], \"scattergeo\": [{\"marker\": {\"colorbar\": {\"outlinewidth\": 0, \"ticks\": \"\"}}, \"type\": \"scattergeo\"}], \"scattergl\": [{\"marker\": {\"colorbar\": {\"outlinewidth\": 0, \"ticks\": \"\"}}, \"type\": \"scattergl\"}], \"scattermapbox\": [{\"marker\": {\"colorbar\": {\"outlinewidth\": 0, \"ticks\": \"\"}}, \"type\": \"scattermapbox\"}], \"scatterpolar\": [{\"marker\": {\"colorbar\": {\"outlinewidth\": 0, \"ticks\": \"\"}}, \"type\": \"scatterpolar\"}], \"scatterpolargl\": [{\"marker\": {\"colorbar\": {\"outlinewidth\": 0, \"ticks\": \"\"}}, \"type\": \"scatterpolargl\"}], \"scatterternary\": [{\"marker\": {\"colorbar\": {\"outlinewidth\": 0, \"ticks\": \"\"}}, \"type\": \"scatterternary\"}], \"surface\": [{\"colorbar\": {\"outlinewidth\": 0, \"ticks\": \"\"}, \"colorscale\": [[0.0, \"#0d0887\"], [0.1111111111111111, \"#46039f\"], [0.2222222222222222, \"#7201a8\"], [0.3333333333333333, \"#9c179e\"], [0.4444444444444444, \"#bd3786\"], [0.5555555555555556, \"#d8576b\"], [0.6666666666666666, \"#ed7953\"], [0.7777777777777778, \"#fb9f3a\"], [0.8888888888888888, \"#fdca26\"], [1.0, \"#f0f921\"]], \"type\": \"surface\"}], \"table\": [{\"cells\": {\"fill\": {\"color\": \"#EBF0F8\"}, \"line\": {\"color\": \"white\"}}, \"header\": {\"fill\": {\"color\": \"#C8D4E3\"}, \"line\": {\"color\": \"white\"}}, \"type\": \"table\"}]}, \"layout\": {\"annotationdefaults\": {\"arrowcolor\": \"#2a3f5f\", \"arrowhead\": 0, \"arrowwidth\": 1}, \"coloraxis\": {\"colorbar\": {\"outlinewidth\": 0, \"ticks\": \"\"}}, \"colorscale\": {\"diverging\": [[0, \"#8e0152\"], [0.1, \"#c51b7d\"], [0.2, \"#de77ae\"], [0.3, \"#f1b6da\"], [0.4, \"#fde0ef\"], [0.5, \"#f7f7f7\"], [0.6, \"#e6f5d0\"], [0.7, \"#b8e186\"], [0.8, \"#7fbc41\"], [0.9, \"#4d9221\"], [1, \"#276419\"]], \"sequential\": [[0.0, \"#0d0887\"], [0.1111111111111111, \"#46039f\"], [0.2222222222222222, \"#7201a8\"], [0.3333333333333333, \"#9c179e\"], [0.4444444444444444, \"#bd3786\"], [0.5555555555555556, \"#d8576b\"], [0.6666666666666666, \"#ed7953\"], [0.7777777777777778, \"#fb9f3a\"], [0.8888888888888888, \"#fdca26\"], [1.0, \"#f0f921\"]], \"sequentialminus\": [[0.0, \"#0d0887\"], [0.1111111111111111, \"#46039f\"], [0.2222222222222222, \"#7201a8\"], [0.3333333333333333, \"#9c179e\"], [0.4444444444444444, \"#bd3786\"], [0.5555555555555556, \"#d8576b\"], [0.6666666666666666, \"#ed7953\"], [0.7777777777777778, \"#fb9f3a\"], [0.8888888888888888, \"#fdca26\"], [1.0, \"#f0f921\"]]}, \"colorway\": [\"#636efa\", \"#EF553B\", \"#00cc96\", \"#ab63fa\", \"#FFA15A\", \"#19d3f3\", \"#FF6692\", \"#B6E880\", \"#FF97FF\", \"#FECB52\"], \"font\": {\"color\": \"#2a3f5f\"}, \"geo\": {\"bgcolor\": \"white\", \"lakecolor\": \"white\", \"landcolor\": \"#E5ECF6\", \"showlakes\": true, \"showland\": true, \"subunitcolor\": \"white\"}, \"hoverlabel\": {\"align\": \"left\"}, \"hovermode\": \"closest\", \"mapbox\": {\"style\": \"light\"}, \"paper_bgcolor\": \"white\", \"plot_bgcolor\": \"#E5ECF6\", \"polar\": {\"angularaxis\": {\"gridcolor\": \"white\", \"linecolor\": \"white\", \"ticks\": \"\"}, \"bgcolor\": \"#E5ECF6\", \"radialaxis\": {\"gridcolor\": \"white\", \"linecolor\": \"white\", \"ticks\": \"\"}}, \"scene\": {\"xaxis\": {\"backgroundcolor\": \"#E5ECF6\", \"gridcolor\": \"white\", \"gridwidth\": 2, \"linecolor\": \"white\", \"showbackground\": true, \"ticks\": \"\", \"zerolinecolor\": \"white\"}, \"yaxis\": {\"backgroundcolor\": \"#E5ECF6\", \"gridcolor\": \"white\", \"gridwidth\": 2, \"linecolor\": \"white\", \"showbackground\": true, \"ticks\": \"\", \"zerolinecolor\": \"white\"}, \"zaxis\": {\"backgroundcolor\": \"#E5ECF6\", \"gridcolor\": \"white\", \"gridwidth\": 2, \"linecolor\": \"white\", \"showbackground\": true, \"ticks\": \"\", \"zerolinecolor\": \"white\"}}, \"shapedefaults\": {\"line\": {\"color\": \"#2a3f5f\"}}, \"ternary\": {\"aaxis\": {\"gridcolor\": \"white\", \"linecolor\": \"white\", \"ticks\": \"\"}, \"baxis\": {\"gridcolor\": \"white\", \"linecolor\": \"white\", \"ticks\": \"\"}, \"bgcolor\": \"#E5ECF6\", \"caxis\": {\"gridcolor\": \"white\", \"linecolor\": \"white\", \"ticks\": \"\"}}, \"title\": {\"x\": 0.05}, \"xaxis\": {\"automargin\": true, \"gridcolor\": \"white\", \"linecolor\": \"white\", \"ticks\": \"\", \"title\": {\"standoff\": 15}, \"zerolinecolor\": \"white\", \"zerolinewidth\": 2}, \"yaxis\": {\"automargin\": true, \"gridcolor\": \"white\", \"linecolor\": \"white\", \"ticks\": \"\", \"title\": {\"standoff\": 15}, \"zerolinecolor\": \"white\", \"zerolinewidth\": 2}}}, \"title\": {\"text\": \"dam spillage 28/2/2011\"}},\n",
       "                        {\"responsive\": true}\n",
       "                    ).then(function(){\n",
       "                            \n",
       "var gd = document.getElementById('04aaf229-7129-4102-9de7-b29dd9267a53');\n",
       "var x = new MutationObserver(function (mutations, observer) {{\n",
       "        var display = window.getComputedStyle(gd).display;\n",
       "        if (!display || display === 'none') {{\n",
       "            console.log([gd, 'removed!']);\n",
       "            Plotly.purge(gd);\n",
       "            observer.disconnect();\n",
       "        }}\n",
       "}});\n",
       "\n",
       "// Listen for the removal of the full notebook cells\n",
       "var notebookContainer = gd.closest('#notebook-container');\n",
       "if (notebookContainer) {{\n",
       "    x.observe(notebookContainer, {childList: true});\n",
       "}}\n",
       "\n",
       "// Listen for the clearing of the current output cell\n",
       "var outputEl = gd.closest('.output');\n",
       "if (outputEl) {{\n",
       "    x.observe(outputEl, {childList: true});\n",
       "}}\n",
       "\n",
       "                        })\n",
       "                };\n",
       "                });\n",
       "            </script>\n",
       "        </div>"
      ]
     },
     "metadata": {},
     "output_type": "display_data"
    }
   ],
   "source": [
    "fig = ex.scatter_mapbox(ef, lat='Lat', lon='Long',\n",
    "                  color=\"28 Feb 2011\", size=\"28 Feb 2011\",\n",
    "                       color_discrete_map={\"black\", \"yellow\"},\n",
    "                  size_max=9, zoom=9, hover_name='Dam level',center=dict(lat=-27.45936, lon=152.88234), \n",
    "                  hover_data = ['Dam level','28/2/2011'], range_color= (0,1), text=[ef['Dam level'][i] + '<br>' + ef['Lat'][i].astype(str) + '<br>' + ef['Long'][i].astype(str) for i in range(ef.shape[0])],\n",
    "                  title = 'dam spillage 28/2/2011',mapbox_style=\"carto-positron\")\n",
    "fig.show()  "
   ]
  },
  {
   "cell_type": "code",
   "execution_count": null,
   "id": "699aed45",
   "metadata": {},
   "outputs": [],
   "source": []
  }
 ],
 "metadata": {
  "kernelspec": {
   "display_name": "Python 3 (ipykernel)",
   "language": "python",
   "name": "python3"
  },
  "language_info": {
   "codemirror_mode": {
    "name": "ipython",
    "version": 3
   },
   "file_extension": ".py",
   "mimetype": "text/x-python",
   "name": "python",
   "nbconvert_exporter": "python",
   "pygments_lexer": "ipython3",
   "version": "3.10.5"
  }
 },
 "nbformat": 4,
 "nbformat_minor": 5
}
